{
 "cells": [
  {
   "cell_type": "markdown",
   "metadata": {},
   "source": [
    "# Regression Week 2: Multiple Regression (gradient descent)"
   ]
  },
  {
   "cell_type": "markdown",
   "metadata": {},
   "source": [
    "In the first notebook we explored multiple regression using graphlab create. Now we will use graphlab along with numpy to solve for the regression weights with gradient descent.\n",
    "\n",
    "In this notebook we will cover estimating multiple regression weights via gradient descent. You will:\n",
    "* Add a constant column of 1's to a graphlab SFrame to account for the intercept\n",
    "* Convert an SFrame into a Numpy array\n",
    "* Write a predict_output() function using Numpy\n",
    "* Write a numpy function to compute the derivative of the regression weights with respect to a single feature\n",
    "* Write gradient descent function to compute the regression weights given an initial weight vector, step size and tolerance.\n",
    "* Use the gradient descent function to estimate regression weights for multiple features"
   ]
  },
  {
   "cell_type": "markdown",
   "metadata": {},
   "source": [
    "# Fire up graphlab create"
   ]
  },
  {
   "cell_type": "markdown",
   "metadata": {},
   "source": [
    "Make sure you have the latest version of graphlab (>= 1.7)"
   ]
  },
  {
   "cell_type": "code",
   "execution_count": 141,
   "metadata": {
    "collapsed": false
   },
   "outputs": [],
   "source": [
    "import graphlab"
   ]
  },
  {
   "cell_type": "markdown",
   "metadata": {},
   "source": [
    "# Load in house sales data\n",
    "\n",
    "Dataset is from house sales in King County, the region where the city of Seattle, WA is located."
   ]
  },
  {
   "cell_type": "code",
   "execution_count": 142,
   "metadata": {
    "collapsed": false
   },
   "outputs": [],
   "source": [
    "sales = graphlab.SFrame('kc_house_data.gl/')"
   ]
  },
  {
   "cell_type": "markdown",
   "metadata": {},
   "source": [
    "If we want to do any \"feature engineering\" like creating new features or adjusting existing ones we should do this directly using the SFrames as seen in the other Week 2 notebook. For this notebook, however, we will work with the existing features."
   ]
  },
  {
   "cell_type": "markdown",
   "metadata": {},
   "source": [
    "# Convert to Numpy Array"
   ]
  },
  {
   "cell_type": "markdown",
   "metadata": {},
   "source": [
    "Although SFrames offer a number of benefits to users (especially when using Big Data and built-in graphlab functions) in order to understand the details of the implementation of algorithms it's important to work with a library that allows for direct (and optimized) matrix operations. Numpy is a Python solution to work with matrices (or any multi-dimensional \"array\").\n",
    "\n",
    "Recall that the predicted value given the weights and the features is just the dot product between the feature and weight vector. Similarly, if we put all of the features row-by-row in a matrix then the predicted value for *all* the observations can be computed by right multiplying the \"feature matrix\" by the \"weight vector\". \n",
    "\n",
    "First we need to take the SFrame of our data and convert it into a 2D numpy array (also called a matrix). To do this we use graphlab's built in .to_dataframe() which converts the SFrame into a Pandas (another python library) dataframe. We can then use Panda's .as_matrix() to convert the dataframe into a numpy matrix."
   ]
  },
  {
   "cell_type": "code",
   "execution_count": 143,
   "metadata": {
    "collapsed": true
   },
   "outputs": [],
   "source": [
    "import numpy as np # note this allows us to refer to numpy as np instead "
   ]
  },
  {
   "cell_type": "markdown",
   "metadata": {},
   "source": [
    "Now we will write a function that will accept an SFrame, a list of feature names (e.g. ['sqft_living', 'bedrooms']) and an target feature e.g. ('price') and will return two things:\n",
    "* A numpy matrix whose columns are the desired features plus a constant column (this is how we create an 'intercept')\n",
    "* A numpy array containing the values of the output\n",
    "\n",
    "With this in mind, complete the following function (where there's an empty line you should write a line of code that does what the comment above indicates)\n",
    "\n",
    "**Please note you will need GraphLab Create version at least 1.7.1 in order for .to_numpy() to work!**"
   ]
  },
  {
   "cell_type": "code",
   "execution_count": 144,
   "metadata": {
    "collapsed": false
   },
   "outputs": [],
   "source": [
    "def get_numpy_data(data_sframe, features, output):\n",
    "    data_sframe['constant'] = 1 # this is how you add a constant column to an SFrame\n",
    "    # add the column 'constant' to the front of the features list so that we can extract it along with the others:\n",
    "    features = ['constant'] + features # this is how you combine two lists\n",
    "    # select the columns of data_SFrame given by the features list into the SFrame features_sframe (now including constant):\n",
    "    features_sframe = data_sframe[features]\n",
    "    # the following line will convert the features_SFrame into a numpy matrix:\n",
    "    feature_matrix = features_sframe.to_numpy()\n",
    "    # assign the column of data_sframe associated with the output to the SArray output_sarray\n",
    "    output_sarray = data_sframe[output]\n",
    "    # the following will convert the SArray into a numpy array by first converting it to a list\n",
    "    output_array = output_sarray.to_numpy()\n",
    "\n",
    "    return(feature_matrix, output_array)"
   ]
  },
  {
   "cell_type": "markdown",
   "metadata": {},
   "source": [
    "For testing let's use the 'sqft_living' feature and a constant as our features and price as our output:"
   ]
  },
  {
   "cell_type": "code",
   "execution_count": 145,
   "metadata": {
    "collapsed": false
   },
   "outputs": [
    {
     "name": "stdout",
     "output_type": "stream",
     "text": [
      "[  1.00000000e+00   1.18000000e+03]\n",
      "221900.0\n"
     ]
    }
   ],
   "source": [
    "(example_features, example_output) = get_numpy_data(sales, ['sqft_living'], 'price') # the [] around 'sqft_living' makes it a list\n",
    "print example_features[0,:] # this accesses the first row of the data the ':' indicates 'all columns'\n",
    "print example_output[0] # and the corresponding output"
   ]
  },
  {
   "cell_type": "markdown",
   "metadata": {},
   "source": [
    "# Predicting output given regression weights"
   ]
  },
  {
   "cell_type": "markdown",
   "metadata": {},
   "source": [
    "Suppose we had the weights [1.0, 1.0] and the features [1.0, 1180.0] and we wanted to compute the predicted output 1.0\\*1.0 + 1.0\\*1180.0 = 1181.0 this is the dot product between these two arrays. If they're numpy arrayws we can use np.dot() to compute this:"
   ]
  },
  {
   "cell_type": "code",
   "execution_count": 146,
   "metadata": {
    "collapsed": false
   },
   "outputs": [
    {
     "name": "stdout",
     "output_type": "stream",
     "text": [
      "1181.0\n"
     ]
    }
   ],
   "source": [
    "my_weights = np.array([1., 1.]) # the example weights\n",
    "my_features = example_features[0,] # we'll use the first data point\n",
    "predicted_value = np.dot(my_features, my_weights)\n",
    "print predicted_value"
   ]
  },
  {
   "cell_type": "markdown",
   "metadata": {},
   "source": [
    "np.dot() also works when dealing with a matrix and a vector. Recall that the predictions from all the observations is just the RIGHT (as in weights on the right) dot product between the features *matrix* and the weights *vector*. With this in mind finish the following predict_output function to compute the predictions for an entire matrix of features given the matrix and the weights:"
   ]
  },
  {
   "cell_type": "code",
   "execution_count": 147,
   "metadata": {
    "collapsed": true
   },
   "outputs": [],
   "source": [
    "def predict_output(feature_matrix, weights):\n",
    "    # assume feature_matrix is a numpy matrix containing the features as columns and weights is a corresponding numpy array\n",
    "    # create the predictions vector by using np.dot()\n",
    "    predictions = np.dot(feature_matrix, weights)\n",
    "    return(predictions)"
   ]
  },
  {
   "cell_type": "markdown",
   "metadata": {},
   "source": [
    "If you want to test your code run the following cell:"
   ]
  },
  {
   "cell_type": "code",
   "execution_count": 148,
   "metadata": {
    "collapsed": false
   },
   "outputs": [
    {
     "name": "stdout",
     "output_type": "stream",
     "text": [
      "1181.0\n",
      "2571.0\n"
     ]
    }
   ],
   "source": [
    "test_predictions = predict_output(example_features, my_weights)\n",
    "print test_predictions[0] # should be 1181.0\n",
    "print test_predictions[1] # should be 2571.0"
   ]
  },
  {
   "cell_type": "markdown",
   "metadata": {},
   "source": [
    "# Computing the Derivative"
   ]
  },
  {
   "cell_type": "markdown",
   "metadata": {},
   "source": [
    "We are now going to move to computing the derivative of the regression cost function. Recall that the cost function is the sum over the data points of the squared difference between an observed output and a predicted output.\n",
    "\n",
    "Since the derivative of a sum is the sum of the derivatives we can compute the derivative for a single data point and then sum over data points. We can write the squared difference between the observed output and predicted output for a single point as follows:\n",
    "\n",
    "(w[0]\\*[CONSTANT] + w[1]\\*[feature_1] + ... + w[i] \\*[feature_i] + ... +  w[k]\\*[feature_k] - output)^2\n",
    "\n",
    "Where we have k features and a constant. So the derivative with respect to weight w[i] by the chain rule is:\n",
    "\n",
    "2\\*(w[0]\\*[CONSTANT] + w[1]\\*[feature_1] + ... + w[i] \\*[feature_i] + ... +  w[k]\\*[feature_k] - output)\\* [feature_i]\n",
    "\n",
    "The term inside the paranethesis is just the error (difference between prediction and output). So we can re-write this as:\n",
    "\n",
    "2\\*error\\*[feature_i]\n",
    "\n",
    "That is, the derivative for the weight for feature i is the sum (over data points) of 2 times the product of the error and the feature itself. In the case of the constant then this is just twice the sum of the errors!\n",
    "\n",
    "Recall that twice the sum of the product of two vectors is just twice the dot product of the two vectors. Therefore the derivative for the weight for feature_i is just two times the dot product between the values of feature_i and the current errors. \n",
    "\n",
    "With this in mind complete the following derivative function which computes the derivative of the weight given the value of the feature (over all data points) and the errors (over all data points)."
   ]
  },
  {
   "cell_type": "code",
   "execution_count": 149,
   "metadata": {
    "collapsed": true
   },
   "outputs": [],
   "source": [
    "def feature_derivative(errors, feature):\n",
    "    # Assume that errors and feature are both numpy arrays of the same length (number of data points)\n",
    "    # compute twice the dot product of these vectors as 'derivative' and return the value\n",
    "    derivative = 2 * np.dot(errors, feature)\n",
    "    return(derivative)"
   ]
  },
  {
   "cell_type": "markdown",
   "metadata": {},
   "source": [
    "To test your feature derivartive run the following:"
   ]
  },
  {
   "cell_type": "code",
   "execution_count": 150,
   "metadata": {
    "collapsed": false
   },
   "outputs": [
    {
     "name": "stdout",
     "output_type": "stream",
     "text": [
      "-23345850022.0\n",
      "-23345850022.0\n"
     ]
    }
   ],
   "source": [
    "(example_features, example_output) = get_numpy_data(sales, ['sqft_living'], 'price') \n",
    "my_weights = np.array([0., 0.]) # this makes all the predictions 0\n",
    "test_predictions = predict_output(example_features, my_weights) \n",
    "# just like SFrames 2 numpy arrays can be elementwise subtracted with '-': \n",
    "errors = test_predictions - example_output # prediction errors in this case is just the -example_output\n",
    "feature = example_features[:,0] # let's compute the derivative with respect to 'constant', the \":\" indicates \"all rows\"\n",
    "derivative = feature_derivative(errors, feature)\n",
    "print derivative\n",
    "print -np.sum(example_output)*2 # should be the same as derivative"
   ]
  },
  {
   "cell_type": "markdown",
   "metadata": {},
   "source": [
    "# Gradient Descent"
   ]
  },
  {
   "cell_type": "markdown",
   "metadata": {},
   "source": [
    "Now we will write a function that performs a gradient descent. The basic premise is simple. Given a starting point we update the current weights by moving in the negative gradient direction. Recall that the gradient is the direction of *increase* and therefore the negative gradient is the direction of *decrease* and we're trying to *minimize* a cost function. \n",
    "\n",
    "The amount by which we move in the negative gradient *direction*  is called the 'step size'. We stop when we are 'sufficiently close' to the optimum. We define this by requiring that the magnitude (length) of the gradient vector to be smaller than a fixed 'tolerance'.\n",
    "\n",
    "With this in mind, complete the following gradient descent function below using your derivative function above. For each step in the gradient descent we update the weight for each feature befofe computing our stopping criteria"
   ]
  },
  {
   "cell_type": "code",
   "execution_count": 151,
   "metadata": {
    "collapsed": true
   },
   "outputs": [],
   "source": [
    "from math import sqrt # recall that the magnitude/length of a vector [g[0], g[1], g[2]] is sqrt(g[0]^2 + g[1]^2 + g[2]^2)"
   ]
  },
  {
   "cell_type": "code",
   "execution_count": 174,
   "metadata": {
    "collapsed": false
   },
   "outputs": [],
   "source": [
    "def regression_gradient_descent(feature_matrix, output, initial_weights, step_size, tolerance):\n",
    "    converged = False \n",
    "    weights = np.array(initial_weights) # make sure it's a numpy array\n",
    "    while not converged:\n",
    "        # compute the predictions based on feature_matrix and weights using your predict_output() function\n",
    "        predictions = predict_output(feature_matrix, weights)\n",
    "        # compute the errors as predictions - output\n",
    "        errors = predictions - output\n",
    "        gradient_sum_squares = 0 # initialize the gradient sum of squares\n",
    "        # while we haven't reached the tolerance yet, update each feature's weight\n",
    "        for i in range(len(weights)): # loop over each weight\n",
    "            # Recall that feature_matrix[:, i] is the feature column associated with weights[i]\n",
    "            # compute the derivative for weight[i]:\n",
    "            weight_derivative = feature_derivative(errors, feature_matrix[:, i])\n",
    "            print weight_derivative\n",
    "            # add the squared value of the derivative to the gradient magnitude (for assessing convergence)\n",
    "            gradient_sum_squares += weight_derivative * weight_derivative\n",
    "            # subtract the step size times the derivative from the current weight\n",
    "            weights[i] -= step_size * weight_derivative\n",
    "        # compute the square-root of the gradient sum of squares to get the gradient matnigude:\n",
    "        gradient_magnitude = sqrt(gradient_sum_squares)\n",
    "        if gradient_magnitude < tolerance:\n",
    "            converged = True\n",
    "    return(weights)"
   ]
  },
  {
   "cell_type": "markdown",
   "metadata": {},
   "source": [
    "A few things to note before we run the gradient descent. Since the gradient is a sum over all the data points and involves a product of an error and a feature the gradient itself will be very large since the features are large (squarefeet) and the output is large (prices). So while you might expect \"tolerance\" to be small, small is only relative to the size of the features. \n",
    "\n",
    "For similar reasons the step size will be much smaller than you might expect but this is because the gradient has such large values."
   ]
  },
  {
   "cell_type": "markdown",
   "metadata": {},
   "source": [
    "# Running the Gradient Descent as Simple Regression"
   ]
  },
  {
   "cell_type": "markdown",
   "metadata": {},
   "source": [
    "First let's split the data into training and test data."
   ]
  },
  {
   "cell_type": "code",
   "execution_count": 175,
   "metadata": {
    "collapsed": true
   },
   "outputs": [],
   "source": [
    "train_data,test_data = sales.random_split(.8,seed=0)"
   ]
  },
  {
   "cell_type": "markdown",
   "metadata": {},
   "source": [
    "Although the gradient descent is designed for multiple regression since the constant is now a feature we can use the gradient descent function to estimat the parameters in the simple regression on squarefeet. The folowing cell sets up the feature_matrix, output, initial weights and step size for the first model:"
   ]
  },
  {
   "cell_type": "code",
   "execution_count": 176,
   "metadata": {
    "collapsed": false
   },
   "outputs": [],
   "source": [
    "# let's test out the gradient descent\n",
    "simple_features = ['sqft_living']\n",
    "my_output = 'price'\n",
    "(simple_feature_matrix, output) = get_numpy_data(train_data, simple_features, my_output)\n",
    "initial_weights = np.array([-47000., 1.])\n",
    "step_size = 7e-12\n",
    "tolerance = 2.5e7"
   ]
  },
  {
   "cell_type": "markdown",
   "metadata": {},
   "source": [
    "Next run your gradient descent with the above parameters."
   ]
  },
  {
   "cell_type": "code",
   "execution_count": 177,
   "metadata": {
    "collapsed": false
   },
   "outputs": [
    {
     "name": "stdout",
     "output_type": "stream",
     "text": [
      "-20314476464.0\n",
      "-5.05515266926e+13\n",
      "5276190530.64\n",
      "1.31274499632e+13\n",
      "-1369310060.29\n",
      "-3.40899580752e+12\n",
      "356423704.768\n",
      "885263508348.0\n",
      "-91722674.4832\n",
      "-229889247422.0\n",
      "24654011.9039\n",
      "59698683168.9\n",
      "-5567214.41928\n",
      "-15502825422.5\n",
      "2280770.80818\n",
      "4025843755.44\n",
      "242770.339852\n",
      "-1045449719.97\n",
      "772007.520968\n",
      "271486794.212\n",
      "634572.773602\n",
      "-70501258.8995\n",
      "670262.419423\n",
      "18307751.4087\n",
      "[-46999.88716555    281.91211912]\n"
     ]
    }
   ],
   "source": [
    "simple_weights = regression_gradient_descent(simple_feature_matrix, output, initial_weights, step_size, tolerance)\n",
    "\n",
    "print simple_weights"
   ]
  },
  {
   "cell_type": "markdown",
   "metadata": {},
   "source": [
    "How do your weights compare to those achieved in week 1 (don't expect them to be exactly the same)? \n",
    "\n",
    "**Quiz Question: What is the value of the weight for sqft_living -- the second element of ‘simple_weights’ (rounded to 1 decimal place)?**"
   ]
  },
  {
   "cell_type": "markdown",
   "metadata": {},
   "source": [
    "Use your newly estimated weights and your predict_output() function to compute the predictions on all the TEST data (you will need to create a numpy array of the test feature_matrix and test output first:"
   ]
  },
  {
   "cell_type": "code",
   "execution_count": 178,
   "metadata": {
    "collapsed": false
   },
   "outputs": [],
   "source": [
    "(test_simple_feature_matrix, test_output) = get_numpy_data(test_data, simple_features, my_output)"
   ]
  },
  {
   "cell_type": "markdown",
   "metadata": {},
   "source": [
    "Now compute your predictions using test_simple_feature_matrix and your weights from above."
   ]
  },
  {
   "cell_type": "code",
   "execution_count": 179,
   "metadata": {
    "collapsed": false
   },
   "outputs": [],
   "source": [
    "test_simple_predictions = predict_output(test_simple_feature_matrix, simple_weights)"
   ]
  },
  {
   "cell_type": "markdown",
   "metadata": {},
   "source": [
    "**Quiz Question: What is the predicted price for the 1st house in the TEST data set for model 1 (round to nearest dollar)?**"
   ]
  },
  {
   "cell_type": "code",
   "execution_count": 180,
   "metadata": {
    "collapsed": false
   },
   "outputs": [
    {
     "name": "stdout",
     "output_type": "stream",
     "text": [
      "356134.443171\n"
     ]
    }
   ],
   "source": [
    "print test_simple_predictions[0]"
   ]
  },
  {
   "cell_type": "markdown",
   "metadata": {},
   "source": [
    "Now that you have the predictions on test data, compute the RSS on the test data set. Save this value for comparison later. Recall that RSS is the sum of the squared errors (difference between prediction and output)."
   ]
  },
  {
   "cell_type": "code",
   "execution_count": 181,
   "metadata": {
    "collapsed": false
   },
   "outputs": [
    {
     "name": "stdout",
     "output_type": "stream",
     "text": [
      "2.75400047593e+14\n"
     ]
    }
   ],
   "source": [
    "RSS_simple = ((test_simple_predictions - test_output) * (test_simple_predictions - test_output)).sum()\n",
    "\n",
    "print RSS_simple"
   ]
  },
  {
   "cell_type": "markdown",
   "metadata": {},
   "source": [
    "# Running a multiple regression"
   ]
  },
  {
   "cell_type": "markdown",
   "metadata": {},
   "source": [
    "Now we will use more than one actual feature. Use the following code to produce the weights for a second model with the following parameters:"
   ]
  },
  {
   "cell_type": "code",
   "execution_count": 182,
   "metadata": {
    "collapsed": false
   },
   "outputs": [],
   "source": [
    "model_features = ['sqft_living', 'sqft_living15'] # sqft_living15 is the average squarefeet for the nearest 15 neighbors. \n",
    "my_output = 'price'\n",
    "(feature_matrix, output) = get_numpy_data(train_data, model_features, my_output)\n",
    "initial_weights = np.array([-100000., 1., 1.])\n",
    "step_size = 4e-12\n",
    "tolerance = 1e9"
   ]
  },
  {
   "cell_type": "markdown",
   "metadata": {},
   "source": [
    "Use the above parameters to estimate the model weights. Record these values for your quiz."
   ]
  },
  {
   "cell_type": "code",
   "execution_count": 183,
   "metadata": {
    "collapsed": false
   },
   "outputs": [
    {
     "name": "stdout",
     "output_type": "stream",
     "text": [
      "-22088131390.0\n",
      "-5.42241456313e+13\n",
      "-4.89822593371e+13\n",
      "7126218409.31\n",
      "1.62070050891e+13\n",
      "1.58558470033e+13\n",
      "-1941371779.99\n",
      "-5.62333413279e+12\n",
      "-4.27000346518e+12\n",
      "864671224.15\n",
      "1.16169158388e+12\n",
      "1.95683475947e+12\n",
      "-11846421.7952\n",
      "-928924532386.0\n",
      "10520528506.5\n",
      "253961437.694\n",
      "-267010493601.0\n",
      "599537128254.0\n",
      "165610625.45\n",
      "-459137878334.0\n",
      "402546257133.0\n",
      "187245405.404\n",
      "-386689337854.0\n",
      "449681823946.0\n",
      "174904044.14\n",
      "-396606422958.0\n",
      "421430725824.0\n",
      "173234286.778\n",
      "-381274935306.0\n",
      "416884889043.0\n",
      "168385074.257\n",
      "-374065293968.0\n",
      "405302411297.0\n",
      "164649339.053\n",
      "-364620472137.0\n",
      "396210671100.0\n",
      "160692569.23\n",
      "-356146056912.0\n",
      "386647354676.0\n",
      "156925725.694\n",
      "-347641231744.0\n",
      "377524109204.0\n",
      "153218465.649\n",
      "-339409989019.0\n",
      "368551208365.0\n",
      "149608404.708\n",
      "-331351775524.0\n",
      "359811707747.0\n",
      "146081131.414\n",
      "-323491660105.0\n",
      "351273202835.0\n",
      "142638436.082\n",
      "-315815893998.0\n",
      "342939257716.0\n",
      "139277147.48\n",
      "-308322909788.0\n",
      "334802434400.0\n",
      "135995695.312\n",
      "-301007500274.0\n",
      "326858857535.0\n",
      "132792073.33\n",
      "-293865722248.0\n",
      "319103693471.0\n",
      "129664469.658\n",
      "-286893372341.0\n",
      "311532548983.0\n",
      "126611069.885\n",
      "-280086456622.0\n",
      "304141034051.0\n",
      "123630116.772\n",
      "-273441041896.0\n",
      "296924894148.0\n",
      "120719890.39\n",
      "-266953298840.0\n",
      "289879965975.0\n",
      "117878712.977\n",
      "-260619485715.0\n",
      "283002188025.0\n",
      "115104946.158\n",
      "-254435950575.0\n",
      "276287594220.0\n",
      "112396990.559\n",
      "-248399127804.0\n",
      "269732312874.0\n",
      "109753284.714\n",
      "-242505536485.0\n",
      "263332564071.0\n",
      "107172304.219\n",
      "-236751778258.0\n",
      "257084657606.0\n",
      "104652560.831\n",
      "-231134535405.0\n",
      "250984990820.0\n",
      "102192601.621\n",
      "-225650568920.0\n",
      "245030046537.0\n",
      "99791008.1315\n",
      "-220296716649.0\n",
      "239216391027.0\n",
      "97446395.5609\n",
      "-215069891464.0\n",
      "233540672030.0\n",
      "95157411.9626\n",
      "-209967079482.0\n",
      "227999616824.0\n",
      "92922737.4672\n",
      "-204985338330.0\n",
      "222590030337.0\n",
      "90741083.5208\n",
      "-200121795444.0\n",
      "217308793301.0\n",
      "88611192.1421\n",
      "-195373646419.0\n",
      "212152860460.0\n",
      "86531835.1971\n",
      "-190738153384.0\n",
      "207119258810.0\n",
      "84501813.691\n",
      "-186212643431.0\n",
      "202205085885.0\n",
      "82519957.0763\n",
      "-181794507068.0\n",
      "197407508082.0\n",
      "80585122.5786\n",
      "-177481196717.0\n",
      "192723759032.0\n",
      "78696194.5374\n",
      "-173270225247.0\n",
      "188151138001.0\n",
      "76852083.7622\n",
      "-169159164533.0\n",
      "183687008331.0\n",
      "75051726.9055\n",
      "-165145644065.0\n",
      "179328795924.0\n",
      "73294085.8488\n",
      "-161227349572.0\n",
      "175073987757.0\n",
      "71578147.1043\n",
      "-157402021696.0\n",
      "170920130429.0\n",
      "69902921.2307\n",
      "-153667454682.0\n",
      "166864828752.0\n",
      "68267442.2623\n",
      "-150021495113.0\n",
      "162905744363.0\n",
      "66670767.1522\n",
      "-146462040660.0\n",
      "159040594384.0\n",
      "65111975.2287\n",
      "-142987038879.0\n",
      "155267150099.0\n",
      "63590167.6639\n",
      "-139594486020.0\n",
      "151583235672.0\n",
      "62104466.9561\n",
      "-136282425875.0\n",
      "147986726890.0\n",
      "60654016.4232\n",
      "-133048948651.0\n",
      "144475549941.0\n",
      "59237979.7091\n",
      "-129892189866.0\n",
      "141047680217.0\n",
      "57855540.3015\n",
      "-126810329275.0\n",
      "137701141146.0\n",
      "56505901.0606\n",
      "-123801589822.0\n",
      "134434003052.0\n",
      "55188283.7599\n",
      "-120864236613.0\n",
      "131244382045.0\n",
      "53901928.6375\n",
      "-117996575917.0\n",
      "128130438932.0\n",
      "52646093.9576\n",
      "-115196954188.0\n",
      "125090378156.0\n",
      "51420055.5831\n",
      "-112463757114.0\n",
      "122122446762.0\n",
      "50223106.5581\n",
      "-109795408684.0\n",
      "119224933389.0\n",
      "49054556.7001\n",
      "-107190370279.0\n",
      "116396167276.0\n",
      "47913732.2019\n",
      "-104647139788.0\n",
      "113634517307.0\n",
      "46799975.2436\n",
      "-102164250737.0\n",
      "110938391063.0\n",
      "45712643.6126\n",
      "-99740271447.1\n",
      "108306233909.0\n",
      "44651110.3337\n",
      "-97373804208.5\n",
      "105736528096.0\n",
      "43614763.3077\n",
      "-95063484472.9\n",
      "103227791885.0\n",
      "42603004.958\n",
      "-92807980068.1\n",
      "100778578693.0\n",
      "41615251.8863\n",
      "-90605990429.2\n",
      "98387476258.2\n",
      "40650934.5365\n",
      "-88456245849.0\n",
      "96053105828.8\n",
      "39709496.8655\n",
      "-86357506745.8\n",
      "93774121364.1\n",
      "38790396.0234\n",
      "-84308562948.6\n",
      "91549208760.1\n",
      "37893102.0399\n",
      "-82308232999.1\n",
      "89377085091.9\n",
      "37017097.5191\n",
      "-80355363470.8\n",
      "87256497873.6\n",
      "36161877.3407\n",
      "-78448828303.7\n",
      "85186224336.1\n",
      "35326948.3694\n",
      "-76587528155.0\n",
      "83165070722.1\n",
      "34511829.17\n",
      "-74770389765.2\n",
      "81191871597.7\n",
      "33716049.73\n",
      "-72996365339.4\n",
      "79265489180.5\n",
      "32939151.1884\n",
      "-71264431942.8\n",
      "77384812683.5\n",
      "32180685.5715\n",
      "-69573590911.3\n",
      "75548757674.3\n",
      "31440215.5343\n",
      "-67922867275.2\n",
      "73756265450.5\n",
      "30717314.1083\n",
      "-66311309197.3\n",
      "72006302428.3\n",
      "30011564.4554\n",
      "-64737987423.9\n",
      "70297859547.5\n",
      "29322559.6276\n",
      "-63201994749.2\n",
      "68629951688.7\n",
      "28649902.3321\n",
      "-61702445491.9\n",
      "67001617106.1\n",
      "27993204.7027\n",
      "-60238474984.6\n",
      "65411916872.3\n",
      "27352088.0755\n",
      "-58809239075.5\n",
      "63859934337.4\n",
      "26726182.7711\n",
      "-57413913641.1\n",
      "62344774600.1\n",
      "26115127.8811\n",
      "-56051694111.5\n",
      "60865563991.8\n",
      "25518571.0601\n",
      "-54721795006.2\n",
      "59421449572.7\n",
      "24936168.3227\n",
      "-53423449481.1\n",
      "58011598640.2\n",
      "24367583.8449\n",
      "-52155908886.8\n",
      "56635198248.9\n",
      "23812489.7706\n",
      "-50918442336.2\n",
      "55291454741.1\n",
      "23270566.0225\n",
      "-49710336283.8\n",
      "53979593290.0\n",
      "22741500.1175\n",
      "-48530894113.6\n",
      "52698857452.5\n",
      "22224986.9866\n",
      "-47379435737.8\n",
      "51448508733.0\n",
      "21720728.799\n",
      "-46255297204.7\n",
      "50227826157.8\n",
      "21228434.7902\n",
      "-45157830315.6\n",
      "49036105859.1\n",
      "20747821.0946\n",
      "-44086402251.2\n",
      "47872660669.4\n",
      "20278610.5817\n",
      "-43040395206.5\n",
      "46736819725.0\n",
      "19820532.6961\n",
      "-42019206035.0\n",
      "45627928079.6\n",
      "19373323.3018\n",
      "-41022245900.3\n",
      "44545346325.9\n",
      "18936724.5298\n",
      "-40048939937.3\n",
      "43488450227.7\n",
      "18510484.6294\n",
      "-39098726920.0\n",
      "42456630359.6\n",
      "18094357.8227\n",
      "-38171058938.4\n",
      "41449291755.5\n",
      "17688104.1637\n",
      "-37265401082.2\n",
      "40465853565.6\n",
      "17291489.3991\n",
      "-36381231132.7\n",
      "39505748721.7\n",
      "16904284.8335\n",
      "-35518039261.5\n",
      "38568423609.8\n",
      "16526267.1979\n",
      "-34675327736.4\n",
      "37653337751.3\n",
      "16157218.5204\n",
      "-33852610634.7\n",
      "36759963491.1\n",
      "15796926.0008\n",
      "-33049413562.8\n",
      "35887785693.3\n",
      "15445181.888\n",
      "-32265273382.6\n",
      "35036301444.5\n",
      "15101783.3599\n",
      "-31499737944.7\n",
      "34205019763.2\n",
      "14766532.4067\n",
      "-30752365827.5\n",
      "33393461317.5\n",
      "14439235.7167\n",
      "-30022726082.7\n",
      "32601158148.0\n",
      "14119704.5645\n",
      "-29310397986.6\n",
      "31827653398.3\n",
      "13807754.7029\n",
      "-28614970798.1\n",
      "31072501051.5\n",
      "13503206.2557\n",
      "-27936043521.2\n",
      "30335265673.1\n",
      "13205883.6149\n",
      "-27273224674.0\n",
      "29615522159.8\n",
      "12915615.3389\n",
      "-26626132063.2\n",
      "28912855494.4\n",
      "12632234.0537\n",
      "-25994392563.5\n",
      "28226860506.5\n",
      "12355576.3565\n",
      "-25377641902.3\n",
      "27557141638.9\n",
      "12085482.7214\n",
      "-24775524450.2\n",
      "26903312719.8\n",
      "11821797.4077\n",
      "-24187693015.1\n",
      "26264996739.3\n",
      "11564368.3695\n",
      "-23613808642.9\n",
      "25641825632.9\n",
      "11313047.1686\n",
      "-23053540421.3\n",
      "25033440068.9\n",
      "11067688.8886\n",
      "-22506565289.7\n",
      "24439489241.1\n",
      "10828152.0516\n",
      "-21972567852.1\n",
      "23859630666.6\n",
      "10594298.5362\n",
      "-21451240195.9\n",
      "23293529988.6\n",
      "10365993.4983\n",
      "-20942281714.2\n",
      "22740860782.9\n",
      "10143105.2931\n",
      "-20445398932.4\n",
      "22201304370.7\n",
      "9925505.39909\n",
      "-19960305338.6\n",
      "21674549633.8\n",
      "9713068.34433\n",
      "-19486721219.2\n",
      "21160292835.8\n",
      "9505671.63374\n",
      "-19024373497.0\n",
      "20658237447.1\n",
      "9303195.67864\n",
      "-18572995573.8\n",
      "20168093973.3\n",
      "9105523.7277\n",
      "-18132327177.0\n",
      "19689579788.8\n",
      "8912541.79972\n",
      "-17702114209.2\n",
      "19222418973.7\n",
      "8724138.6178\n",
      "-17282108601.8\n",
      "18766342154.5\n",
      "8540205.54528\n",
      "-16872068171.9\n",
      "18321086349.1\n",
      "8360636.523\n",
      "-16471756482.7\n",
      "17886394814.9\n",
      "8185328.00822\n",
      "-16080942707.3\n",
      "17462016900.8\n",
      "8014178.91487\n",
      "-15699401495.4\n",
      "17047707903.0\n",
      "7847090.55529\n",
      "-15326912843.3\n",
      "16643228923.1\n",
      "7683966.5833\n",
      "-14963261967.4\n",
      "16248346731.4\n",
      "7524712.93868\n",
      "-14608239179.9\n",
      "15862833631.7\n",
      "7369237.79288\n",
      "-14261639768.3\n",
      "15486467330.0\n",
      "7217451.49613\n",
      "-13923263877.1\n",
      "15119030806.6\n",
      "7069266.52569\n",
      "-13592916392.5\n",
      "14760312191.2\n",
      "6924597.43543\n",
      "-13270406830.3\n",
      "14410104639.9\n",
      "6783360.80655\n",
      "-12955549225.5\n",
      "14068206216.8\n",
      "6645475.19943\n",
      "-12648162025.5\n",
      "13734419776.9\n",
      "6510861.10675\n",
      "-12348067985.4\n",
      "13408552853.1\n",
      "6379440.90758\n",
      "-12055094065.3\n",
      "13090417544.5\n",
      "6251138.82267\n",
      "-11769071331.4\n",
      "12779830408.5\n",
      "6125880.8707\n",
      "-11489834857.6\n",
      "12476612354.9\n",
      "6003594.82568\n",
      "-11217223631.1\n",
      "12180588542.7\n",
      "5884210.17527\n",
      "-10951080459.3\n",
      "11891588279.2\n",
      "5767658.08011\n",
      "-10691251879.4\n",
      "11609444921.6\n",
      "5653871.33415\n",
      "-10437588069.3\n",
      "11333995781.0\n",
      "5542784.32591\n",
      "-10189942761.9\n",
      "11065082028.3\n",
      "5434333.00061\n",
      "-9948173160.54\n",
      "10802548602.9\n",
      "5328454.82325\n",
      "-9712139856.35\n",
      "10546244123.4\n",
      "5225088.74256\n",
      "-9481706748.3\n",
      "10296020800.0\n",
      "5124175.1558\n",
      "-9256740964.45\n",
      "10051734349.3\n",
      "5025655.87435\n",
      "-9037112785.47\n",
      "9813243911.28\n",
      "4929474.09024\n",
      "-8822695569.74\n",
      "9580411968.11\n",
      "4835574.3433\n",
      "-8613365680.42\n",
      "9353104264.62\n",
      "4743902.48923\n",
      "-8409002414.09\n",
      "9131189731.06\n",
      "4654405.66841\n",
      "-8209487931.18\n",
      "8914540407.49\n",
      "4567032.27533\n",
      "-8014707188.02\n",
      "8703031369.98\n",
      "4481731.92893\n",
      "-7824547870.5\n",
      "8496540658.57\n",
      "4398455.44349\n",
      "-7638900329.3\n",
      "8294949206.98\n",
      "4317154.80028\n",
      "-7457657516.68\n",
      "8098140773.91\n",
      "4237783.11988\n",
      "-7280714924.74\n",
      "7906001876.05\n",
      "4160294.63516\n",
      "-7107970525.18\n",
      "7718421722.62\n",
      "4084644.66484\n",
      "-6939324710.44\n",
      "7535292151.51\n",
      "4010789.58779\n",
      "-6774680236.27\n",
      "7356507566.86\n",
      "3938686.81785\n",
      "-6613942165.7\n",
      "7181964878.26\n",
      "3868294.77926\n",
      "-6457017814.22\n",
      "7011563441.21\n",
      "3799572.88269\n",
      "-6303816696.41\n",
      "6845204999.17\n",
      "3732481.50186\n",
      "-6154250473.73\n",
      "6682793626.81\n",
      "3666981.95068\n",
      "-6008232903.57\n",
      "6524235674.81\n",
      "3603036.46092\n",
      "-5865679789.54\n",
      "6369439715.77\n",
      "3540608.16045\n",
      "-5726508932.96\n",
      "6218316491.52\n",
      "3479661.05201\n",
      "-5590640085.36\n",
      "6070778861.69\n",
      "3420159.99238\n",
      "-5457994902.3\n",
      "5926741753.38\n",
      "3362070.67218\n",
      "-5328496898.16\n",
      "5786122112.19\n",
      "3305359.59606\n",
      "-5202071402.06\n",
      "5648838854.28\n",
      "3249994.0634\n",
      "-5078645514.73\n",
      "5514812819.63\n",
      "3195942.14944\n",
      "-4958148066.59\n",
      "5383966726.4\n",
      "3143172.68686\n",
      "-4840509576.62\n",
      "5256225126.35\n",
      "3091655.24785\n",
      "-4725662212.32\n",
      "5131514361.37\n",
      "3041360.12652\n",
      "-4613539750.61\n",
      "5009762520.95\n",
      "2992258.3218\n",
      "-4504077539.67\n",
      "4890899400.78\n",
      "2944321.52072\n",
      "-4397212461.58\n",
      "4774856462.22\n",
      "2897522.08204\n",
      "-4292882896.01\n",
      "4661566792.82\n",
      "2851833.02037\n",
      "-4191028684.63\n",
      "4550965067.69\n",
      "2807227.99057\n",
      "-4091591096.45\n",
      "4442987511.86\n",
      "2763681.27259\n",
      "-3994512793.95\n",
      "4337571863.53\n",
      "2721167.75661\n",
      "-3899737800.03\n",
      "4234657338.1\n",
      "2679662.92856\n",
      "-3807211465.71\n",
      "4134184593.21\n",
      "2639142.85601\n",
      "-3716880438.61\n",
      "4036095694.43\n",
      "2599584.17439\n",
      "-3628692632.23\n",
      "3940334081.95\n",
      "2560964.07341\n",
      "-3542597195.88\n",
      "3846844537.85\n",
      "2523260.28406\n",
      "-3458544485.38\n",
      "3755573154.38\n",
      "2486451.06565\n",
      "-3376486034.38\n",
      "3666467302.82\n",
      "2450515.19332\n",
      "-3296374526.52\n",
      "3579475603.08\n",
      "2415431.9458\n",
      "-3218163768.03\n",
      "3494547894.21\n",
      "2381181.09347\n",
      "-3141808661.18\n",
      "3411635205.31\n",
      "2347742.88667\n",
      "-3067265178.21\n",
      "3330689727.45\n",
      "2315098.04433\n",
      "-2994490336.03\n",
      "3251664785.98\n",
      "2283227.74286\n",
      "-2923442171.3\n",
      "3174514813.7\n",
      "2252113.60526\n",
      "-2854079716.4\n",
      "3099195324.51\n",
      "2221737.69057\n",
      "-2786362975.65\n",
      "3025662887.86\n",
      "2192082.48349\n",
      "-2720252902.37\n",
      "2953875103.58\n",
      "2163130.8843\n",
      "-2655711376.27\n",
      "2883790577.56\n",
      "2134866.19899\n",
      "-2592701181.55\n",
      "2815368897.76\n",
      "2107272.12964\n",
      "-2531185985.39\n",
      "2748570611.02\n",
      "2080332.76502\n",
      "-2471130316.99\n",
      "2683357200.22\n",
      "2054032.5714\n",
      "-2412499547.19\n",
      "2619691062.14\n",
      "2028356.38363\n",
      "-2355259868.4\n",
      "2557535485.71\n",
      "2003289.39635\n",
      "-2299378275.2\n",
      "2496854630.92\n",
      "1978817.15551\n",
      "-2244822545.24\n",
      "2437613508.06\n",
      "1954925.54996\n",
      "-2191561220.68\n",
      "2379777957.65\n",
      "1931600.80338\n",
      "-2139563590.11\n",
      "2323314630.64\n",
      "1908829.46631\n",
      "-2088799670.73\n",
      "2268190969.26\n",
      "1886598.40839\n",
      "-2039240191.15\n",
      "2214375188.21\n",
      "1864894.8108\n",
      "-1990856574.46\n",
      "2161836256.32\n",
      "1843706.15885\n",
      "-1943620921.8\n",
      "2110543878.71\n",
      "1823020.2348\n",
      "-1897505996.24\n",
      "2060468479.25\n",
      "1802825.11077\n",
      "-1852485207.06\n",
      "2011581183.56\n",
      "1783109.14189\n",
      "-1808532594.47\n",
      "1963853802.33\n",
      "1763860.9596\n",
      "-1765622814.6\n",
      "1917258815.09\n",
      "1745069.46503\n",
      "-1723731124.88\n",
      "1871769354.33\n",
      "1726723.8227\n",
      "-1682833369.79\n",
      "1827359190.0\n",
      "1708813.45417\n",
      "-1642905966.98\n",
      "1784002714.38\n",
      "1691328.03202\n",
      "-1603925893.55\n",
      "1741674927.36\n",
      "1674257.47382\n",
      "-1565870672.9\n",
      "1700351421.95\n",
      "1657591.93641\n",
      "-1528718361.68\n",
      "1660008370.29\n",
      "1641321.81014\n",
      "-1492447537.22\n",
      "1620622509.82\n",
      "1625437.71336\n",
      "-1457037285.09\n",
      "1582171129.94\n",
      "1609930.48703\n",
      "-1422467187.08\n",
      "1544632058.91\n",
      "1594791.1894\n",
      "-1388717309.48\n",
      "1507983650.99\n",
      "1580011.09089\n",
      "-1355768191.47\n",
      "1472204774.07\n",
      "1565581.66904\n",
      "-1323600834.0\n",
      "1437274797.38\n",
      "1551494.60359\n",
      "-1292196688.79\n",
      "1403173579.67\n",
      "1537741.77168\n",
      "-1261537647.63\n",
      "1369881457.56\n",
      "1524315.2432\n",
      "-1231606031.97\n",
      "1337379234.2\n",
      "1511207.27617\n",
      "-1202384582.69\n",
      "1305648168.22\n",
      "1498410.31231\n",
      "-1173856450.17\n",
      "1274669962.93\n",
      "1485916.97266\n",
      "-1146005184.59\n",
      "1244426755.71\n",
      "1473720.05335\n",
      "-1118814726.39\n",
      "1214901107.78\n",
      "1461812.52142\n",
      "-1092269397.05\n",
      "1186075994.14\n",
      "1450187.51078\n",
      "-1066353890.06\n",
      "1157934793.68\n",
      "1438838.31825\n",
      "-1041053262.08\n",
      "1130461279.68\n",
      "1427758.39968\n",
      "-1016352924.29\n",
      "1103639610.41\n",
      "1416941.3662\n",
      "-992238634.034\n",
      "1077454320.03\n",
      "1406380.98052\n",
      "-968696486.577\n",
      "1051890309.6\n",
      "1396071.15334\n",
      "-945712907.09\n",
      "1026932838.45\n",
      "1386005.93983\n",
      "-923274642.815\n",
      "1002567515.67\n",
      "1376179.53621\n",
      "-901368755.456\n",
      "978780291.753\n",
      "1366586.27643\n",
      "-879982613.663\n",
      "955557450.565\n",
      "1357220.62882\n",
      "-859103885.819\n",
      "932885601.38\n",
      "1348077.193\n",
      "-838720532.85\n",
      "910751671.217\n",
      "1339150.69671\n",
      "-818820801.364\n",
      "889142897.232\n",
      "1330435.99277\n",
      "-799393216.792\n",
      "868046819.432\n",
      "1321928.05614\n",
      "-780426576.851\n",
      "847451273.425\n",
      "1313621.98099\n",
      "-761909945.042\n",
      "827344383.436\n",
      "1305512.97791\n",
      "-743832644.319\n",
      "807714555.484\n",
      "1297596.37109\n",
      "-726184250.989\n",
      "788550470.649\n",
      "1289867.59569\n",
      "-708954588.675\n",
      "769841078.566\n",
      "1282322.19516\n",
      "-692133722.429\n",
      "751575591.068\n",
      "1274955.8187\n",
      "-675711953.039\n",
      "733743475.943\n",
      "[ -9.99999688e+04   2.45072603e+02   6.52795277e+01]\n"
     ]
    }
   ],
   "source": [
    "multiple_weights = regression_gradient_descent(feature_matrix, output, initial_weights, step_size, tolerance)\n",
    "\n",
    "print multiple_weights"
   ]
  },
  {
   "cell_type": "markdown",
   "metadata": {},
   "source": [
    "Use your newly estimated weights and the predict_output function to compute the predictions on the TEST data. Don't forget to create a numpy array for these features from the test set first!"
   ]
  },
  {
   "cell_type": "code",
   "execution_count": 184,
   "metadata": {
    "collapsed": false
   },
   "outputs": [],
   "source": [
    "(test_feature_matrix, test_output) = get_numpy_data(test_data, model_features, my_output)"
   ]
  },
  {
   "cell_type": "markdown",
   "metadata": {},
   "source": [
    "**Quiz Question: What is the predicted price for the 1st house in the TEST data set for model 2 (round to nearest dollar)?**"
   ]
  },
  {
   "cell_type": "code",
   "execution_count": 185,
   "metadata": {
    "collapsed": false
   },
   "outputs": [
    {
     "name": "stdout",
     "output_type": "stream",
     "text": [
      "366651.412037\n"
     ]
    }
   ],
   "source": [
    "test_multiple_predictions = predict_output(test_feature_matrix, multiple_weights)\n",
    "\n",
    "print test_multiple_predictions[0]"
   ]
  },
  {
   "cell_type": "markdown",
   "metadata": {},
   "source": [
    "What is the actual price for the 1st house in the test data set?"
   ]
  },
  {
   "cell_type": "code",
   "execution_count": 186,
   "metadata": {
    "collapsed": false
   },
   "outputs": [
    {
     "data": {
      "text/plain": [
       "310000.0"
      ]
     },
     "execution_count": 186,
     "metadata": {},
     "output_type": "execute_result"
    }
   ],
   "source": [
    "test_output[0]"
   ]
  },
  {
   "cell_type": "markdown",
   "metadata": {},
   "source": [
    "**Quiz Question: Which estimate was closer to the true price for the 1st house on the Test data set, model 1 or model 2?**"
   ]
  },
  {
   "cell_type": "markdown",
   "metadata": {},
   "source": [
    "Now use your predictions and the output to compute the RSS for model 2 on TEST data."
   ]
  },
  {
   "cell_type": "code",
   "execution_count": 187,
   "metadata": {
    "collapsed": false
   },
   "outputs": [
    {
     "name": "stdout",
     "output_type": "stream",
     "text": [
      "2.70263446465e+14\n"
     ]
    }
   ],
   "source": [
    "RSS_multiple = ((test_multiple_predictions - test_output) * (test_multiple_predictions - test_output)).sum()\n",
    "\n",
    "print RSS_multiple"
   ]
  },
  {
   "cell_type": "markdown",
   "metadata": {},
   "source": [
    "**Quiz Question: Which model (1 or 2) has lowest RSS on all of the TEST data? **"
   ]
  },
  {
   "cell_type": "code",
   "execution_count": 188,
   "metadata": {
    "collapsed": false
   },
   "outputs": [
    {
     "name": "stdout",
     "output_type": "stream",
     "text": [
      "2.75400047593e+14\n"
     ]
    }
   ],
   "source": [
    "print RSS_simple"
   ]
  },
  {
   "cell_type": "code",
   "execution_count": null,
   "metadata": {
    "collapsed": true
   },
   "outputs": [],
   "source": []
  },
  {
   "cell_type": "code",
   "execution_count": null,
   "metadata": {
    "collapsed": true
   },
   "outputs": [],
   "source": []
  }
 ],
 "metadata": {
  "kernelspec": {
   "display_name": "Python 2",
   "language": "python",
   "name": "python2"
  },
  "language_info": {
   "codemirror_mode": {
    "name": "ipython",
    "version": 2
   },
   "file_extension": ".py",
   "mimetype": "text/x-python",
   "name": "python",
   "nbconvert_exporter": "python",
   "pygments_lexer": "ipython2",
   "version": "2.7.11"
  }
 },
 "nbformat": 4,
 "nbformat_minor": 0
}
