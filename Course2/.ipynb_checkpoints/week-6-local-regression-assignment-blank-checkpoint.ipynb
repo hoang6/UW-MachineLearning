{
 "cells": [
  {
   "cell_type": "markdown",
   "metadata": {},
   "source": [
    "# Predicting house prices using k-nearest neighbors regression\n",
    "In this notebook, you will implement k-nearest neighbors regression. You will:\n",
    "  * Find the k-nearest neighbors of a given query input\n",
    "  * Predict the output for the query input using the k-nearest neighbors\n",
    "  * Choose the best value of k using a validation set"
   ]
  },
  {
   "cell_type": "markdown",
   "metadata": {},
   "source": [
    "# Fire up GraphLab Create"
   ]
  },
  {
   "cell_type": "code",
   "execution_count": 1,
   "metadata": {
    "collapsed": true
   },
   "outputs": [],
   "source": [
    "import graphlab"
   ]
  },
  {
   "cell_type": "markdown",
   "metadata": {},
   "source": [
    "# Load in house sales data"
   ]
  },
  {
   "cell_type": "markdown",
   "metadata": {},
   "source": [
    "For this notebook, we use a subset of the King County housing dataset created by randomly selecting 40% of the houses in the full dataset."
   ]
  },
  {
   "cell_type": "code",
   "execution_count": 2,
   "metadata": {
    "collapsed": false
   },
   "outputs": [
    {
     "name": "stderr",
     "output_type": "stream",
     "text": [
      "[INFO] GraphLab Create v1.8.3 started. Logging: /tmp/graphlab_server_1456788337.log\n"
     ]
    }
   ],
   "source": [
    "sales = graphlab.SFrame('kc_house_data_small.gl/')"
   ]
  },
  {
   "cell_type": "markdown",
   "metadata": {},
   "source": [
    "# Import useful functions from previous notebooks"
   ]
  },
  {
   "cell_type": "markdown",
   "metadata": {},
   "source": [
    "To efficiently compute pairwise distances among data points, we will convert the SFrame into a 2D Numpy array. First import the numpy library and then copy and paste `get_numpy_data()` from the second notebook of Week 2."
   ]
  },
  {
   "cell_type": "code",
   "execution_count": 3,
   "metadata": {
    "collapsed": true
   },
   "outputs": [],
   "source": [
    "import numpy as np # note this allows us to refer to numpy as np instead"
   ]
  },
  {
   "cell_type": "code",
   "execution_count": 4,
   "metadata": {
    "collapsed": true
   },
   "outputs": [],
   "source": [
    "def get_numpy_data(data_sframe, features, output):\n",
    "    data_sframe['constant'] = 1 # this is how you add a constant column to an SFrame\n",
    "    # add the column 'constant' to the front of the features list so that we can extract it along with the others:\n",
    "    features = ['constant'] + features # this is how you combine two lists\n",
    "    # select the columns of data_SFrame given by the features list into the SFrame features_sframe (now including constant):\n",
    "    features_sframe = data_sframe[features]\n",
    "    # the following line will convert the features_SFrame into a numpy matrix:\n",
    "    feature_matrix = features_sframe.to_numpy()\n",
    "    # assign the column of data_sframe associated with the output to the SArray output_sarray\n",
    "    output_sarray = data_sframe[output]\n",
    "    # the following will convert the SArray into a numpy array by first converting it to a list\n",
    "    output_array = output_sarray.to_numpy()\n",
    "\n",
    "    return(feature_matrix, output_array)"
   ]
  },
  {
   "cell_type": "markdown",
   "metadata": {},
   "source": [
    "We will also need the `normalize_features()` function from Week 5 that normalizes all feature columns to unit norm. Paste this function below."
   ]
  },
  {
   "cell_type": "code",
   "execution_count": 5,
   "metadata": {
    "collapsed": true
   },
   "outputs": [],
   "source": [
    "def normalize_features(feature_matrix):\n",
    "\n",
    "    norms = np.linalg.norm(feature_matrix, axis=0)\n",
    "    normalized_features = feature_matrix / norms\n",
    "\n",
    "    return (normalized_features, norms)"
   ]
  },
  {
   "cell_type": "markdown",
   "metadata": {},
   "source": [
    "# Split data into training, test, and validation sets"
   ]
  },
  {
   "cell_type": "code",
   "execution_count": 6,
   "metadata": {
    "collapsed": false
   },
   "outputs": [],
   "source": [
    "(train_and_validation, test) = sales.random_split(.8, seed=1) # initial train/test split\n",
    "(train, validation) = train_and_validation.random_split(.8, seed=1) # split training set into training and validation sets"
   ]
  },
  {
   "cell_type": "markdown",
   "metadata": {},
   "source": [
    "# Extract features and normalize"
   ]
  },
  {
   "cell_type": "markdown",
   "metadata": {},
   "source": [
    "Using all of the numerical inputs listed in `feature_list`, transform the training, test, and validation SFrames into Numpy arrays:"
   ]
  },
  {
   "cell_type": "code",
   "execution_count": 7,
   "metadata": {
    "collapsed": false
   },
   "outputs": [],
   "source": [
    "feature_list = ['bedrooms',  \n",
    "                'bathrooms',  \n",
    "                'sqft_living',  \n",
    "                'sqft_lot',  \n",
    "                'floors',\n",
    "                'waterfront',  \n",
    "                'view',  \n",
    "                'condition',  \n",
    "                'grade',  \n",
    "                'sqft_above',  \n",
    "                'sqft_basement',\n",
    "                'yr_built',  \n",
    "                'yr_renovated',  \n",
    "                'lat',  \n",
    "                'long',  \n",
    "                'sqft_living15',  \n",
    "                'sqft_lot15']\n",
    "features_train, output_train = get_numpy_data(train, feature_list, 'price')\n",
    "features_test, output_test = get_numpy_data(test, feature_list, 'price')\n",
    "features_valid, output_valid = get_numpy_data(validation, feature_list, 'price')"
   ]
  },
  {
   "cell_type": "markdown",
   "metadata": {},
   "source": [
    "In computing distances, it is crucial to normalize features. Otherwise, for example, the `sqft_living` feature (typically on the order of thousands) would exert a much larger influence on distance than the `bedrooms` feature (typically on the order of ones). We divide each column of the training feature matrix by its 2-norm, so that the transformed column has unit norm.\n",
    "\n",
    "IMPORTANT: Make sure to store the norms of the features in the training set. The features in the test and validation sets must be divided by these same norms, so that the training, test, and validation sets are normalized consistently."
   ]
  },
  {
   "cell_type": "code",
   "execution_count": 8,
   "metadata": {
    "collapsed": true
   },
   "outputs": [],
   "source": [
    "features_train, norms = normalize_features(features_train) # normalize training set features (columns)\n",
    "features_test = features_test / norms # normalize test set by training set norms\n",
    "features_valid = features_valid / norms # normalize validation set by training set norms"
   ]
  },
  {
   "cell_type": "markdown",
   "metadata": {},
   "source": [
    "# Compute a single distance"
   ]
  },
  {
   "cell_type": "markdown",
   "metadata": {},
   "source": [
    "To start, let's just explore computing the \"distance\" between two given houses.  We will take our **query house** to be the first house of the test set and look at the distance between this house and the 10th house of the training set.\n",
    "\n",
    "To see the features associated with the query house, print the first row (index 0) of the test feature matrix. You should get an 18-dimensional vector whose components are between 0 and 1."
   ]
  },
  {
   "cell_type": "code",
   "execution_count": 9,
   "metadata": {
    "collapsed": false
   },
   "outputs": [
    {
     "data": {
      "text/plain": [
       "array([ 0.01345102,  0.01551285,  0.01807473,  0.01759212,  0.00160518,\n",
       "        0.017059  ,  0.        ,  0.05102365,  0.0116321 ,  0.01564352,\n",
       "        0.01362084,  0.02481682,  0.01350306,  0.        ,  0.01345386,\n",
       "       -0.01346927,  0.01375926,  0.0016225 ])"
      ]
     },
     "execution_count": 9,
     "metadata": {},
     "output_type": "execute_result"
    }
   ],
   "source": [
    "features_test[0]"
   ]
  },
  {
   "cell_type": "markdown",
   "metadata": {},
   "source": [
    "Now print the 10th row (index 9) of the training feature matrix. Again, you get an 18-dimensional vector with components between 0 and 1."
   ]
  },
  {
   "cell_type": "code",
   "execution_count": 10,
   "metadata": {
    "collapsed": false
   },
   "outputs": [
    {
     "data": {
      "text/plain": [
       "array([ 0.01345102,  0.01163464,  0.02108718,  0.00948186,  0.00035378,\n",
       "        0.02558851,  0.        ,  0.        ,  0.0116321 ,  0.01390535,\n",
       "        0.01093795,  0.        ,  0.01371458,  0.        ,  0.01348525,\n",
       "       -0.01346613,  0.01041589,  0.00128421])"
      ]
     },
     "execution_count": 10,
     "metadata": {},
     "output_type": "execute_result"
    }
   ],
   "source": [
    "features_test[9]"
   ]
  },
  {
   "cell_type": "markdown",
   "metadata": {},
   "source": [
    "***QUIZ QUESTION ***\n",
    "\n",
    "What is the Euclidean distance between the query house and the 10th house of the training set? \n",
    "\n",
    "Note: Do not use the `np.linalg.norm` function; use `np.sqrt`, `np.sum`, and the power operator (`**`) instead. The latter approach is more easily adapted to computing multiple distances at once."
   ]
  },
  {
   "cell_type": "code",
   "execution_count": 16,
   "metadata": {
    "collapsed": false
   },
   "outputs": [
    {
     "name": "stdout",
     "output_type": "stream",
     "text": [
      "0.0591041636611\n"
     ]
    }
   ],
   "source": [
    "def distance(start, end):\n",
    "    return np.sqrt(((start - end)**2).sum())\n",
    "\n",
    "print distance(features_test[0], features_test[1])"
   ]
  },
  {
   "cell_type": "markdown",
   "metadata": {},
   "source": [
    "# Compute multiple distances"
   ]
  },
  {
   "cell_type": "markdown",
   "metadata": {},
   "source": [
    "Of course, to do nearest neighbor regression, we need to compute the distance between our query house and *all* houses in the training set.  \n",
    "\n",
    "To visualize this nearest-neighbor search, let's first compute the distance from our query house (`features_test[0]`) to the first 10 houses of the training set (`features_train[0:10]`) and then search for the nearest neighbor within this small set of houses.  Through restricting ourselves to a small set of houses to begin with, we can visually scan the list of 10 distances to verify that our code for finding the nearest neighbor is working.\n",
    "\n",
    "Write a loop to compute the Euclidean distance from the query house to each of the first 10 houses in the training set."
   ]
  },
  {
   "cell_type": "code",
   "execution_count": 28,
   "metadata": {
    "collapsed": false
   },
   "outputs": [],
   "source": [
    "test_distances = []\n",
    "\n",
    "for i in range(10):\n",
    "    test_distances.append(distance(features_test[0], features_train[i]))"
   ]
  },
  {
   "cell_type": "markdown",
   "metadata": {},
   "source": [
    "*** QUIZ QUESTION ***\n",
    "\n",
    "Among the first 10 training houses, which house is the closest to the query house?"
   ]
  },
  {
   "cell_type": "code",
   "execution_count": 29,
   "metadata": {
    "collapsed": false
   },
   "outputs": [
    {
     "name": "stdout",
     "output_type": "stream",
     "text": [
      "8\n"
     ]
    }
   ],
   "source": [
    "closest_house = np.argmin(test_distances)\n",
    "\n",
    "print closest_house"
   ]
  },
  {
   "cell_type": "markdown",
   "metadata": {},
   "source": [
    "It is computationally inefficient to loop over computing distances to all houses in our training dataset. Fortunately, many of the Numpy functions can be **vectorized**, applying the same operation over multiple values or vectors.  We now walk through this process."
   ]
  },
  {
   "cell_type": "markdown",
   "metadata": {},
   "source": [
    "Consider the following loop that computes the element-wise difference between the features of the query house (`features_test[0]`) and the first 3 training houses (`features_train[0:3]`):"
   ]
  },
  {
   "cell_type": "code",
   "execution_count": 21,
   "metadata": {
    "collapsed": false,
    "scrolled": false
   },
   "outputs": [
    {
     "name": "stdout",
     "output_type": "stream",
     "text": [
      "[  0.00000000e+00  -3.87821276e-03  -1.20498190e-02  -1.05552733e-02\n",
      "   2.08673616e-04  -8.52950206e-03   0.00000000e+00  -5.10236549e-02\n",
      "   0.00000000e+00  -3.47633726e-03  -5.50336860e-03  -2.48168183e-02\n",
      "  -1.63756198e-04   0.00000000e+00  -1.70072004e-05   1.30577772e-05\n",
      "  -5.14364795e-03   6.69281453e-04]\n",
      "[  0.00000000e+00  -3.87821276e-03  -4.51868214e-03  -2.26610387e-03\n",
      "   7.19763456e-04   0.00000000e+00   0.00000000e+00  -5.10236549e-02\n",
      "   0.00000000e+00  -3.47633726e-03   1.30705004e-03  -1.45830788e-02\n",
      "  -1.91048898e-04   6.65082271e-02   4.23240653e-05   6.22415897e-06\n",
      "  -2.89330197e-03   1.47606982e-03]\n",
      "[  0.00000000e+00  -7.75642553e-03  -1.20498190e-02  -1.30002801e-02\n",
      "   1.60518166e-03  -8.52950206e-03   0.00000000e+00  -5.10236549e-02\n",
      "   0.00000000e+00  -5.21450589e-03  -8.32384500e-03  -2.48168183e-02\n",
      "  -3.13866046e-04   0.00000000e+00   4.71047219e-05   1.56530415e-05\n",
      "   3.72914476e-03   1.64764925e-03]\n"
     ]
    }
   ],
   "source": [
    "for i in xrange(3):\n",
    "    print features_train[i]-features_test[0]\n",
    "    # should print 3 vectors of length 18"
   ]
  },
  {
   "cell_type": "markdown",
   "metadata": {},
   "source": [
    "The subtraction operator (`-`) in Numpy is vectorized as follows:"
   ]
  },
  {
   "cell_type": "code",
   "execution_count": 22,
   "metadata": {
    "collapsed": false
   },
   "outputs": [
    {
     "name": "stdout",
     "output_type": "stream",
     "text": [
      "[[  0.00000000e+00  -3.87821276e-03  -1.20498190e-02  -1.05552733e-02\n",
      "    2.08673616e-04  -8.52950206e-03   0.00000000e+00  -5.10236549e-02\n",
      "    0.00000000e+00  -3.47633726e-03  -5.50336860e-03  -2.48168183e-02\n",
      "   -1.63756198e-04   0.00000000e+00  -1.70072004e-05   1.30577772e-05\n",
      "   -5.14364795e-03   6.69281453e-04]\n",
      " [  0.00000000e+00  -3.87821276e-03  -4.51868214e-03  -2.26610387e-03\n",
      "    7.19763456e-04   0.00000000e+00   0.00000000e+00  -5.10236549e-02\n",
      "    0.00000000e+00  -3.47633726e-03   1.30705004e-03  -1.45830788e-02\n",
      "   -1.91048898e-04   6.65082271e-02   4.23240653e-05   6.22415897e-06\n",
      "   -2.89330197e-03   1.47606982e-03]\n",
      " [  0.00000000e+00  -7.75642553e-03  -1.20498190e-02  -1.30002801e-02\n",
      "    1.60518166e-03  -8.52950206e-03   0.00000000e+00  -5.10236549e-02\n",
      "    0.00000000e+00  -5.21450589e-03  -8.32384500e-03  -2.48168183e-02\n",
      "   -3.13866046e-04   0.00000000e+00   4.71047219e-05   1.56530415e-05\n",
      "    3.72914476e-03   1.64764925e-03]]\n"
     ]
    }
   ],
   "source": [
    "print features_train[0:3] - features_test[0]"
   ]
  },
  {
   "cell_type": "markdown",
   "metadata": {},
   "source": [
    "Note that the output of this vectorized operation is identical to that of the loop above, which can be verified below:"
   ]
  },
  {
   "cell_type": "code",
   "execution_count": 23,
   "metadata": {
    "collapsed": false
   },
   "outputs": [
    {
     "name": "stdout",
     "output_type": "stream",
     "text": [
      "[ 0.  0.  0.  0.  0.  0.  0.  0.  0.  0.  0.  0.  0.  0.  0.  0.  0.  0.]\n",
      "[ 0.  0.  0.  0.  0.  0.  0.  0.  0.  0.  0.  0.  0.  0.  0.  0.  0.  0.]\n",
      "[ 0.  0.  0.  0.  0.  0.  0.  0.  0.  0.  0.  0.  0.  0.  0.  0.  0.  0.]\n"
     ]
    }
   ],
   "source": [
    "# verify that vectorization works\n",
    "results = features_train[0:3] - features_test[0]\n",
    "print results[0] - (features_train[0]-features_test[0])\n",
    "# should print all 0's if results[0] == (features_train[0]-features_test[0])\n",
    "print results[1] - (features_train[1]-features_test[0])\n",
    "# should print all 0's if results[1] == (features_train[1]-features_test[0])\n",
    "print results[2] - (features_train[2]-features_test[0])\n",
    "# should print all 0's if results[2] == (features_train[2]-features_test[0])"
   ]
  },
  {
   "cell_type": "markdown",
   "metadata": {},
   "source": [
    "Aside: it is a good idea to write tests like this cell whenever you are vectorizing a complicated operation."
   ]
  },
  {
   "cell_type": "markdown",
   "metadata": {},
   "source": [
    "# Perform 1-nearest neighbor regression\n",
    "\n",
    "Now that we have the element-wise differences, it is not too hard to compute the Euclidean distances between our query house and all of the training houses. First, write a single-line expression to define a variable `diff` such that `diff[i]` gives the element-wise difference between the features of the query house and the `i`-th training house."
   ]
  },
  {
   "cell_type": "code",
   "execution_count": 24,
   "metadata": {
    "collapsed": false
   },
   "outputs": [],
   "source": [
    "diff = features_train - features_test[0]"
   ]
  },
  {
   "cell_type": "markdown",
   "metadata": {},
   "source": [
    "To test the code above, run the following cell, which should output a value -0.0934339605842:"
   ]
  },
  {
   "cell_type": "code",
   "execution_count": 25,
   "metadata": {
    "collapsed": false
   },
   "outputs": [
    {
     "name": "stdout",
     "output_type": "stream",
     "text": [
      "-0.0934339605842\n"
     ]
    }
   ],
   "source": [
    "print diff[-1].sum() # sum of the feature differences between the query and last training house\n",
    "# should print -0.0934339605842"
   ]
  },
  {
   "cell_type": "markdown",
   "metadata": {},
   "source": [
    "The next step in computing the Euclidean distances is to take these feature-by-feature differences in `diff`, square each, and take the sum over feature indices.  That is, compute the sum of square feature differences for each training house (row in `diff`).\n",
    "\n",
    "By default, `np.sum` sums up everything in the matrix and returns a single number. To instead sum only over a row or column, we need to specifiy the `axis` parameter described in the `np.sum` [documentation](http://docs.scipy.org/doc/numpy-1.10.1/reference/generated/numpy.sum.html). In particular, `axis=1` computes the sum across each row.\n",
    "\n",
    "Below, we compute this sum of square feature differences for all training houses and verify that the output for the 16th house in the training set is equivalent to having examined only the 16th row of `diff` and computing the sum of squares on that row alone."
   ]
  },
  {
   "cell_type": "code",
   "execution_count": 26,
   "metadata": {
    "collapsed": false
   },
   "outputs": [
    {
     "name": "stdout",
     "output_type": "stream",
     "text": [
      "0.00330705902879\n",
      "0.00330705902879\n"
     ]
    }
   ],
   "source": [
    "print np.sum(diff**2, axis=1)[15] # take sum of squares across each row, and print the 16th sum\n",
    "print np.sum(diff[15]**2) # print the sum of squares for the 16th row -- should be same as above"
   ]
  },
  {
   "cell_type": "markdown",
   "metadata": {},
   "source": [
    "With this result in mind, write a single-line expression to compute the Euclidean distances between the query house and all houses in the training set. Assign the result to a variable `distances`.\n",
    "\n",
    "**Hint**: Do not forget to take the square root of the sum of squares."
   ]
  },
  {
   "cell_type": "code",
   "execution_count": 31,
   "metadata": {
    "collapsed": false
   },
   "outputs": [],
   "source": [
    "distances = np.sqrt(np.sum(diff**2, axis=1))"
   ]
  },
  {
   "cell_type": "markdown",
   "metadata": {},
   "source": [
    "To test the code above, run the following cell, which should output a value 0.0237082324496:"
   ]
  },
  {
   "cell_type": "code",
   "execution_count": 32,
   "metadata": {
    "collapsed": false
   },
   "outputs": [
    {
     "name": "stdout",
     "output_type": "stream",
     "text": [
      "0.0237082324496\n"
     ]
    }
   ],
   "source": [
    "print distances[100] # Euclidean distance between the query house and the 101th training house\n",
    "# should print 0.0237082324496"
   ]
  },
  {
   "cell_type": "markdown",
   "metadata": {},
   "source": [
    "Now you are ready to write a function that computes the distances from a query house to all training houses. The function should take two parameters: (i) the matrix of training features and (ii) the single feature vector associated with the query."
   ]
  },
  {
   "cell_type": "code",
   "execution_count": 41,
   "metadata": {
    "collapsed": true
   },
   "outputs": [],
   "source": [
    "def neighbor_distances(neighbor, target):\n",
    "    diff = neighbor - target\n",
    "    \n",
    "    return np.sqrt(np.sum(diff**2, axis=1))"
   ]
  },
  {
   "cell_type": "markdown",
   "metadata": {
    "collapsed": false
   },
   "source": [
    "*** QUIZ QUESTIONS ***\n",
    "\n",
    "1.  Take the query house to be third house of the test set (`features_test[2]`).  What is the index of the house in the training set that is closest to this query house?\n",
    "2.  What is the predicted value of the query house based on 1-nearest neighbor regression?"
   ]
  },
  {
   "cell_type": "code",
   "execution_count": 42,
   "metadata": {
    "collapsed": false
   },
   "outputs": [
    {
     "name": "stdout",
     "output_type": "stream",
     "text": [
      "382\n"
     ]
    }
   ],
   "source": [
    "print np.argmin(neighbor_distances(features_train, features_test[2]))"
   ]
  },
  {
   "cell_type": "code",
   "execution_count": 43,
   "metadata": {
    "collapsed": false
   },
   "outputs": [
    {
     "name": "stdout",
     "output_type": "stream",
     "text": [
      "249000\n"
     ]
    }
   ],
   "source": [
    "# Predicted value:\n",
    "print output_train[382]"
   ]
  },
  {
   "cell_type": "markdown",
   "metadata": {},
   "source": [
    "# Perform k-nearest neighbor regression"
   ]
  },
  {
   "cell_type": "markdown",
   "metadata": {},
   "source": [
    "For k-nearest neighbors, we need to find a *set* of k houses in the training set closest to a given query house. We then make predictions based on these k nearest neighbors."
   ]
  },
  {
   "cell_type": "markdown",
   "metadata": {},
   "source": [
    "## Fetch k-nearest neighbors\n",
    "\n",
    "Using the functions above, implement a function that takes in\n",
    " * the value of k;\n",
    " * the feature matrix for the training houses; and\n",
    " * the feature vector of the query house\n",
    " \n",
    "and returns the indices of the k closest training houses. For instance, with 2-nearest neighbor, a return value of [5, 10] would indicate that the 6th and 11th training houses are closest to the query house.\n",
    "\n",
    "**Hint**: Look at the [documentation for `np.argsort`](http://docs.scipy.org/doc/numpy/reference/generated/numpy.argsort.html)."
   ]
  },
  {
   "cell_type": "code",
   "execution_count": 66,
   "metadata": {
    "collapsed": false
   },
   "outputs": [],
   "source": [
    "def k_neighbors(k, neighbors, target):\n",
    "    k_neighbor_distances = neighbor_distances(neighbors, target)\n",
    "    \n",
    "    return np.argsort(k_neighbor_distances)[0:k]"
   ]
  },
  {
   "cell_type": "markdown",
   "metadata": {},
   "source": [
    "*** QUIZ QUESTION ***\n",
    "\n",
    "Take the query house to be third house of the test set (`features_test[2]`).  What are the indices of the 4 training houses closest to the query house?"
   ]
  },
  {
   "cell_type": "code",
   "execution_count": 67,
   "metadata": {
    "collapsed": false
   },
   "outputs": [
    {
     "data": {
      "text/plain": [
       "array([ 382, 1149, 4087, 3142])"
      ]
     },
     "execution_count": 67,
     "metadata": {},
     "output_type": "execute_result"
    }
   ],
   "source": [
    "k_neighbors(4, features_train, features_test[2])"
   ]
  },
  {
   "cell_type": "markdown",
   "metadata": {},
   "source": [
    "## Make a single prediction by averaging k nearest neighbor outputs"
   ]
  },
  {
   "cell_type": "markdown",
   "metadata": {},
   "source": [
    "Now that we know how to find the k-nearest neighbors, write a function that predicts the value of a given query house. **For simplicity, take the average of the prices of the k nearest neighbors in the training set**. The function should have the following parameters:\n",
    " * the value of k;\n",
    " * the feature matrix for the training houses;\n",
    " * the output values (prices) of the training houses; and\n",
    " * the feature vector of the query house, whose price we are predicting.\n",
    " \n",
    "The function should return a predicted value of the query house.\n",
    "\n",
    "**Hint**: You can extract multiple items from a Numpy array using a list of indices. For instance, `output_train[[6, 10]]` returns the prices of the 7th and 11th training houses."
   ]
  },
  {
   "cell_type": "code",
   "execution_count": 68,
   "metadata": {
    "collapsed": false
   },
   "outputs": [],
   "source": [
    "def kNN_predict(k, neighbors, output, target):\n",
    "    neighbor_ids = k_neighbors(k, neighbors, target)\n",
    "\n",
    "    return (output[neighbor_ids]).sum() / k\n"
   ]
  },
  {
   "cell_type": "markdown",
   "metadata": {},
   "source": [
    "*** QUIZ QUESTION ***\n",
    "\n",
    "Again taking the query house to be third house of the test set (`features_test[2]`), predict the value of the query house using k-nearest neighbors with `k=4` and the simple averaging method described and implemented above."
   ]
  },
  {
   "cell_type": "code",
   "execution_count": 69,
   "metadata": {
    "collapsed": false
   },
   "outputs": [
    {
     "name": "stdout",
     "output_type": "stream",
     "text": [
      "413987\n"
     ]
    }
   ],
   "source": [
    "print kNN_predict(4, features_train, output_train, features_test[2])"
   ]
  },
  {
   "cell_type": "markdown",
   "metadata": {},
   "source": [
    "Compare this predicted value using 4-nearest neighbors to the predicted value using 1-nearest neighbor computed earlier."
   ]
  },
  {
   "cell_type": "markdown",
   "metadata": {},
   "source": [
    "## Make multiple predictions"
   ]
  },
  {
   "cell_type": "markdown",
   "metadata": {},
   "source": [
    "Write a function to predict the value of *each and every* house in a query set. (The query set can be any subset of the dataset, be it the test set or validation set.) The idea is to have a loop where we take each house in the query set as the query house and make a prediction for that specific house. The new function should take the following parameters:\n",
    " * the value of k;\n",
    " * the feature matrix for the training houses;\n",
    " * the output values (prices) of the training houses; and\n",
    " * the feature matrix for the query set.\n",
    " \n",
    "The function should return a set of predicted values, one for each house in the query set.\n",
    "\n",
    "**Hint**: To get the number of houses in the query set, use the `.shape` field of the query features matrix. See [the documentation](http://docs.scipy.org/doc/numpy-1.10.1/reference/generated/numpy.ndarray.shape.html)."
   ]
  },
  {
   "cell_type": "code",
   "execution_count": 70,
   "metadata": {
    "collapsed": true
   },
   "outputs": [],
   "source": [
    "def kNN_predicted_data(k, neighbors, output, target):\n",
    "    kNN_predictions = []\n",
    "    \n",
    "    for i in range(len(target)):\n",
    "        kNN_predictions.append(kNN_predict(4, features_train, output_train, target[i]))\n",
    "    \n",
    "    return kNN_predictions"
   ]
  },
  {
   "cell_type": "markdown",
   "metadata": {},
   "source": [
    "*** QUIZ QUESTION ***\n",
    "\n",
    "Make predictions for the first 10 houses in the test set using k-nearest neighbors with `k=10`. \n",
    "\n",
    "1. What is the index of the house in this query set that has the lowest predicted value? \n",
    "2. What is the predicted value of this house?"
   ]
  },
  {
   "cell_type": "code",
   "execution_count": 75,
   "metadata": {
    "collapsed": false
   },
   "outputs": [
    {
     "name": "stdout",
     "output_type": "stream",
     "text": [
      "[923750, 434400, 413987, 552750, 869625, 683237, 332830, 577500, 436250, 454975]\n",
      "6\n",
      "332830\n"
     ]
    }
   ],
   "source": [
    "predictions10 = kNN_predicted_data(10, features_train, output_train, features_test)[:10]\n",
    "print predictions10\n",
    "print np.argmin(predictions10)\n",
    "print predictions10[6]"
   ]
  },
  {
   "cell_type": "markdown",
   "metadata": {},
   "source": [
    "## Choosing the best value of k using a validation set"
   ]
  },
  {
   "cell_type": "markdown",
   "metadata": {},
   "source": [
    "There remains a question of choosing the value of k to use in making predictions. Here, we use a validation set to choose this value. Write a loop that does the following:\n",
    "\n",
    "* For `k` in [1, 2, ..., 15]:\n",
    "    * Makes predictions for each house in the VALIDATION set using the k-nearest neighbors from the TRAINING set.\n",
    "    * Computes the RSS for these predictions on the VALIDATION set\n",
    "    * Stores the RSS computed above in `rss_all`\n",
    "* Report which `k` produced the lowest RSS on VALIDATION set."
   ]
  },
  {
   "cell_type": "markdown",
   "metadata": {},
   "source": [
    "(Depending on your computing environment, this computation may take 10-15 minutes.)"
   ]
  },
  {
   "cell_type": "code",
   "execution_count": 89,
   "metadata": {
    "collapsed": false
   },
   "outputs": [
    {
     "name": "stdout",
     "output_type": "stream",
     "text": [
      "[489500, 433875, 652750, 476325, 319475, 1080375, 332062, 519987, 456000, 339895, 396054, 466750, 352025, 478050, 1036250, 372475, 617500, 309625, 464500, 470875, 388375, 395250, 804000, 733250, 287425, 627375, 1056876, 496812, 1034227, 499000, 1725750, 1642139, 466737, 373500, 366500, 379750, 297812, 729500, 412475, 277637, 893582, 463000, 296750, 410125, 343500, 511112, 376737, 527500, 352387, 743500, 321000, 279125, 328725, 664500, 579812, 541250, 531000, 316750, 542500, 665000, 286375, 488090, 923125, 294862, 870000, 290750, 313125, 248500, 396625, 426125, 923750, 269750, 657500, 447562, 207125, 278568, 625625, 395000, 902975, 505750, 344675, 721625, 447250, 317237, 303125, 295500, 578750, 636250, 340750, 336250, 609750, 754750, 372750, 270250, 588750, 374157, 272987, 395162, 324837, 455350, 224500, 389837, 667500, 587000, 587875, 623250, 301650, 415625, 359250, 773250, 526000, 316912, 541500, 682625, 485625, 325937, 806250, 668500, 2196000, 458000, 1212488, 452250, 595375, 755250, 306275, 652500, 490000, 464000, 247250, 475950, 378662, 240060, 655750, 372487, 224500, 415500, 306737, 507147, 680500, 387225, 1055250, 290110, 456837, 606525, 646023, 428975, 716500, 319954, 669625, 393487, 395550, 294000, 462172, 551125, 469750, 315625, 233750, 692868, 412362, 531250, 1234750, 425787, 466225, 300625, 261687, 659625, 423225, 466750, 481250, 293750, 431500, 845958, 318750, 361625, 466375, 571687, 528875, 731520, 392250, 377625, 444125, 360487, 411500, 729987, 471887, 672250, 497750, 472737, 560750, 511000, 457500, 818750, 579612, 434847, 428575, 706875, 429500, 570000, 285687, 489162, 626375, 969250, 739750, 407650, 300500, 1188250, 585450, 442987, 403800, 596562, 339462, 488250, 362362, 320625, 344125, 516750, 667125, 316437, 434750, 355375, 473762, 304625, 318622, 301056, 1016625, 282750, 720750, 960750, 278125, 561225, 509114, 437125, 381725, 796000, 480750, 485376, 617625, 566500, 1173250, 598000, 367500, 441250, 535000, 471737, 210875, 186987, 316750, 571250, 973872, 448000, 403975, 1190000, 440650, 402500, 448987, 800500, 389875, 309875, 397250, 258862, 323749, 578750, 261237, 2210000, 742500, 479525, 268375, 491125, 660625, 531125, 344662, 437500, 263250, 376331, 419725, 336800, 489825, 331975, 842500, 480625, 418748, 730000, 948125, 696625, 342112, 1206250, 208750, 351250, 316500, 392750, 1297001, 524500, 745500, 237000, 459500, 415300, 1187488, 449750, 396487, 335250, 1285750, 527625, 444737, 501237, 416725, 650350, 644500, 908475, 365125, 324875, 1675000, 411250, 194562, 453725, 240625, 417475, 324237, 418250, 438750, 579250, 287500, 600000, 579250, 434443, 770722, 826500, 270875, 1273250, 594750, 717250, 604625, 468312, 717750, 417500, 420225, 644120, 272112, 273900, 292125, 594362, 681250, 268250, 609612, 657125, 426487, 443612, 759000, 431987, 801750, 417500, 342737, 393450, 568750, 462500, 363987, 1031250, 257487, 379750, 251750, 540250, 302475, 324737, 345350, 679962, 267000, 361600, 580625, 441987, 355875, 301025, 220987, 318916, 354787, 652625, 1011875, 309437, 199250, 411675, 515125, 1513247, 357487, 542500, 607625, 285250, 847462, 498125, 585500, 827225, 628750, 1638750, 1330750, 221737, 600120, 438875, 432250, 285000, 866262, 279250, 493750, 275625, 1798462, 259000, 3011825, 238125, 486750, 660000, 414237, 1072125, 856100, 696237, 355000, 363750, 324125, 439600, 560340, 287174, 996250, 317055, 947125, 710000, 429500, 280875, 387375, 503737, 401375, 309000, 478750, 533562, 453000, 584500, 571750, 331375, 548562, 396125, 1122950, 1002171, 323750, 594112, 1058156, 1575750, 271375, 524125, 260250, 351750, 504250, 363750, 407125, 316250, 502687, 434487, 570312, 443250, 322124, 649562, 335000, 429500, 253700, 593125, 354414, 458000, 383250, 298862, 674312, 554750, 434400, 551362, 538375, 821225, 481725, 634737, 426679, 377596, 414750, 240875, 327250, 481487, 578125, 349000, 913562, 506825, 454975, 708125, 562500, 450612, 501125, 367487, 1138750, 470000, 674312, 386375, 486000, 609375, 736250, 733675, 808250, 580125, 392500, 298662, 459000, 278987, 567375, 628748, 566250, 383237, 606250, 916500, 513500, 547487, 545225, 1033750, 438250, 591750, 298025, 408487, 603362, 605750, 256237, 354550, 215600, 733500, 402608, 442487, 851389, 221625, 438000, 546237, 373487, 393752, 587000, 1909125, 459625, 188362, 623000, 887500, 488500, 853750, 1328375, 586125, 349250, 269750, 513625, 360487, 436375, 424925, 471750, 278975, 541500, 518376, 443250, 641000, 413375, 561575, 441500, 300500, 892875, 208250, 641298, 452100, 387500, 196500, 358500, 363112, 861850, 353425, 488500, 537000, 346000, 960875, 421250, 604950, 433500, 552875, 365250, 650625, 320750, 544250, 950250, 254750, 603500, 471000, 359125, 492000, 412500, 472375, 351000, 644806, 577625, 1067750, 827250, 337664, 679875, 688812, 402125, 563000, 263250, 395487, 308000, 526750, 322225, 899875, 617147, 222142, 608500, 391375, 329375, 522375, 1209487, 266875, 460500, 287225, 395487, 809750, 324237, 644337, 309875, 361249, 394225, 439500, 334750, 365250, 840500, 912639, 759987, 489500, 345000, 515250, 370237, 543931, 550750, 862000, 333687, 484265, 317487, 331000, 1360525, 329250, 503060, 285487, 417862, 623750, 852000, 524125, 430750, 323500, 637500, 544000, 919497, 376875, 572237, 259237, 540625, 298100, 465533, 867125, 490250, 445000, 583500, 351375, 380100, 1123500, 413312, 494875, 316750, 470750, 611250, 350000, 537237, 533125, 322377, 608250, 597312, 284750, 856262, 324237, 472750, 459275, 387750, 187543, 456250, 764156, 582487, 314625, 512476, 520000, 315750, 376575, 402237, 184085, 395237, 275625, 599962, 299975, 453407, 332000, 461500, 876250, 255375, 988000, 514775, 445987, 251500, 688281, 432250, 360000, 416112, 1422000, 736250, 543397, 371250, 425862, 502621, 464250, 312875, 422398, 479625, 430812, 1663737, 511250, 598250, 472000, 624625, 454737, 1107250, 358750, 353575, 391125, 407750, 659912, 691000, 1278987, 581250, 487250, 387250, 355624, 524375, 400650, 596625, 337250, 537250, 996750, 323375, 537250, 323500, 416112, 530750, 502500, 241500, 502750, 366875, 456000, 541250, 397475, 433093, 401000, 335375, 247737, 377211, 537500, 384750, 502375, 267500, 278750, 285000, 439500, 537487, 498625, 713250, 475250, 406500, 319250, 358625, 856375, 709000, 1141389, 462487, 600625, 441375, 331875, 555149, 262850, 778750, 344225, 750500, 570237, 300125, 518875, 367500, 540500, 358112, 338925, 181750, 398625, 209100, 567500, 410037, 486487, 346850, 354225, 689125, 775875, 266000, 627375, 501750, 246750, 907762, 466247, 315350, 523250, 489750, 403500, 201843, 528750, 322377, 587725, 274000, 452876, 568750, 605103, 781875, 850622, 485875, 428775, 297487, 273599, 511900, 256612, 397500, 234487, 665750, 598126, 377250, 489750, 1460000, 483750, 346250, 388700, 372125, 309875, 232868, 419762, 561840, 287250, 338875, 393612, 774400, 649850, 400425, 839500, 442500, 356000, 1593250, 462000, 224850, 1410000, 408750, 389425, 325775, 280250, 570375, 320887, 582225, 634750, 349725, 745500, 374812, 470000, 578633, 272750, 791750, 471500, 895000, 356625, 378112, 745500, 1064500, 338750, 303500, 478000, 551875, 470750, 269687, 907000, 818247, 456750, 320362, 386375, 378750, 336000, 585450, 766250, 715737, 688750, 277350, 553375, 543000, 551875, 440800, 479075, 273725, 555750, 215600, 402112, 342650, 492237, 673000, 358112, 391125, 627875, 476237, 488750, 590840, 471000, 436625, 278975, 465533, 328875, 465125, 389600, 678187, 608312, 506000, 553750, 419500, 1237000, 327500, 363500, 3011825, 409250, 292500, 652000, 458000, 667000, 373125, 393850, 621237, 462125, 500237, 367484, 591487, 464237, 490000, 582875, 355612, 601737, 566251, 621611, 535437, 421712, 937250, 712487, 418750, 1513750, 365375, 400250, 387737, 207250, 305625, 445612, 332250, 425875, 337000, 330762, 668500, 484250, 315350, 444125, 464250, 888625, 414625, 560750, 662660, 430037, 883762, 566750, 556237, 402502, 211150, 404975, 301750, 274875, 421987, 320862, 387500, 455487, 339625, 552250, 373125, 229250, 370250, 745000, 201820, 575875, 353337, 403125, 455487, 309237, 329862, 286612, 301250, 320500, 364250, 1641997, 427000, 623250, 784125, 552875, 509750, 384125, 389375, 302612, 507500, 416112, 720750, 568750, 721450, 2505000, 314225, 454975, 410765, 625125, 354175, 666056, 410500, 257000, 529750, 415750, 237500, 216237, 502500, 324962, 428500, 457237, 297000, 524500, 299987, 316125, 367125, 314125, 407750, 501875, 565862, 719750, 509397, 407500, 257500, 392625, 936125, 469875, 625250, 448500, 274125, 193326, 455250, 1307500, 546237, 365737, 757222, 254987, 554375, 1499000, 614590, 606225, 1641997, 543397, 552125, 380000, 396054, 335500, 360375, 462875, 986500, 521250, 271250, 290110, 901250, 294500, 720875, 839875, 509050, 467090, 512250, 267250, 428890, 1135000, 593125, 393500, 915000, 956750, 421000, 1092250, 513312, 385025, 594250, 881075, 329862, 401220, 220500, 542612, 350250, 420250, 453407, 401125, 491237, 341987, 731048, 394225, 458250, 1129000, 516875, 383125, 289725, 385487, 438250, 361112, 589005, 442750, 418805, 1458737, 493575, 776750, 425737, 636750, 564750, 870502, 510737, 625687, 451862, 602500, 360375, 319987, 481350, 372700, 478312, 398525, 621250, 208472, 545250, 286837, 557112, 343800, 571250, 695550, 260950, 345725, 510500, 592750, 544875, 278800, 342362, 396250, 1150625, 852500, 489375, 420875, 739750, 568987, 543737, 834873, 299172, 367125, 233468, 1081437, 233125, 345000, 224125, 581210, 955000, 552500, 260475, 749487, 263000, 342362, 604222, 434737, 422987, 234650, 558750, 272000, 304400, 199737, 581500, 579737, 319954, 370212, 451291, 520375, 832125, 364000, 463750, 673125, 280110, 512500, 932625, 454875, 687500, 234472, 491511, 357237, 709475, 886750, 610060, 425625, 370498, 467350, 298625, 285925, 337750, 495000, 1825000, 419612, 911250, 236500, 518250, 250000, 421750, 303025, 542500, 329000, 588150, 966687, 816250, 865250, 290000, 290250, 323887, 496500, 381750, 485750, 562487, 495612, 579862, 458112, 350375, 940625, 250350, 826187, 511625, 483875, 541875, 385000, 545000, 712500, 366250, 677375, 789375, 1825000, 525062, 337750, 527625, 1204375, 717281, 608750, 683025, 423562, 526000, 352475, 498500, 971500, 1147750, 453750, 454587, 255200, 471533, 334237, 590625, 813250, 860000, 412750, 1415000, 354750, 389750, 429700, 514275, 406987, 272250, 441362, 509031, 504875, 499250, 824775, 451362, 511750, 447500, 477500, 522000, 550250, 715125, 282125, 795000, 307000, 525987, 438275, 224975, 278950, 620000, 533400, 373125, 966000, 609750, 353250, 266225, 1001000, 672473, 342000, 330850, 584750, 480125, 1130331, 303000, 317875, 591393, 559812, 687000, 1146625, 563500, 357485, 807375, 488090, 1024347, 454487, 1293331, 594345, 447500, 802250, 703547, 651000, 561475, 428737, 802750, 848447, 388375, 387375, 790500, 678004, 541500, 563000, 798019, 314100, 1496250, 500100, 446250, 743475, 489000, 408750, 1528750, 325750, 369875, 496487, 829334, 328500, 366425, 1119347, 908250, 529125, 606187, 351750, 871237, 335315, 419987, 487100, 747487, 610125, 284725, 526033, 1332202, 840110, 406247, 570147, 460975, 2150000, 527411, 356062, 635987, 452124, 426970, 968750, 488113, 374000, 1233247, 883747, 430400, 467350, 559948, 457777, 396725, 518712, 709862, 442187, 359373, 438250, 594362, 316372, 615620, 576652, 365899, 490000, 1050750, 513612, 328875, 347750, 1725750, 610125, 396350, 544975, 1012925, 459220, 375225, 739750, 723875, 706237, 921150, 633675, 320625, 418237, 314125, 395250, 439289, 508500, 292950, 308500, 356372, 566637, 417750, 602500, 456162, 652500, 522375, 567500, 1528750, 881000, 276500, 1097622, 391125, 312875, 469725]\n",
      "[489500, 433875, 652750, 476325, 319475, 1080375, 332062, 519987, 456000, 339895, 396054, 466750, 352025, 478050, 1036250, 372475, 617500, 309625, 464500, 470875, 388375, 395250, 804000, 733250, 287425, 627375, 1056876, 496812, 1034227, 499000, 1725750, 1642139, 466737, 373500, 366500, 379750, 297812, 729500, 412475, 277637, 893582, 463000, 296750, 410125, 343500, 511112, 376737, 527500, 352387, 743500, 321000, 279125, 328725, 664500, 579812, 541250, 531000, 316750, 542500, 665000, 286375, 488090, 923125, 294862, 870000, 290750, 313125, 248500, 396625, 426125, 923750, 269750, 657500, 447562, 207125, 278568, 625625, 395000, 902975, 505750, 344675, 721625, 447250, 317237, 303125, 295500, 578750, 636250, 340750, 336250, 609750, 754750, 372750, 270250, 588750, 374157, 272987, 395162, 324837, 455350, 224500, 389837, 667500, 587000, 587875, 623250, 301650, 415625, 359250, 773250, 526000, 316912, 541500, 682625, 485625, 325937, 806250, 668500, 2196000, 458000, 1212488, 452250, 595375, 755250, 306275, 652500, 490000, 464000, 247250, 475950, 378662, 240060, 655750, 372487, 224500, 415500, 306737, 507147, 680500, 387225, 1055250, 290110, 456837, 606525, 646023, 428975, 716500, 319954, 669625, 393487, 395550, 294000, 462172, 551125, 469750, 315625, 233750, 692868, 412362, 531250, 1234750, 425787, 466225, 300625, 261687, 659625, 423225, 466750, 481250, 293750, 431500, 845958, 318750, 361625, 466375, 571687, 528875, 731520, 392250, 377625, 444125, 360487, 411500, 729987, 471887, 672250, 497750, 472737, 560750, 511000, 457500, 818750, 579612, 434847, 428575, 706875, 429500, 570000, 285687, 489162, 626375, 969250, 739750, 407650, 300500, 1188250, 585450, 442987, 403800, 596562, 339462, 488250, 362362, 320625, 344125, 516750, 667125, 316437, 434750, 355375, 473762, 304625, 318622, 301056, 1016625, 282750, 720750, 960750, 278125, 561225, 509114, 437125, 381725, 796000, 480750, 485376, 617625, 566500, 1173250, 598000, 367500, 441250, 535000, 471737, 210875, 186987, 316750, 571250, 973872, 448000, 403975, 1190000, 440650, 402500, 448987, 800500, 389875, 309875, 397250, 258862, 323749, 578750, 261237, 2210000, 742500, 479525, 268375, 491125, 660625, 531125, 344662, 437500, 263250, 376331, 419725, 336800, 489825, 331975, 842500, 480625, 418748, 730000, 948125, 696625, 342112, 1206250, 208750, 351250, 316500, 392750, 1297001, 524500, 745500, 237000, 459500, 415300, 1187488, 449750, 396487, 335250, 1285750, 527625, 444737, 501237, 416725, 650350, 644500, 908475, 365125, 324875, 1675000, 411250, 194562, 453725, 240625, 417475, 324237, 418250, 438750, 579250, 287500, 600000, 579250, 434443, 770722, 826500, 270875, 1273250, 594750, 717250, 604625, 468312, 717750, 417500, 420225, 644120, 272112, 273900, 292125, 594362, 681250, 268250, 609612, 657125, 426487, 443612, 759000, 431987, 801750, 417500, 342737, 393450, 568750, 462500, 363987, 1031250, 257487, 379750, 251750, 540250, 302475, 324737, 345350, 679962, 267000, 361600, 580625, 441987, 355875, 301025, 220987, 318916, 354787, 652625, 1011875, 309437, 199250, 411675, 515125, 1513247, 357487, 542500, 607625, 285250, 847462, 498125, 585500, 827225, 628750, 1638750, 1330750, 221737, 600120, 438875, 432250, 285000, 866262, 279250, 493750, 275625, 1798462, 259000, 3011825, 238125, 486750, 660000, 414237, 1072125, 856100, 696237, 355000, 363750, 324125, 439600, 560340, 287174, 996250, 317055, 947125, 710000, 429500, 280875, 387375, 503737, 401375, 309000, 478750, 533562, 453000, 584500, 571750, 331375, 548562, 396125, 1122950, 1002171, 323750, 594112, 1058156, 1575750, 271375, 524125, 260250, 351750, 504250, 363750, 407125, 316250, 502687, 434487, 570312, 443250, 322124, 649562, 335000, 429500, 253700, 593125, 354414, 458000, 383250, 298862, 674312, 554750, 434400, 551362, 538375, 821225, 481725, 634737, 426679, 377596, 414750, 240875, 327250, 481487, 578125, 349000, 913562, 506825, 454975, 708125, 562500, 450612, 501125, 367487, 1138750, 470000, 674312, 386375, 486000, 609375, 736250, 733675, 808250, 580125, 392500, 298662, 459000, 278987, 567375, 628748, 566250, 383237, 606250, 916500, 513500, 547487, 545225, 1033750, 438250, 591750, 298025, 408487, 603362, 605750, 256237, 354550, 215600, 733500, 402608, 442487, 851389, 221625, 438000, 546237, 373487, 393752, 587000, 1909125, 459625, 188362, 623000, 887500, 488500, 853750, 1328375, 586125, 349250, 269750, 513625, 360487, 436375, 424925, 471750, 278975, 541500, 518376, 443250, 641000, 413375, 561575, 441500, 300500, 892875, 208250, 641298, 452100, 387500, 196500, 358500, 363112, 861850, 353425, 488500, 537000, 346000, 960875, 421250, 604950, 433500, 552875, 365250, 650625, 320750, 544250, 950250, 254750, 603500, 471000, 359125, 492000, 412500, 472375, 351000, 644806, 577625, 1067750, 827250, 337664, 679875, 688812, 402125, 563000, 263250, 395487, 308000, 526750, 322225, 899875, 617147, 222142, 608500, 391375, 329375, 522375, 1209487, 266875, 460500, 287225, 395487, 809750, 324237, 644337, 309875, 361249, 394225, 439500, 334750, 365250, 840500, 912639, 759987, 489500, 345000, 515250, 370237, 543931, 550750, 862000, 333687, 484265, 317487, 331000, 1360525, 329250, 503060, 285487, 417862, 623750, 852000, 524125, 430750, 323500, 637500, 544000, 919497, 376875, 572237, 259237, 540625, 298100, 465533, 867125, 490250, 445000, 583500, 351375, 380100, 1123500, 413312, 494875, 316750, 470750, 611250, 350000, 537237, 533125, 322377, 608250, 597312, 284750, 856262, 324237, 472750, 459275, 387750, 187543, 456250, 764156, 582487, 314625, 512476, 520000, 315750, 376575, 402237, 184085, 395237, 275625, 599962, 299975, 453407, 332000, 461500, 876250, 255375, 988000, 514775, 445987, 251500, 688281, 432250, 360000, 416112, 1422000, 736250, 543397, 371250, 425862, 502621, 464250, 312875, 422398, 479625, 430812, 1663737, 511250, 598250, 472000, 624625, 454737, 1107250, 358750, 353575, 391125, 407750, 659912, 691000, 1278987, 581250, 487250, 387250, 355624, 524375, 400650, 596625, 337250, 537250, 996750, 323375, 537250, 323500, 416112, 530750, 502500, 241500, 502750, 366875, 456000, 541250, 397475, 433093, 401000, 335375, 247737, 377211, 537500, 384750, 502375, 267500, 278750, 285000, 439500, 537487, 498625, 713250, 475250, 406500, 319250, 358625, 856375, 709000, 1141389, 462487, 600625, 441375, 331875, 555149, 262850, 778750, 344225, 750500, 570237, 300125, 518875, 367500, 540500, 358112, 338925, 181750, 398625, 209100, 567500, 410037, 486487, 346850, 354225, 689125, 775875, 266000, 627375, 501750, 246750, 907762, 466247, 315350, 523250, 489750, 403500, 201843, 528750, 322377, 587725, 274000, 452876, 568750, 605103, 781875, 850622, 485875, 428775, 297487, 273599, 511900, 256612, 397500, 234487, 665750, 598126, 377250, 489750, 1460000, 483750, 346250, 388700, 372125, 309875, 232868, 419762, 561840, 287250, 338875, 393612, 774400, 649850, 400425, 839500, 442500, 356000, 1593250, 462000, 224850, 1410000, 408750, 389425, 325775, 280250, 570375, 320887, 582225, 634750, 349725, 745500, 374812, 470000, 578633, 272750, 791750, 471500, 895000, 356625, 378112, 745500, 1064500, 338750, 303500, 478000, 551875, 470750, 269687, 907000, 818247, 456750, 320362, 386375, 378750, 336000, 585450, 766250, 715737, 688750, 277350, 553375, 543000, 551875, 440800, 479075, 273725, 555750, 215600, 402112, 342650, 492237, 673000, 358112, 391125, 627875, 476237, 488750, 590840, 471000, 436625, 278975, 465533, 328875, 465125, 389600, 678187, 608312, 506000, 553750, 419500, 1237000, 327500, 363500, 3011825, 409250, 292500, 652000, 458000, 667000, 373125, 393850, 621237, 462125, 500237, 367484, 591487, 464237, 490000, 582875, 355612, 601737, 566251, 621611, 535437, 421712, 937250, 712487, 418750, 1513750, 365375, 400250, 387737, 207250, 305625, 445612, 332250, 425875, 337000, 330762, 668500, 484250, 315350, 444125, 464250, 888625, 414625, 560750, 662660, 430037, 883762, 566750, 556237, 402502, 211150, 404975, 301750, 274875, 421987, 320862, 387500, 455487, 339625, 552250, 373125, 229250, 370250, 745000, 201820, 575875, 353337, 403125, 455487, 309237, 329862, 286612, 301250, 320500, 364250, 1641997, 427000, 623250, 784125, 552875, 509750, 384125, 389375, 302612, 507500, 416112, 720750, 568750, 721450, 2505000, 314225, 454975, 410765, 625125, 354175, 666056, 410500, 257000, 529750, 415750, 237500, 216237, 502500, 324962, 428500, 457237, 297000, 524500, 299987, 316125, 367125, 314125, 407750, 501875, 565862, 719750, 509397, 407500, 257500, 392625, 936125, 469875, 625250, 448500, 274125, 193326, 455250, 1307500, 546237, 365737, 757222, 254987, 554375, 1499000, 614590, 606225, 1641997, 543397, 552125, 380000, 396054, 335500, 360375, 462875, 986500, 521250, 271250, 290110, 901250, 294500, 720875, 839875, 509050, 467090, 512250, 267250, 428890, 1135000, 593125, 393500, 915000, 956750, 421000, 1092250, 513312, 385025, 594250, 881075, 329862, 401220, 220500, 542612, 350250, 420250, 453407, 401125, 491237, 341987, 731048, 394225, 458250, 1129000, 516875, 383125, 289725, 385487, 438250, 361112, 589005, 442750, 418805, 1458737, 493575, 776750, 425737, 636750, 564750, 870502, 510737, 625687, 451862, 602500, 360375, 319987, 481350, 372700, 478312, 398525, 621250, 208472, 545250, 286837, 557112, 343800, 571250, 695550, 260950, 345725, 510500, 592750, 544875, 278800, 342362, 396250, 1150625, 852500, 489375, 420875, 739750, 568987, 543737, 834873, 299172, 367125, 233468, 1081437, 233125, 345000, 224125, 581210, 955000, 552500, 260475, 749487, 263000, 342362, 604222, 434737, 422987, 234650, 558750, 272000, 304400, 199737, 581500, 579737, 319954, 370212, 451291, 520375, 832125, 364000, 463750, 673125, 280110, 512500, 932625, 454875, 687500, 234472, 491511, 357237, 709475, 886750, 610060, 425625, 370498, 467350, 298625, 285925, 337750, 495000, 1825000, 419612, 911250, 236500, 518250, 250000, 421750, 303025, 542500, 329000, 588150, 966687, 816250, 865250, 290000, 290250, 323887, 496500, 381750, 485750, 562487, 495612, 579862, 458112, 350375, 940625, 250350, 826187, 511625, 483875, 541875, 385000, 545000, 712500, 366250, 677375, 789375, 1825000, 525062, 337750, 527625, 1204375, 717281, 608750, 683025, 423562, 526000, 352475, 498500, 971500, 1147750, 453750, 454587, 255200, 471533, 334237, 590625, 813250, 860000, 412750, 1415000, 354750, 389750, 429700, 514275, 406987, 272250, 441362, 509031, 504875, 499250, 824775, 451362, 511750, 447500, 477500, 522000, 550250, 715125, 282125, 795000, 307000, 525987, 438275, 224975, 278950, 620000, 533400, 373125, 966000, 609750, 353250, 266225, 1001000, 672473, 342000, 330850, 584750, 480125, 1130331, 303000, 317875, 591393, 559812, 687000, 1146625, 563500, 357485, 807375, 488090, 1024347, 454487, 1293331, 594345, 447500, 802250, 703547, 651000, 561475, 428737, 802750, 848447, 388375, 387375, 790500, 678004, 541500, 563000, 798019, 314100, 1496250, 500100, 446250, 743475, 489000, 408750, 1528750, 325750, 369875, 496487, 829334, 328500, 366425, 1119347, 908250, 529125, 606187, 351750, 871237, 335315, 419987, 487100, 747487, 610125, 284725, 526033, 1332202, 840110, 406247, 570147, 460975, 2150000, 527411, 356062, 635987, 452124, 426970, 968750, 488113, 374000, 1233247, 883747, 430400, 467350, 559948, 457777, 396725, 518712, 709862, 442187, 359373, 438250, 594362, 316372, 615620, 576652, 365899, 490000, 1050750, 513612, 328875, 347750, 1725750, 610125, 396350, 544975, 1012925, 459220, 375225, 739750, 723875, 706237, 921150, 633675, 320625, 418237, 314125, 395250, 439289, 508500, 292950, 308500, 356372, 566637, 417750, 602500, 456162, 652500, 522375, 567500, 1528750, 881000, 276500, 1097622, 391125, 312875, 469725]\n",
      "[489500, 433875, 652750, 476325, 319475, 1080375, 332062, 519987, 456000, 339895, 396054, 466750, 352025, 478050, 1036250, 372475, 617500, 309625, 464500, 470875, 388375, 395250, 804000, 733250, 287425, 627375, 1056876, 496812, 1034227, 499000, 1725750, 1642139, 466737, 373500, 366500, 379750, 297812, 729500, 412475, 277637, 893582, 463000, 296750, 410125, 343500, 511112, 376737, 527500, 352387, 743500, 321000, 279125, 328725, 664500, 579812, 541250, 531000, 316750, 542500, 665000, 286375, 488090, 923125, 294862, 870000, 290750, 313125, 248500, 396625, 426125, 923750, 269750, 657500, 447562, 207125, 278568, 625625, 395000, 902975, 505750, 344675, 721625, 447250, 317237, 303125, 295500, 578750, 636250, 340750, 336250, 609750, 754750, 372750, 270250, 588750, 374157, 272987, 395162, 324837, 455350, 224500, 389837, 667500, 587000, 587875, 623250, 301650, 415625, 359250, 773250, 526000, 316912, 541500, 682625, 485625, 325937, 806250, 668500, 2196000, 458000, 1212488, 452250, 595375, 755250, 306275, 652500, 490000, 464000, 247250, 475950, 378662, 240060, 655750, 372487, 224500, 415500, 306737, 507147, 680500, 387225, 1055250, 290110, 456837, 606525, 646023, 428975, 716500, 319954, 669625, 393487, 395550, 294000, 462172, 551125, 469750, 315625, 233750, 692868, 412362, 531250, 1234750, 425787, 466225, 300625, 261687, 659625, 423225, 466750, 481250, 293750, 431500, 845958, 318750, 361625, 466375, 571687, 528875, 731520, 392250, 377625, 444125, 360487, 411500, 729987, 471887, 672250, 497750, 472737, 560750, 511000, 457500, 818750, 579612, 434847, 428575, 706875, 429500, 570000, 285687, 489162, 626375, 969250, 739750, 407650, 300500, 1188250, 585450, 442987, 403800, 596562, 339462, 488250, 362362, 320625, 344125, 516750, 667125, 316437, 434750, 355375, 473762, 304625, 318622, 301056, 1016625, 282750, 720750, 960750, 278125, 561225, 509114, 437125, 381725, 796000, 480750, 485376, 617625, 566500, 1173250, 598000, 367500, 441250, 535000, 471737, 210875, 186987, 316750, 571250, 973872, 448000, 403975, 1190000, 440650, 402500, 448987, 800500, 389875, 309875, 397250, 258862, 323749, 578750, 261237, 2210000, 742500, 479525, 268375, 491125, 660625, 531125, 344662, 437500, 263250, 376331, 419725, 336800, 489825, 331975, 842500, 480625, 418748, 730000, 948125, 696625, 342112, 1206250, 208750, 351250, 316500, 392750, 1297001, 524500, 745500, 237000, 459500, 415300, 1187488, 449750, 396487, 335250, 1285750, 527625, 444737, 501237, 416725, 650350, 644500, 908475, 365125, 324875, 1675000, 411250, 194562, 453725, 240625, 417475, 324237, 418250, 438750, 579250, 287500, 600000, 579250, 434443, 770722, 826500, 270875, 1273250, 594750, 717250, 604625, 468312, 717750, 417500, 420225, 644120, 272112, 273900, 292125, 594362, 681250, 268250, 609612, 657125, 426487, 443612, 759000, 431987, 801750, 417500, 342737, 393450, 568750, 462500, 363987, 1031250, 257487, 379750, 251750, 540250, 302475, 324737, 345350, 679962, 267000, 361600, 580625, 441987, 355875, 301025, 220987, 318916, 354787, 652625, 1011875, 309437, 199250, 411675, 515125, 1513247, 357487, 542500, 607625, 285250, 847462, 498125, 585500, 827225, 628750, 1638750, 1330750, 221737, 600120, 438875, 432250, 285000, 866262, 279250, 493750, 275625, 1798462, 259000, 3011825, 238125, 486750, 660000, 414237, 1072125, 856100, 696237, 355000, 363750, 324125, 439600, 560340, 287174, 996250, 317055, 947125, 710000, 429500, 280875, 387375, 503737, 401375, 309000, 478750, 533562, 453000, 584500, 571750, 331375, 548562, 396125, 1122950, 1002171, 323750, 594112, 1058156, 1575750, 271375, 524125, 260250, 351750, 504250, 363750, 407125, 316250, 502687, 434487, 570312, 443250, 322124, 649562, 335000, 429500, 253700, 593125, 354414, 458000, 383250, 298862, 674312, 554750, 434400, 551362, 538375, 821225, 481725, 634737, 426679, 377596, 414750, 240875, 327250, 481487, 578125, 349000, 913562, 506825, 454975, 708125, 562500, 450612, 501125, 367487, 1138750, 470000, 674312, 386375, 486000, 609375, 736250, 733675, 808250, 580125, 392500, 298662, 459000, 278987, 567375, 628748, 566250, 383237, 606250, 916500, 513500, 547487, 545225, 1033750, 438250, 591750, 298025, 408487, 603362, 605750, 256237, 354550, 215600, 733500, 402608, 442487, 851389, 221625, 438000, 546237, 373487, 393752, 587000, 1909125, 459625, 188362, 623000, 887500, 488500, 853750, 1328375, 586125, 349250, 269750, 513625, 360487, 436375, 424925, 471750, 278975, 541500, 518376, 443250, 641000, 413375, 561575, 441500, 300500, 892875, 208250, 641298, 452100, 387500, 196500, 358500, 363112, 861850, 353425, 488500, 537000, 346000, 960875, 421250, 604950, 433500, 552875, 365250, 650625, 320750, 544250, 950250, 254750, 603500, 471000, 359125, 492000, 412500, 472375, 351000, 644806, 577625, 1067750, 827250, 337664, 679875, 688812, 402125, 563000, 263250, 395487, 308000, 526750, 322225, 899875, 617147, 222142, 608500, 391375, 329375, 522375, 1209487, 266875, 460500, 287225, 395487, 809750, 324237, 644337, 309875, 361249, 394225, 439500, 334750, 365250, 840500, 912639, 759987, 489500, 345000, 515250, 370237, 543931, 550750, 862000, 333687, 484265, 317487, 331000, 1360525, 329250, 503060, 285487, 417862, 623750, 852000, 524125, 430750, 323500, 637500, 544000, 919497, 376875, 572237, 259237, 540625, 298100, 465533, 867125, 490250, 445000, 583500, 351375, 380100, 1123500, 413312, 494875, 316750, 470750, 611250, 350000, 537237, 533125, 322377, 608250, 597312, 284750, 856262, 324237, 472750, 459275, 387750, 187543, 456250, 764156, 582487, 314625, 512476, 520000, 315750, 376575, 402237, 184085, 395237, 275625, 599962, 299975, 453407, 332000, 461500, 876250, 255375, 988000, 514775, 445987, 251500, 688281, 432250, 360000, 416112, 1422000, 736250, 543397, 371250, 425862, 502621, 464250, 312875, 422398, 479625, 430812, 1663737, 511250, 598250, 472000, 624625, 454737, 1107250, 358750, 353575, 391125, 407750, 659912, 691000, 1278987, 581250, 487250, 387250, 355624, 524375, 400650, 596625, 337250, 537250, 996750, 323375, 537250, 323500, 416112, 530750, 502500, 241500, 502750, 366875, 456000, 541250, 397475, 433093, 401000, 335375, 247737, 377211, 537500, 384750, 502375, 267500, 278750, 285000, 439500, 537487, 498625, 713250, 475250, 406500, 319250, 358625, 856375, 709000, 1141389, 462487, 600625, 441375, 331875, 555149, 262850, 778750, 344225, 750500, 570237, 300125, 518875, 367500, 540500, 358112, 338925, 181750, 398625, 209100, 567500, 410037, 486487, 346850, 354225, 689125, 775875, 266000, 627375, 501750, 246750, 907762, 466247, 315350, 523250, 489750, 403500, 201843, 528750, 322377, 587725, 274000, 452876, 568750, 605103, 781875, 850622, 485875, 428775, 297487, 273599, 511900, 256612, 397500, 234487, 665750, 598126, 377250, 489750, 1460000, 483750, 346250, 388700, 372125, 309875, 232868, 419762, 561840, 287250, 338875, 393612, 774400, 649850, 400425, 839500, 442500, 356000, 1593250, 462000, 224850, 1410000, 408750, 389425, 325775, 280250, 570375, 320887, 582225, 634750, 349725, 745500, 374812, 470000, 578633, 272750, 791750, 471500, 895000, 356625, 378112, 745500, 1064500, 338750, 303500, 478000, 551875, 470750, 269687, 907000, 818247, 456750, 320362, 386375, 378750, 336000, 585450, 766250, 715737, 688750, 277350, 553375, 543000, 551875, 440800, 479075, 273725, 555750, 215600, 402112, 342650, 492237, 673000, 358112, 391125, 627875, 476237, 488750, 590840, 471000, 436625, 278975, 465533, 328875, 465125, 389600, 678187, 608312, 506000, 553750, 419500, 1237000, 327500, 363500, 3011825, 409250, 292500, 652000, 458000, 667000, 373125, 393850, 621237, 462125, 500237, 367484, 591487, 464237, 490000, 582875, 355612, 601737, 566251, 621611, 535437, 421712, 937250, 712487, 418750, 1513750, 365375, 400250, 387737, 207250, 305625, 445612, 332250, 425875, 337000, 330762, 668500, 484250, 315350, 444125, 464250, 888625, 414625, 560750, 662660, 430037, 883762, 566750, 556237, 402502, 211150, 404975, 301750, 274875, 421987, 320862, 387500, 455487, 339625, 552250, 373125, 229250, 370250, 745000, 201820, 575875, 353337, 403125, 455487, 309237, 329862, 286612, 301250, 320500, 364250, 1641997, 427000, 623250, 784125, 552875, 509750, 384125, 389375, 302612, 507500, 416112, 720750, 568750, 721450, 2505000, 314225, 454975, 410765, 625125, 354175, 666056, 410500, 257000, 529750, 415750, 237500, 216237, 502500, 324962, 428500, 457237, 297000, 524500, 299987, 316125, 367125, 314125, 407750, 501875, 565862, 719750, 509397, 407500, 257500, 392625, 936125, 469875, 625250, 448500, 274125, 193326, 455250, 1307500, 546237, 365737, 757222, 254987, 554375, 1499000, 614590, 606225, 1641997, 543397, 552125, 380000, 396054, 335500, 360375, 462875, 986500, 521250, 271250, 290110, 901250, 294500, 720875, 839875, 509050, 467090, 512250, 267250, 428890, 1135000, 593125, 393500, 915000, 956750, 421000, 1092250, 513312, 385025, 594250, 881075, 329862, 401220, 220500, 542612, 350250, 420250, 453407, 401125, 491237, 341987, 731048, 394225, 458250, 1129000, 516875, 383125, 289725, 385487, 438250, 361112, 589005, 442750, 418805, 1458737, 493575, 776750, 425737, 636750, 564750, 870502, 510737, 625687, 451862, 602500, 360375, 319987, 481350, 372700, 478312, 398525, 621250, 208472, 545250, 286837, 557112, 343800, 571250, 695550, 260950, 345725, 510500, 592750, 544875, 278800, 342362, 396250, 1150625, 852500, 489375, 420875, 739750, 568987, 543737, 834873, 299172, 367125, 233468, 1081437, 233125, 345000, 224125, 581210, 955000, 552500, 260475, 749487, 263000, 342362, 604222, 434737, 422987, 234650, 558750, 272000, 304400, 199737, 581500, 579737, 319954, 370212, 451291, 520375, 832125, 364000, 463750, 673125, 280110, 512500, 932625, 454875, 687500, 234472, 491511, 357237, 709475, 886750, 610060, 425625, 370498, 467350, 298625, 285925, 337750, 495000, 1825000, 419612, 911250, 236500, 518250, 250000, 421750, 303025, 542500, 329000, 588150, 966687, 816250, 865250, 290000, 290250, 323887, 496500, 381750, 485750, 562487, 495612, 579862, 458112, 350375, 940625, 250350, 826187, 511625, 483875, 541875, 385000, 545000, 712500, 366250, 677375, 789375, 1825000, 525062, 337750, 527625, 1204375, 717281, 608750, 683025, 423562, 526000, 352475, 498500, 971500, 1147750, 453750, 454587, 255200, 471533, 334237, 590625, 813250, 860000, 412750, 1415000, 354750, 389750, 429700, 514275, 406987, 272250, 441362, 509031, 504875, 499250, 824775, 451362, 511750, 447500, 477500, 522000, 550250, 715125, 282125, 795000, 307000, 525987, 438275, 224975, 278950, 620000, 533400, 373125, 966000, 609750, 353250, 266225, 1001000, 672473, 342000, 330850, 584750, 480125, 1130331, 303000, 317875, 591393, 559812, 687000, 1146625, 563500, 357485, 807375, 488090, 1024347, 454487, 1293331, 594345, 447500, 802250, 703547, 651000, 561475, 428737, 802750, 848447, 388375, 387375, 790500, 678004, 541500, 563000, 798019, 314100, 1496250, 500100, 446250, 743475, 489000, 408750, 1528750, 325750, 369875, 496487, 829334, 328500, 366425, 1119347, 908250, 529125, 606187, 351750, 871237, 335315, 419987, 487100, 747487, 610125, 284725, 526033, 1332202, 840110, 406247, 570147, 460975, 2150000, 527411, 356062, 635987, 452124, 426970, 968750, 488113, 374000, 1233247, 883747, 430400, 467350, 559948, 457777, 396725, 518712, 709862, 442187, 359373, 438250, 594362, 316372, 615620, 576652, 365899, 490000, 1050750, 513612, 328875, 347750, 1725750, 610125, 396350, 544975, 1012925, 459220, 375225, 739750, 723875, 706237, 921150, 633675, 320625, 418237, 314125, 395250, 439289, 508500, 292950, 308500, 356372, 566637, 417750, 602500, 456162, 652500, 522375, 567500, 1528750, 881000, 276500, 1097622, 391125, 312875, 469725]\n",
      "[489500, 433875, 652750, 476325, 319475, 1080375, 332062, 519987, 456000, 339895, 396054, 466750, 352025, 478050, 1036250, 372475, 617500, 309625, 464500, 470875, 388375, 395250, 804000, 733250, 287425, 627375, 1056876, 496812, 1034227, 499000, 1725750, 1642139, 466737, 373500, 366500, 379750, 297812, 729500, 412475, 277637, 893582, 463000, 296750, 410125, 343500, 511112, 376737, 527500, 352387, 743500, 321000, 279125, 328725, 664500, 579812, 541250, 531000, 316750, 542500, 665000, 286375, 488090, 923125, 294862, 870000, 290750, 313125, 248500, 396625, 426125, 923750, 269750, 657500, 447562, 207125, 278568, 625625, 395000, 902975, 505750, 344675, 721625, 447250, 317237, 303125, 295500, 578750, 636250, 340750, 336250, 609750, 754750, 372750, 270250, 588750, 374157, 272987, 395162, 324837, 455350, 224500, 389837, 667500, 587000, 587875, 623250, 301650, 415625, 359250, 773250, 526000, 316912, 541500, 682625, 485625, 325937, 806250, 668500, 2196000, 458000, 1212488, 452250, 595375, 755250, 306275, 652500, 490000, 464000, 247250, 475950, 378662, 240060, 655750, 372487, 224500, 415500, 306737, 507147, 680500, 387225, 1055250, 290110, 456837, 606525, 646023, 428975, 716500, 319954, 669625, 393487, 395550, 294000, 462172, 551125, 469750, 315625, 233750, 692868, 412362, 531250, 1234750, 425787, 466225, 300625, 261687, 659625, 423225, 466750, 481250, 293750, 431500, 845958, 318750, 361625, 466375, 571687, 528875, 731520, 392250, 377625, 444125, 360487, 411500, 729987, 471887, 672250, 497750, 472737, 560750, 511000, 457500, 818750, 579612, 434847, 428575, 706875, 429500, 570000, 285687, 489162, 626375, 969250, 739750, 407650, 300500, 1188250, 585450, 442987, 403800, 596562, 339462, 488250, 362362, 320625, 344125, 516750, 667125, 316437, 434750, 355375, 473762, 304625, 318622, 301056, 1016625, 282750, 720750, 960750, 278125, 561225, 509114, 437125, 381725, 796000, 480750, 485376, 617625, 566500, 1173250, 598000, 367500, 441250, 535000, 471737, 210875, 186987, 316750, 571250, 973872, 448000, 403975, 1190000, 440650, 402500, 448987, 800500, 389875, 309875, 397250, 258862, 323749, 578750, 261237, 2210000, 742500, 479525, 268375, 491125, 660625, 531125, 344662, 437500, 263250, 376331, 419725, 336800, 489825, 331975, 842500, 480625, 418748, 730000, 948125, 696625, 342112, 1206250, 208750, 351250, 316500, 392750, 1297001, 524500, 745500, 237000, 459500, 415300, 1187488, 449750, 396487, 335250, 1285750, 527625, 444737, 501237, 416725, 650350, 644500, 908475, 365125, 324875, 1675000, 411250, 194562, 453725, 240625, 417475, 324237, 418250, 438750, 579250, 287500, 600000, 579250, 434443, 770722, 826500, 270875, 1273250, 594750, 717250, 604625, 468312, 717750, 417500, 420225, 644120, 272112, 273900, 292125, 594362, 681250, 268250, 609612, 657125, 426487, 443612, 759000, 431987, 801750, 417500, 342737, 393450, 568750, 462500, 363987, 1031250, 257487, 379750, 251750, 540250, 302475, 324737, 345350, 679962, 267000, 361600, 580625, 441987, 355875, 301025, 220987, 318916, 354787, 652625, 1011875, 309437, 199250, 411675, 515125, 1513247, 357487, 542500, 607625, 285250, 847462, 498125, 585500, 827225, 628750, 1638750, 1330750, 221737, 600120, 438875, 432250, 285000, 866262, 279250, 493750, 275625, 1798462, 259000, 3011825, 238125, 486750, 660000, 414237, 1072125, 856100, 696237, 355000, 363750, 324125, 439600, 560340, 287174, 996250, 317055, 947125, 710000, 429500, 280875, 387375, 503737, 401375, 309000, 478750, 533562, 453000, 584500, 571750, 331375, 548562, 396125, 1122950, 1002171, 323750, 594112, 1058156, 1575750, 271375, 524125, 260250, 351750, 504250, 363750, 407125, 316250, 502687, 434487, 570312, 443250, 322124, 649562, 335000, 429500, 253700, 593125, 354414, 458000, 383250, 298862, 674312, 554750, 434400, 551362, 538375, 821225, 481725, 634737, 426679, 377596, 414750, 240875, 327250, 481487, 578125, 349000, 913562, 506825, 454975, 708125, 562500, 450612, 501125, 367487, 1138750, 470000, 674312, 386375, 486000, 609375, 736250, 733675, 808250, 580125, 392500, 298662, 459000, 278987, 567375, 628748, 566250, 383237, 606250, 916500, 513500, 547487, 545225, 1033750, 438250, 591750, 298025, 408487, 603362, 605750, 256237, 354550, 215600, 733500, 402608, 442487, 851389, 221625, 438000, 546237, 373487, 393752, 587000, 1909125, 459625, 188362, 623000, 887500, 488500, 853750, 1328375, 586125, 349250, 269750, 513625, 360487, 436375, 424925, 471750, 278975, 541500, 518376, 443250, 641000, 413375, 561575, 441500, 300500, 892875, 208250, 641298, 452100, 387500, 196500, 358500, 363112, 861850, 353425, 488500, 537000, 346000, 960875, 421250, 604950, 433500, 552875, 365250, 650625, 320750, 544250, 950250, 254750, 603500, 471000, 359125, 492000, 412500, 472375, 351000, 644806, 577625, 1067750, 827250, 337664, 679875, 688812, 402125, 563000, 263250, 395487, 308000, 526750, 322225, 899875, 617147, 222142, 608500, 391375, 329375, 522375, 1209487, 266875, 460500, 287225, 395487, 809750, 324237, 644337, 309875, 361249, 394225, 439500, 334750, 365250, 840500, 912639, 759987, 489500, 345000, 515250, 370237, 543931, 550750, 862000, 333687, 484265, 317487, 331000, 1360525, 329250, 503060, 285487, 417862, 623750, 852000, 524125, 430750, 323500, 637500, 544000, 919497, 376875, 572237, 259237, 540625, 298100, 465533, 867125, 490250, 445000, 583500, 351375, 380100, 1123500, 413312, 494875, 316750, 470750, 611250, 350000, 537237, 533125, 322377, 608250, 597312, 284750, 856262, 324237, 472750, 459275, 387750, 187543, 456250, 764156, 582487, 314625, 512476, 520000, 315750, 376575, 402237, 184085, 395237, 275625, 599962, 299975, 453407, 332000, 461500, 876250, 255375, 988000, 514775, 445987, 251500, 688281, 432250, 360000, 416112, 1422000, 736250, 543397, 371250, 425862, 502621, 464250, 312875, 422398, 479625, 430812, 1663737, 511250, 598250, 472000, 624625, 454737, 1107250, 358750, 353575, 391125, 407750, 659912, 691000, 1278987, 581250, 487250, 387250, 355624, 524375, 400650, 596625, 337250, 537250, 996750, 323375, 537250, 323500, 416112, 530750, 502500, 241500, 502750, 366875, 456000, 541250, 397475, 433093, 401000, 335375, 247737, 377211, 537500, 384750, 502375, 267500, 278750, 285000, 439500, 537487, 498625, 713250, 475250, 406500, 319250, 358625, 856375, 709000, 1141389, 462487, 600625, 441375, 331875, 555149, 262850, 778750, 344225, 750500, 570237, 300125, 518875, 367500, 540500, 358112, 338925, 181750, 398625, 209100, 567500, 410037, 486487, 346850, 354225, 689125, 775875, 266000, 627375, 501750, 246750, 907762, 466247, 315350, 523250, 489750, 403500, 201843, 528750, 322377, 587725, 274000, 452876, 568750, 605103, 781875, 850622, 485875, 428775, 297487, 273599, 511900, 256612, 397500, 234487, 665750, 598126, 377250, 489750, 1460000, 483750, 346250, 388700, 372125, 309875, 232868, 419762, 561840, 287250, 338875, 393612, 774400, 649850, 400425, 839500, 442500, 356000, 1593250, 462000, 224850, 1410000, 408750, 389425, 325775, 280250, 570375, 320887, 582225, 634750, 349725, 745500, 374812, 470000, 578633, 272750, 791750, 471500, 895000, 356625, 378112, 745500, 1064500, 338750, 303500, 478000, 551875, 470750, 269687, 907000, 818247, 456750, 320362, 386375, 378750, 336000, 585450, 766250, 715737, 688750, 277350, 553375, 543000, 551875, 440800, 479075, 273725, 555750, 215600, 402112, 342650, 492237, 673000, 358112, 391125, 627875, 476237, 488750, 590840, 471000, 436625, 278975, 465533, 328875, 465125, 389600, 678187, 608312, 506000, 553750, 419500, 1237000, 327500, 363500, 3011825, 409250, 292500, 652000, 458000, 667000, 373125, 393850, 621237, 462125, 500237, 367484, 591487, 464237, 490000, 582875, 355612, 601737, 566251, 621611, 535437, 421712, 937250, 712487, 418750, 1513750, 365375, 400250, 387737, 207250, 305625, 445612, 332250, 425875, 337000, 330762, 668500, 484250, 315350, 444125, 464250, 888625, 414625, 560750, 662660, 430037, 883762, 566750, 556237, 402502, 211150, 404975, 301750, 274875, 421987, 320862, 387500, 455487, 339625, 552250, 373125, 229250, 370250, 745000, 201820, 575875, 353337, 403125, 455487, 309237, 329862, 286612, 301250, 320500, 364250, 1641997, 427000, 623250, 784125, 552875, 509750, 384125, 389375, 302612, 507500, 416112, 720750, 568750, 721450, 2505000, 314225, 454975, 410765, 625125, 354175, 666056, 410500, 257000, 529750, 415750, 237500, 216237, 502500, 324962, 428500, 457237, 297000, 524500, 299987, 316125, 367125, 314125, 407750, 501875, 565862, 719750, 509397, 407500, 257500, 392625, 936125, 469875, 625250, 448500, 274125, 193326, 455250, 1307500, 546237, 365737, 757222, 254987, 554375, 1499000, 614590, 606225, 1641997, 543397, 552125, 380000, 396054, 335500, 360375, 462875, 986500, 521250, 271250, 290110, 901250, 294500, 720875, 839875, 509050, 467090, 512250, 267250, 428890, 1135000, 593125, 393500, 915000, 956750, 421000, 1092250, 513312, 385025, 594250, 881075, 329862, 401220, 220500, 542612, 350250, 420250, 453407, 401125, 491237, 341987, 731048, 394225, 458250, 1129000, 516875, 383125, 289725, 385487, 438250, 361112, 589005, 442750, 418805, 1458737, 493575, 776750, 425737, 636750, 564750, 870502, 510737, 625687, 451862, 602500, 360375, 319987, 481350, 372700, 478312, 398525, 621250, 208472, 545250, 286837, 557112, 343800, 571250, 695550, 260950, 345725, 510500, 592750, 544875, 278800, 342362, 396250, 1150625, 852500, 489375, 420875, 739750, 568987, 543737, 834873, 299172, 367125, 233468, 1081437, 233125, 345000, 224125, 581210, 955000, 552500, 260475, 749487, 263000, 342362, 604222, 434737, 422987, 234650, 558750, 272000, 304400, 199737, 581500, 579737, 319954, 370212, 451291, 520375, 832125, 364000, 463750, 673125, 280110, 512500, 932625, 454875, 687500, 234472, 491511, 357237, 709475, 886750, 610060, 425625, 370498, 467350, 298625, 285925, 337750, 495000, 1825000, 419612, 911250, 236500, 518250, 250000, 421750, 303025, 542500, 329000, 588150, 966687, 816250, 865250, 290000, 290250, 323887, 496500, 381750, 485750, 562487, 495612, 579862, 458112, 350375, 940625, 250350, 826187, 511625, 483875, 541875, 385000, 545000, 712500, 366250, 677375, 789375, 1825000, 525062, 337750, 527625, 1204375, 717281, 608750, 683025, 423562, 526000, 352475, 498500, 971500, 1147750, 453750, 454587, 255200, 471533, 334237, 590625, 813250, 860000, 412750, 1415000, 354750, 389750, 429700, 514275, 406987, 272250, 441362, 509031, 504875, 499250, 824775, 451362, 511750, 447500, 477500, 522000, 550250, 715125, 282125, 795000, 307000, 525987, 438275, 224975, 278950, 620000, 533400, 373125, 966000, 609750, 353250, 266225, 1001000, 672473, 342000, 330850, 584750, 480125, 1130331, 303000, 317875, 591393, 559812, 687000, 1146625, 563500, 357485, 807375, 488090, 1024347, 454487, 1293331, 594345, 447500, 802250, 703547, 651000, 561475, 428737, 802750, 848447, 388375, 387375, 790500, 678004, 541500, 563000, 798019, 314100, 1496250, 500100, 446250, 743475, 489000, 408750, 1528750, 325750, 369875, 496487, 829334, 328500, 366425, 1119347, 908250, 529125, 606187, 351750, 871237, 335315, 419987, 487100, 747487, 610125, 284725, 526033, 1332202, 840110, 406247, 570147, 460975, 2150000, 527411, 356062, 635987, 452124, 426970, 968750, 488113, 374000, 1233247, 883747, 430400, 467350, 559948, 457777, 396725, 518712, 709862, 442187, 359373, 438250, 594362, 316372, 615620, 576652, 365899, 490000, 1050750, 513612, 328875, 347750, 1725750, 610125, 396350, 544975, 1012925, 459220, 375225, 739750, 723875, 706237, 921150, 633675, 320625, 418237, 314125, 395250, 439289, 508500, 292950, 308500, 356372, 566637, 417750, 602500, 456162, 652500, 522375, 567500, 1528750, 881000, 276500, 1097622, 391125, 312875, 469725]\n",
      "[489500, 433875, 652750, 476325, 319475, 1080375, 332062, 519987, 456000, 339895, 396054, 466750, 352025, 478050, 1036250, 372475, 617500, 309625, 464500, 470875, 388375, 395250, 804000, 733250, 287425, 627375, 1056876, 496812, 1034227, 499000, 1725750, 1642139, 466737, 373500, 366500, 379750, 297812, 729500, 412475, 277637, 893582, 463000, 296750, 410125, 343500, 511112, 376737, 527500, 352387, 743500, 321000, 279125, 328725, 664500, 579812, 541250, 531000, 316750, 542500, 665000, 286375, 488090, 923125, 294862, 870000, 290750, 313125, 248500, 396625, 426125, 923750, 269750, 657500, 447562, 207125, 278568, 625625, 395000, 902975, 505750, 344675, 721625, 447250, 317237, 303125, 295500, 578750, 636250, 340750, 336250, 609750, 754750, 372750, 270250, 588750, 374157, 272987, 395162, 324837, 455350, 224500, 389837, 667500, 587000, 587875, 623250, 301650, 415625, 359250, 773250, 526000, 316912, 541500, 682625, 485625, 325937, 806250, 668500, 2196000, 458000, 1212488, 452250, 595375, 755250, 306275, 652500, 490000, 464000, 247250, 475950, 378662, 240060, 655750, 372487, 224500, 415500, 306737, 507147, 680500, 387225, 1055250, 290110, 456837, 606525, 646023, 428975, 716500, 319954, 669625, 393487, 395550, 294000, 462172, 551125, 469750, 315625, 233750, 692868, 412362, 531250, 1234750, 425787, 466225, 300625, 261687, 659625, 423225, 466750, 481250, 293750, 431500, 845958, 318750, 361625, 466375, 571687, 528875, 731520, 392250, 377625, 444125, 360487, 411500, 729987, 471887, 672250, 497750, 472737, 560750, 511000, 457500, 818750, 579612, 434847, 428575, 706875, 429500, 570000, 285687, 489162, 626375, 969250, 739750, 407650, 300500, 1188250, 585450, 442987, 403800, 596562, 339462, 488250, 362362, 320625, 344125, 516750, 667125, 316437, 434750, 355375, 473762, 304625, 318622, 301056, 1016625, 282750, 720750, 960750, 278125, 561225, 509114, 437125, 381725, 796000, 480750, 485376, 617625, 566500, 1173250, 598000, 367500, 441250, 535000, 471737, 210875, 186987, 316750, 571250, 973872, 448000, 403975, 1190000, 440650, 402500, 448987, 800500, 389875, 309875, 397250, 258862, 323749, 578750, 261237, 2210000, 742500, 479525, 268375, 491125, 660625, 531125, 344662, 437500, 263250, 376331, 419725, 336800, 489825, 331975, 842500, 480625, 418748, 730000, 948125, 696625, 342112, 1206250, 208750, 351250, 316500, 392750, 1297001, 524500, 745500, 237000, 459500, 415300, 1187488, 449750, 396487, 335250, 1285750, 527625, 444737, 501237, 416725, 650350, 644500, 908475, 365125, 324875, 1675000, 411250, 194562, 453725, 240625, 417475, 324237, 418250, 438750, 579250, 287500, 600000, 579250, 434443, 770722, 826500, 270875, 1273250, 594750, 717250, 604625, 468312, 717750, 417500, 420225, 644120, 272112, 273900, 292125, 594362, 681250, 268250, 609612, 657125, 426487, 443612, 759000, 431987, 801750, 417500, 342737, 393450, 568750, 462500, 363987, 1031250, 257487, 379750, 251750, 540250, 302475, 324737, 345350, 679962, 267000, 361600, 580625, 441987, 355875, 301025, 220987, 318916, 354787, 652625, 1011875, 309437, 199250, 411675, 515125, 1513247, 357487, 542500, 607625, 285250, 847462, 498125, 585500, 827225, 628750, 1638750, 1330750, 221737, 600120, 438875, 432250, 285000, 866262, 279250, 493750, 275625, 1798462, 259000, 3011825, 238125, 486750, 660000, 414237, 1072125, 856100, 696237, 355000, 363750, 324125, 439600, 560340, 287174, 996250, 317055, 947125, 710000, 429500, 280875, 387375, 503737, 401375, 309000, 478750, 533562, 453000, 584500, 571750, 331375, 548562, 396125, 1122950, 1002171, 323750, 594112, 1058156, 1575750, 271375, 524125, 260250, 351750, 504250, 363750, 407125, 316250, 502687, 434487, 570312, 443250, 322124, 649562, 335000, 429500, 253700, 593125, 354414, 458000, 383250, 298862, 674312, 554750, 434400, 551362, 538375, 821225, 481725, 634737, 426679, 377596, 414750, 240875, 327250, 481487, 578125, 349000, 913562, 506825, 454975, 708125, 562500, 450612, 501125, 367487, 1138750, 470000, 674312, 386375, 486000, 609375, 736250, 733675, 808250, 580125, 392500, 298662, 459000, 278987, 567375, 628748, 566250, 383237, 606250, 916500, 513500, 547487, 545225, 1033750, 438250, 591750, 298025, 408487, 603362, 605750, 256237, 354550, 215600, 733500, 402608, 442487, 851389, 221625, 438000, 546237, 373487, 393752, 587000, 1909125, 459625, 188362, 623000, 887500, 488500, 853750, 1328375, 586125, 349250, 269750, 513625, 360487, 436375, 424925, 471750, 278975, 541500, 518376, 443250, 641000, 413375, 561575, 441500, 300500, 892875, 208250, 641298, 452100, 387500, 196500, 358500, 363112, 861850, 353425, 488500, 537000, 346000, 960875, 421250, 604950, 433500, 552875, 365250, 650625, 320750, 544250, 950250, 254750, 603500, 471000, 359125, 492000, 412500, 472375, 351000, 644806, 577625, 1067750, 827250, 337664, 679875, 688812, 402125, 563000, 263250, 395487, 308000, 526750, 322225, 899875, 617147, 222142, 608500, 391375, 329375, 522375, 1209487, 266875, 460500, 287225, 395487, 809750, 324237, 644337, 309875, 361249, 394225, 439500, 334750, 365250, 840500, 912639, 759987, 489500, 345000, 515250, 370237, 543931, 550750, 862000, 333687, 484265, 317487, 331000, 1360525, 329250, 503060, 285487, 417862, 623750, 852000, 524125, 430750, 323500, 637500, 544000, 919497, 376875, 572237, 259237, 540625, 298100, 465533, 867125, 490250, 445000, 583500, 351375, 380100, 1123500, 413312, 494875, 316750, 470750, 611250, 350000, 537237, 533125, 322377, 608250, 597312, 284750, 856262, 324237, 472750, 459275, 387750, 187543, 456250, 764156, 582487, 314625, 512476, 520000, 315750, 376575, 402237, 184085, 395237, 275625, 599962, 299975, 453407, 332000, 461500, 876250, 255375, 988000, 514775, 445987, 251500, 688281, 432250, 360000, 416112, 1422000, 736250, 543397, 371250, 425862, 502621, 464250, 312875, 422398, 479625, 430812, 1663737, 511250, 598250, 472000, 624625, 454737, 1107250, 358750, 353575, 391125, 407750, 659912, 691000, 1278987, 581250, 487250, 387250, 355624, 524375, 400650, 596625, 337250, 537250, 996750, 323375, 537250, 323500, 416112, 530750, 502500, 241500, 502750, 366875, 456000, 541250, 397475, 433093, 401000, 335375, 247737, 377211, 537500, 384750, 502375, 267500, 278750, 285000, 439500, 537487, 498625, 713250, 475250, 406500, 319250, 358625, 856375, 709000, 1141389, 462487, 600625, 441375, 331875, 555149, 262850, 778750, 344225, 750500, 570237, 300125, 518875, 367500, 540500, 358112, 338925, 181750, 398625, 209100, 567500, 410037, 486487, 346850, 354225, 689125, 775875, 266000, 627375, 501750, 246750, 907762, 466247, 315350, 523250, 489750, 403500, 201843, 528750, 322377, 587725, 274000, 452876, 568750, 605103, 781875, 850622, 485875, 428775, 297487, 273599, 511900, 256612, 397500, 234487, 665750, 598126, 377250, 489750, 1460000, 483750, 346250, 388700, 372125, 309875, 232868, 419762, 561840, 287250, 338875, 393612, 774400, 649850, 400425, 839500, 442500, 356000, 1593250, 462000, 224850, 1410000, 408750, 389425, 325775, 280250, 570375, 320887, 582225, 634750, 349725, 745500, 374812, 470000, 578633, 272750, 791750, 471500, 895000, 356625, 378112, 745500, 1064500, 338750, 303500, 478000, 551875, 470750, 269687, 907000, 818247, 456750, 320362, 386375, 378750, 336000, 585450, 766250, 715737, 688750, 277350, 553375, 543000, 551875, 440800, 479075, 273725, 555750, 215600, 402112, 342650, 492237, 673000, 358112, 391125, 627875, 476237, 488750, 590840, 471000, 436625, 278975, 465533, 328875, 465125, 389600, 678187, 608312, 506000, 553750, 419500, 1237000, 327500, 363500, 3011825, 409250, 292500, 652000, 458000, 667000, 373125, 393850, 621237, 462125, 500237, 367484, 591487, 464237, 490000, 582875, 355612, 601737, 566251, 621611, 535437, 421712, 937250, 712487, 418750, 1513750, 365375, 400250, 387737, 207250, 305625, 445612, 332250, 425875, 337000, 330762, 668500, 484250, 315350, 444125, 464250, 888625, 414625, 560750, 662660, 430037, 883762, 566750, 556237, 402502, 211150, 404975, 301750, 274875, 421987, 320862, 387500, 455487, 339625, 552250, 373125, 229250, 370250, 745000, 201820, 575875, 353337, 403125, 455487, 309237, 329862, 286612, 301250, 320500, 364250, 1641997, 427000, 623250, 784125, 552875, 509750, 384125, 389375, 302612, 507500, 416112, 720750, 568750, 721450, 2505000, 314225, 454975, 410765, 625125, 354175, 666056, 410500, 257000, 529750, 415750, 237500, 216237, 502500, 324962, 428500, 457237, 297000, 524500, 299987, 316125, 367125, 314125, 407750, 501875, 565862, 719750, 509397, 407500, 257500, 392625, 936125, 469875, 625250, 448500, 274125, 193326, 455250, 1307500, 546237, 365737, 757222, 254987, 554375, 1499000, 614590, 606225, 1641997, 543397, 552125, 380000, 396054, 335500, 360375, 462875, 986500, 521250, 271250, 290110, 901250, 294500, 720875, 839875, 509050, 467090, 512250, 267250, 428890, 1135000, 593125, 393500, 915000, 956750, 421000, 1092250, 513312, 385025, 594250, 881075, 329862, 401220, 220500, 542612, 350250, 420250, 453407, 401125, 491237, 341987, 731048, 394225, 458250, 1129000, 516875, 383125, 289725, 385487, 438250, 361112, 589005, 442750, 418805, 1458737, 493575, 776750, 425737, 636750, 564750, 870502, 510737, 625687, 451862, 602500, 360375, 319987, 481350, 372700, 478312, 398525, 621250, 208472, 545250, 286837, 557112, 343800, 571250, 695550, 260950, 345725, 510500, 592750, 544875, 278800, 342362, 396250, 1150625, 852500, 489375, 420875, 739750, 568987, 543737, 834873, 299172, 367125, 233468, 1081437, 233125, 345000, 224125, 581210, 955000, 552500, 260475, 749487, 263000, 342362, 604222, 434737, 422987, 234650, 558750, 272000, 304400, 199737, 581500, 579737, 319954, 370212, 451291, 520375, 832125, 364000, 463750, 673125, 280110, 512500, 932625, 454875, 687500, 234472, 491511, 357237, 709475, 886750, 610060, 425625, 370498, 467350, 298625, 285925, 337750, 495000, 1825000, 419612, 911250, 236500, 518250, 250000, 421750, 303025, 542500, 329000, 588150, 966687, 816250, 865250, 290000, 290250, 323887, 496500, 381750, 485750, 562487, 495612, 579862, 458112, 350375, 940625, 250350, 826187, 511625, 483875, 541875, 385000, 545000, 712500, 366250, 677375, 789375, 1825000, 525062, 337750, 527625, 1204375, 717281, 608750, 683025, 423562, 526000, 352475, 498500, 971500, 1147750, 453750, 454587, 255200, 471533, 334237, 590625, 813250, 860000, 412750, 1415000, 354750, 389750, 429700, 514275, 406987, 272250, 441362, 509031, 504875, 499250, 824775, 451362, 511750, 447500, 477500, 522000, 550250, 715125, 282125, 795000, 307000, 525987, 438275, 224975, 278950, 620000, 533400, 373125, 966000, 609750, 353250, 266225, 1001000, 672473, 342000, 330850, 584750, 480125, 1130331, 303000, 317875, 591393, 559812, 687000, 1146625, 563500, 357485, 807375, 488090, 1024347, 454487, 1293331, 594345, 447500, 802250, 703547, 651000, 561475, 428737, 802750, 848447, 388375, 387375, 790500, 678004, 541500, 563000, 798019, 314100, 1496250, 500100, 446250, 743475, 489000, 408750, 1528750, 325750, 369875, 496487, 829334, 328500, 366425, 1119347, 908250, 529125, 606187, 351750, 871237, 335315, 419987, 487100, 747487, 610125, 284725, 526033, 1332202, 840110, 406247, 570147, 460975, 2150000, 527411, 356062, 635987, 452124, 426970, 968750, 488113, 374000, 1233247, 883747, 430400, 467350, 559948, 457777, 396725, 518712, 709862, 442187, 359373, 438250, 594362, 316372, 615620, 576652, 365899, 490000, 1050750, 513612, 328875, 347750, 1725750, 610125, 396350, 544975, 1012925, 459220, 375225, 739750, 723875, 706237, 921150, 633675, 320625, 418237, 314125, 395250, 439289, 508500, 292950, 308500, 356372, 566637, 417750, 602500, 456162, 652500, 522375, 567500, 1528750, 881000, 276500, 1097622, 391125, 312875, 469725]\n",
      "[489500, 433875, 652750, 476325, 319475, 1080375, 332062, 519987, 456000, 339895, 396054, 466750, 352025, 478050, 1036250, 372475, 617500, 309625, 464500, 470875, 388375, 395250, 804000, 733250, 287425, 627375, 1056876, 496812, 1034227, 499000, 1725750, 1642139, 466737, 373500, 366500, 379750, 297812, 729500, 412475, 277637, 893582, 463000, 296750, 410125, 343500, 511112, 376737, 527500, 352387, 743500, 321000, 279125, 328725, 664500, 579812, 541250, 531000, 316750, 542500, 665000, 286375, 488090, 923125, 294862, 870000, 290750, 313125, 248500, 396625, 426125, 923750, 269750, 657500, 447562, 207125, 278568, 625625, 395000, 902975, 505750, 344675, 721625, 447250, 317237, 303125, 295500, 578750, 636250, 340750, 336250, 609750, 754750, 372750, 270250, 588750, 374157, 272987, 395162, 324837, 455350, 224500, 389837, 667500, 587000, 587875, 623250, 301650, 415625, 359250, 773250, 526000, 316912, 541500, 682625, 485625, 325937, 806250, 668500, 2196000, 458000, 1212488, 452250, 595375, 755250, 306275, 652500, 490000, 464000, 247250, 475950, 378662, 240060, 655750, 372487, 224500, 415500, 306737, 507147, 680500, 387225, 1055250, 290110, 456837, 606525, 646023, 428975, 716500, 319954, 669625, 393487, 395550, 294000, 462172, 551125, 469750, 315625, 233750, 692868, 412362, 531250, 1234750, 425787, 466225, 300625, 261687, 659625, 423225, 466750, 481250, 293750, 431500, 845958, 318750, 361625, 466375, 571687, 528875, 731520, 392250, 377625, 444125, 360487, 411500, 729987, 471887, 672250, 497750, 472737, 560750, 511000, 457500, 818750, 579612, 434847, 428575, 706875, 429500, 570000, 285687, 489162, 626375, 969250, 739750, 407650, 300500, 1188250, 585450, 442987, 403800, 596562, 339462, 488250, 362362, 320625, 344125, 516750, 667125, 316437, 434750, 355375, 473762, 304625, 318622, 301056, 1016625, 282750, 720750, 960750, 278125, 561225, 509114, 437125, 381725, 796000, 480750, 485376, 617625, 566500, 1173250, 598000, 367500, 441250, 535000, 471737, 210875, 186987, 316750, 571250, 973872, 448000, 403975, 1190000, 440650, 402500, 448987, 800500, 389875, 309875, 397250, 258862, 323749, 578750, 261237, 2210000, 742500, 479525, 268375, 491125, 660625, 531125, 344662, 437500, 263250, 376331, 419725, 336800, 489825, 331975, 842500, 480625, 418748, 730000, 948125, 696625, 342112, 1206250, 208750, 351250, 316500, 392750, 1297001, 524500, 745500, 237000, 459500, 415300, 1187488, 449750, 396487, 335250, 1285750, 527625, 444737, 501237, 416725, 650350, 644500, 908475, 365125, 324875, 1675000, 411250, 194562, 453725, 240625, 417475, 324237, 418250, 438750, 579250, 287500, 600000, 579250, 434443, 770722, 826500, 270875, 1273250, 594750, 717250, 604625, 468312, 717750, 417500, 420225, 644120, 272112, 273900, 292125, 594362, 681250, 268250, 609612, 657125, 426487, 443612, 759000, 431987, 801750, 417500, 342737, 393450, 568750, 462500, 363987, 1031250, 257487, 379750, 251750, 540250, 302475, 324737, 345350, 679962, 267000, 361600, 580625, 441987, 355875, 301025, 220987, 318916, 354787, 652625, 1011875, 309437, 199250, 411675, 515125, 1513247, 357487, 542500, 607625, 285250, 847462, 498125, 585500, 827225, 628750, 1638750, 1330750, 221737, 600120, 438875, 432250, 285000, 866262, 279250, 493750, 275625, 1798462, 259000, 3011825, 238125, 486750, 660000, 414237, 1072125, 856100, 696237, 355000, 363750, 324125, 439600, 560340, 287174, 996250, 317055, 947125, 710000, 429500, 280875, 387375, 503737, 401375, 309000, 478750, 533562, 453000, 584500, 571750, 331375, 548562, 396125, 1122950, 1002171, 323750, 594112, 1058156, 1575750, 271375, 524125, 260250, 351750, 504250, 363750, 407125, 316250, 502687, 434487, 570312, 443250, 322124, 649562, 335000, 429500, 253700, 593125, 354414, 458000, 383250, 298862, 674312, 554750, 434400, 551362, 538375, 821225, 481725, 634737, 426679, 377596, 414750, 240875, 327250, 481487, 578125, 349000, 913562, 506825, 454975, 708125, 562500, 450612, 501125, 367487, 1138750, 470000, 674312, 386375, 486000, 609375, 736250, 733675, 808250, 580125, 392500, 298662, 459000, 278987, 567375, 628748, 566250, 383237, 606250, 916500, 513500, 547487, 545225, 1033750, 438250, 591750, 298025, 408487, 603362, 605750, 256237, 354550, 215600, 733500, 402608, 442487, 851389, 221625, 438000, 546237, 373487, 393752, 587000, 1909125, 459625, 188362, 623000, 887500, 488500, 853750, 1328375, 586125, 349250, 269750, 513625, 360487, 436375, 424925, 471750, 278975, 541500, 518376, 443250, 641000, 413375, 561575, 441500, 300500, 892875, 208250, 641298, 452100, 387500, 196500, 358500, 363112, 861850, 353425, 488500, 537000, 346000, 960875, 421250, 604950, 433500, 552875, 365250, 650625, 320750, 544250, 950250, 254750, 603500, 471000, 359125, 492000, 412500, 472375, 351000, 644806, 577625, 1067750, 827250, 337664, 679875, 688812, 402125, 563000, 263250, 395487, 308000, 526750, 322225, 899875, 617147, 222142, 608500, 391375, 329375, 522375, 1209487, 266875, 460500, 287225, 395487, 809750, 324237, 644337, 309875, 361249, 394225, 439500, 334750, 365250, 840500, 912639, 759987, 489500, 345000, 515250, 370237, 543931, 550750, 862000, 333687, 484265, 317487, 331000, 1360525, 329250, 503060, 285487, 417862, 623750, 852000, 524125, 430750, 323500, 637500, 544000, 919497, 376875, 572237, 259237, 540625, 298100, 465533, 867125, 490250, 445000, 583500, 351375, 380100, 1123500, 413312, 494875, 316750, 470750, 611250, 350000, 537237, 533125, 322377, 608250, 597312, 284750, 856262, 324237, 472750, 459275, 387750, 187543, 456250, 764156, 582487, 314625, 512476, 520000, 315750, 376575, 402237, 184085, 395237, 275625, 599962, 299975, 453407, 332000, 461500, 876250, 255375, 988000, 514775, 445987, 251500, 688281, 432250, 360000, 416112, 1422000, 736250, 543397, 371250, 425862, 502621, 464250, 312875, 422398, 479625, 430812, 1663737, 511250, 598250, 472000, 624625, 454737, 1107250, 358750, 353575, 391125, 407750, 659912, 691000, 1278987, 581250, 487250, 387250, 355624, 524375, 400650, 596625, 337250, 537250, 996750, 323375, 537250, 323500, 416112, 530750, 502500, 241500, 502750, 366875, 456000, 541250, 397475, 433093, 401000, 335375, 247737, 377211, 537500, 384750, 502375, 267500, 278750, 285000, 439500, 537487, 498625, 713250, 475250, 406500, 319250, 358625, 856375, 709000, 1141389, 462487, 600625, 441375, 331875, 555149, 262850, 778750, 344225, 750500, 570237, 300125, 518875, 367500, 540500, 358112, 338925, 181750, 398625, 209100, 567500, 410037, 486487, 346850, 354225, 689125, 775875, 266000, 627375, 501750, 246750, 907762, 466247, 315350, 523250, 489750, 403500, 201843, 528750, 322377, 587725, 274000, 452876, 568750, 605103, 781875, 850622, 485875, 428775, 297487, 273599, 511900, 256612, 397500, 234487, 665750, 598126, 377250, 489750, 1460000, 483750, 346250, 388700, 372125, 309875, 232868, 419762, 561840, 287250, 338875, 393612, 774400, 649850, 400425, 839500, 442500, 356000, 1593250, 462000, 224850, 1410000, 408750, 389425, 325775, 280250, 570375, 320887, 582225, 634750, 349725, 745500, 374812, 470000, 578633, 272750, 791750, 471500, 895000, 356625, 378112, 745500, 1064500, 338750, 303500, 478000, 551875, 470750, 269687, 907000, 818247, 456750, 320362, 386375, 378750, 336000, 585450, 766250, 715737, 688750, 277350, 553375, 543000, 551875, 440800, 479075, 273725, 555750, 215600, 402112, 342650, 492237, 673000, 358112, 391125, 627875, 476237, 488750, 590840, 471000, 436625, 278975, 465533, 328875, 465125, 389600, 678187, 608312, 506000, 553750, 419500, 1237000, 327500, 363500, 3011825, 409250, 292500, 652000, 458000, 667000, 373125, 393850, 621237, 462125, 500237, 367484, 591487, 464237, 490000, 582875, 355612, 601737, 566251, 621611, 535437, 421712, 937250, 712487, 418750, 1513750, 365375, 400250, 387737, 207250, 305625, 445612, 332250, 425875, 337000, 330762, 668500, 484250, 315350, 444125, 464250, 888625, 414625, 560750, 662660, 430037, 883762, 566750, 556237, 402502, 211150, 404975, 301750, 274875, 421987, 320862, 387500, 455487, 339625, 552250, 373125, 229250, 370250, 745000, 201820, 575875, 353337, 403125, 455487, 309237, 329862, 286612, 301250, 320500, 364250, 1641997, 427000, 623250, 784125, 552875, 509750, 384125, 389375, 302612, 507500, 416112, 720750, 568750, 721450, 2505000, 314225, 454975, 410765, 625125, 354175, 666056, 410500, 257000, 529750, 415750, 237500, 216237, 502500, 324962, 428500, 457237, 297000, 524500, 299987, 316125, 367125, 314125, 407750, 501875, 565862, 719750, 509397, 407500, 257500, 392625, 936125, 469875, 625250, 448500, 274125, 193326, 455250, 1307500, 546237, 365737, 757222, 254987, 554375, 1499000, 614590, 606225, 1641997, 543397, 552125, 380000, 396054, 335500, 360375, 462875, 986500, 521250, 271250, 290110, 901250, 294500, 720875, 839875, 509050, 467090, 512250, 267250, 428890, 1135000, 593125, 393500, 915000, 956750, 421000, 1092250, 513312, 385025, 594250, 881075, 329862, 401220, 220500, 542612, 350250, 420250, 453407, 401125, 491237, 341987, 731048, 394225, 458250, 1129000, 516875, 383125, 289725, 385487, 438250, 361112, 589005, 442750, 418805, 1458737, 493575, 776750, 425737, 636750, 564750, 870502, 510737, 625687, 451862, 602500, 360375, 319987, 481350, 372700, 478312, 398525, 621250, 208472, 545250, 286837, 557112, 343800, 571250, 695550, 260950, 345725, 510500, 592750, 544875, 278800, 342362, 396250, 1150625, 852500, 489375, 420875, 739750, 568987, 543737, 834873, 299172, 367125, 233468, 1081437, 233125, 345000, 224125, 581210, 955000, 552500, 260475, 749487, 263000, 342362, 604222, 434737, 422987, 234650, 558750, 272000, 304400, 199737, 581500, 579737, 319954, 370212, 451291, 520375, 832125, 364000, 463750, 673125, 280110, 512500, 932625, 454875, 687500, 234472, 491511, 357237, 709475, 886750, 610060, 425625, 370498, 467350, 298625, 285925, 337750, 495000, 1825000, 419612, 911250, 236500, 518250, 250000, 421750, 303025, 542500, 329000, 588150, 966687, 816250, 865250, 290000, 290250, 323887, 496500, 381750, 485750, 562487, 495612, 579862, 458112, 350375, 940625, 250350, 826187, 511625, 483875, 541875, 385000, 545000, 712500, 366250, 677375, 789375, 1825000, 525062, 337750, 527625, 1204375, 717281, 608750, 683025, 423562, 526000, 352475, 498500, 971500, 1147750, 453750, 454587, 255200, 471533, 334237, 590625, 813250, 860000, 412750, 1415000, 354750, 389750, 429700, 514275, 406987, 272250, 441362, 509031, 504875, 499250, 824775, 451362, 511750, 447500, 477500, 522000, 550250, 715125, 282125, 795000, 307000, 525987, 438275, 224975, 278950, 620000, 533400, 373125, 966000, 609750, 353250, 266225, 1001000, 672473, 342000, 330850, 584750, 480125, 1130331, 303000, 317875, 591393, 559812, 687000, 1146625, 563500, 357485, 807375, 488090, 1024347, 454487, 1293331, 594345, 447500, 802250, 703547, 651000, 561475, 428737, 802750, 848447, 388375, 387375, 790500, 678004, 541500, 563000, 798019, 314100, 1496250, 500100, 446250, 743475, 489000, 408750, 1528750, 325750, 369875, 496487, 829334, 328500, 366425, 1119347, 908250, 529125, 606187, 351750, 871237, 335315, 419987, 487100, 747487, 610125, 284725, 526033, 1332202, 840110, 406247, 570147, 460975, 2150000, 527411, 356062, 635987, 452124, 426970, 968750, 488113, 374000, 1233247, 883747, 430400, 467350, 559948, 457777, 396725, 518712, 709862, 442187, 359373, 438250, 594362, 316372, 615620, 576652, 365899, 490000, 1050750, 513612, 328875, 347750, 1725750, 610125, 396350, 544975, 1012925, 459220, 375225, 739750, 723875, 706237, 921150, 633675, 320625, 418237, 314125, 395250, 439289, 508500, 292950, 308500, 356372, 566637, 417750, 602500, 456162, 652500, 522375, 567500, 1528750, 881000, 276500, 1097622, 391125, 312875, 469725]\n",
      "[489500, 433875, 652750, 476325, 319475, 1080375, 332062, 519987, 456000, 339895, 396054, 466750, 352025, 478050, 1036250, 372475, 617500, 309625, 464500, 470875, 388375, 395250, 804000, 733250, 287425, 627375, 1056876, 496812, 1034227, 499000, 1725750, 1642139, 466737, 373500, 366500, 379750, 297812, 729500, 412475, 277637, 893582, 463000, 296750, 410125, 343500, 511112, 376737, 527500, 352387, 743500, 321000, 279125, 328725, 664500, 579812, 541250, 531000, 316750, 542500, 665000, 286375, 488090, 923125, 294862, 870000, 290750, 313125, 248500, 396625, 426125, 923750, 269750, 657500, 447562, 207125, 278568, 625625, 395000, 902975, 505750, 344675, 721625, 447250, 317237, 303125, 295500, 578750, 636250, 340750, 336250, 609750, 754750, 372750, 270250, 588750, 374157, 272987, 395162, 324837, 455350, 224500, 389837, 667500, 587000, 587875, 623250, 301650, 415625, 359250, 773250, 526000, 316912, 541500, 682625, 485625, 325937, 806250, 668500, 2196000, 458000, 1212488, 452250, 595375, 755250, 306275, 652500, 490000, 464000, 247250, 475950, 378662, 240060, 655750, 372487, 224500, 415500, 306737, 507147, 680500, 387225, 1055250, 290110, 456837, 606525, 646023, 428975, 716500, 319954, 669625, 393487, 395550, 294000, 462172, 551125, 469750, 315625, 233750, 692868, 412362, 531250, 1234750, 425787, 466225, 300625, 261687, 659625, 423225, 466750, 481250, 293750, 431500, 845958, 318750, 361625, 466375, 571687, 528875, 731520, 392250, 377625, 444125, 360487, 411500, 729987, 471887, 672250, 497750, 472737, 560750, 511000, 457500, 818750, 579612, 434847, 428575, 706875, 429500, 570000, 285687, 489162, 626375, 969250, 739750, 407650, 300500, 1188250, 585450, 442987, 403800, 596562, 339462, 488250, 362362, 320625, 344125, 516750, 667125, 316437, 434750, 355375, 473762, 304625, 318622, 301056, 1016625, 282750, 720750, 960750, 278125, 561225, 509114, 437125, 381725, 796000, 480750, 485376, 617625, 566500, 1173250, 598000, 367500, 441250, 535000, 471737, 210875, 186987, 316750, 571250, 973872, 448000, 403975, 1190000, 440650, 402500, 448987, 800500, 389875, 309875, 397250, 258862, 323749, 578750, 261237, 2210000, 742500, 479525, 268375, 491125, 660625, 531125, 344662, 437500, 263250, 376331, 419725, 336800, 489825, 331975, 842500, 480625, 418748, 730000, 948125, 696625, 342112, 1206250, 208750, 351250, 316500, 392750, 1297001, 524500, 745500, 237000, 459500, 415300, 1187488, 449750, 396487, 335250, 1285750, 527625, 444737, 501237, 416725, 650350, 644500, 908475, 365125, 324875, 1675000, 411250, 194562, 453725, 240625, 417475, 324237, 418250, 438750, 579250, 287500, 600000, 579250, 434443, 770722, 826500, 270875, 1273250, 594750, 717250, 604625, 468312, 717750, 417500, 420225, 644120, 272112, 273900, 292125, 594362, 681250, 268250, 609612, 657125, 426487, 443612, 759000, 431987, 801750, 417500, 342737, 393450, 568750, 462500, 363987, 1031250, 257487, 379750, 251750, 540250, 302475, 324737, 345350, 679962, 267000, 361600, 580625, 441987, 355875, 301025, 220987, 318916, 354787, 652625, 1011875, 309437, 199250, 411675, 515125, 1513247, 357487, 542500, 607625, 285250, 847462, 498125, 585500, 827225, 628750, 1638750, 1330750, 221737, 600120, 438875, 432250, 285000, 866262, 279250, 493750, 275625, 1798462, 259000, 3011825, 238125, 486750, 660000, 414237, 1072125, 856100, 696237, 355000, 363750, 324125, 439600, 560340, 287174, 996250, 317055, 947125, 710000, 429500, 280875, 387375, 503737, 401375, 309000, 478750, 533562, 453000, 584500, 571750, 331375, 548562, 396125, 1122950, 1002171, 323750, 594112, 1058156, 1575750, 271375, 524125, 260250, 351750, 504250, 363750, 407125, 316250, 502687, 434487, 570312, 443250, 322124, 649562, 335000, 429500, 253700, 593125, 354414, 458000, 383250, 298862, 674312, 554750, 434400, 551362, 538375, 821225, 481725, 634737, 426679, 377596, 414750, 240875, 327250, 481487, 578125, 349000, 913562, 506825, 454975, 708125, 562500, 450612, 501125, 367487, 1138750, 470000, 674312, 386375, 486000, 609375, 736250, 733675, 808250, 580125, 392500, 298662, 459000, 278987, 567375, 628748, 566250, 383237, 606250, 916500, 513500, 547487, 545225, 1033750, 438250, 591750, 298025, 408487, 603362, 605750, 256237, 354550, 215600, 733500, 402608, 442487, 851389, 221625, 438000, 546237, 373487, 393752, 587000, 1909125, 459625, 188362, 623000, 887500, 488500, 853750, 1328375, 586125, 349250, 269750, 513625, 360487, 436375, 424925, 471750, 278975, 541500, 518376, 443250, 641000, 413375, 561575, 441500, 300500, 892875, 208250, 641298, 452100, 387500, 196500, 358500, 363112, 861850, 353425, 488500, 537000, 346000, 960875, 421250, 604950, 433500, 552875, 365250, 650625, 320750, 544250, 950250, 254750, 603500, 471000, 359125, 492000, 412500, 472375, 351000, 644806, 577625, 1067750, 827250, 337664, 679875, 688812, 402125, 563000, 263250, 395487, 308000, 526750, 322225, 899875, 617147, 222142, 608500, 391375, 329375, 522375, 1209487, 266875, 460500, 287225, 395487, 809750, 324237, 644337, 309875, 361249, 394225, 439500, 334750, 365250, 840500, 912639, 759987, 489500, 345000, 515250, 370237, 543931, 550750, 862000, 333687, 484265, 317487, 331000, 1360525, 329250, 503060, 285487, 417862, 623750, 852000, 524125, 430750, 323500, 637500, 544000, 919497, 376875, 572237, 259237, 540625, 298100, 465533, 867125, 490250, 445000, 583500, 351375, 380100, 1123500, 413312, 494875, 316750, 470750, 611250, 350000, 537237, 533125, 322377, 608250, 597312, 284750, 856262, 324237, 472750, 459275, 387750, 187543, 456250, 764156, 582487, 314625, 512476, 520000, 315750, 376575, 402237, 184085, 395237, 275625, 599962, 299975, 453407, 332000, 461500, 876250, 255375, 988000, 514775, 445987, 251500, 688281, 432250, 360000, 416112, 1422000, 736250, 543397, 371250, 425862, 502621, 464250, 312875, 422398, 479625, 430812, 1663737, 511250, 598250, 472000, 624625, 454737, 1107250, 358750, 353575, 391125, 407750, 659912, 691000, 1278987, 581250, 487250, 387250, 355624, 524375, 400650, 596625, 337250, 537250, 996750, 323375, 537250, 323500, 416112, 530750, 502500, 241500, 502750, 366875, 456000, 541250, 397475, 433093, 401000, 335375, 247737, 377211, 537500, 384750, 502375, 267500, 278750, 285000, 439500, 537487, 498625, 713250, 475250, 406500, 319250, 358625, 856375, 709000, 1141389, 462487, 600625, 441375, 331875, 555149, 262850, 778750, 344225, 750500, 570237, 300125, 518875, 367500, 540500, 358112, 338925, 181750, 398625, 209100, 567500, 410037, 486487, 346850, 354225, 689125, 775875, 266000, 627375, 501750, 246750, 907762, 466247, 315350, 523250, 489750, 403500, 201843, 528750, 322377, 587725, 274000, 452876, 568750, 605103, 781875, 850622, 485875, 428775, 297487, 273599, 511900, 256612, 397500, 234487, 665750, 598126, 377250, 489750, 1460000, 483750, 346250, 388700, 372125, 309875, 232868, 419762, 561840, 287250, 338875, 393612, 774400, 649850, 400425, 839500, 442500, 356000, 1593250, 462000, 224850, 1410000, 408750, 389425, 325775, 280250, 570375, 320887, 582225, 634750, 349725, 745500, 374812, 470000, 578633, 272750, 791750, 471500, 895000, 356625, 378112, 745500, 1064500, 338750, 303500, 478000, 551875, 470750, 269687, 907000, 818247, 456750, 320362, 386375, 378750, 336000, 585450, 766250, 715737, 688750, 277350, 553375, 543000, 551875, 440800, 479075, 273725, 555750, 215600, 402112, 342650, 492237, 673000, 358112, 391125, 627875, 476237, 488750, 590840, 471000, 436625, 278975, 465533, 328875, 465125, 389600, 678187, 608312, 506000, 553750, 419500, 1237000, 327500, 363500, 3011825, 409250, 292500, 652000, 458000, 667000, 373125, 393850, 621237, 462125, 500237, 367484, 591487, 464237, 490000, 582875, 355612, 601737, 566251, 621611, 535437, 421712, 937250, 712487, 418750, 1513750, 365375, 400250, 387737, 207250, 305625, 445612, 332250, 425875, 337000, 330762, 668500, 484250, 315350, 444125, 464250, 888625, 414625, 560750, 662660, 430037, 883762, 566750, 556237, 402502, 211150, 404975, 301750, 274875, 421987, 320862, 387500, 455487, 339625, 552250, 373125, 229250, 370250, 745000, 201820, 575875, 353337, 403125, 455487, 309237, 329862, 286612, 301250, 320500, 364250, 1641997, 427000, 623250, 784125, 552875, 509750, 384125, 389375, 302612, 507500, 416112, 720750, 568750, 721450, 2505000, 314225, 454975, 410765, 625125, 354175, 666056, 410500, 257000, 529750, 415750, 237500, 216237, 502500, 324962, 428500, 457237, 297000, 524500, 299987, 316125, 367125, 314125, 407750, 501875, 565862, 719750, 509397, 407500, 257500, 392625, 936125, 469875, 625250, 448500, 274125, 193326, 455250, 1307500, 546237, 365737, 757222, 254987, 554375, 1499000, 614590, 606225, 1641997, 543397, 552125, 380000, 396054, 335500, 360375, 462875, 986500, 521250, 271250, 290110, 901250, 294500, 720875, 839875, 509050, 467090, 512250, 267250, 428890, 1135000, 593125, 393500, 915000, 956750, 421000, 1092250, 513312, 385025, 594250, 881075, 329862, 401220, 220500, 542612, 350250, 420250, 453407, 401125, 491237, 341987, 731048, 394225, 458250, 1129000, 516875, 383125, 289725, 385487, 438250, 361112, 589005, 442750, 418805, 1458737, 493575, 776750, 425737, 636750, 564750, 870502, 510737, 625687, 451862, 602500, 360375, 319987, 481350, 372700, 478312, 398525, 621250, 208472, 545250, 286837, 557112, 343800, 571250, 695550, 260950, 345725, 510500, 592750, 544875, 278800, 342362, 396250, 1150625, 852500, 489375, 420875, 739750, 568987, 543737, 834873, 299172, 367125, 233468, 1081437, 233125, 345000, 224125, 581210, 955000, 552500, 260475, 749487, 263000, 342362, 604222, 434737, 422987, 234650, 558750, 272000, 304400, 199737, 581500, 579737, 319954, 370212, 451291, 520375, 832125, 364000, 463750, 673125, 280110, 512500, 932625, 454875, 687500, 234472, 491511, 357237, 709475, 886750, 610060, 425625, 370498, 467350, 298625, 285925, 337750, 495000, 1825000, 419612, 911250, 236500, 518250, 250000, 421750, 303025, 542500, 329000, 588150, 966687, 816250, 865250, 290000, 290250, 323887, 496500, 381750, 485750, 562487, 495612, 579862, 458112, 350375, 940625, 250350, 826187, 511625, 483875, 541875, 385000, 545000, 712500, 366250, 677375, 789375, 1825000, 525062, 337750, 527625, 1204375, 717281, 608750, 683025, 423562, 526000, 352475, 498500, 971500, 1147750, 453750, 454587, 255200, 471533, 334237, 590625, 813250, 860000, 412750, 1415000, 354750, 389750, 429700, 514275, 406987, 272250, 441362, 509031, 504875, 499250, 824775, 451362, 511750, 447500, 477500, 522000, 550250, 715125, 282125, 795000, 307000, 525987, 438275, 224975, 278950, 620000, 533400, 373125, 966000, 609750, 353250, 266225, 1001000, 672473, 342000, 330850, 584750, 480125, 1130331, 303000, 317875, 591393, 559812, 687000, 1146625, 563500, 357485, 807375, 488090, 1024347, 454487, 1293331, 594345, 447500, 802250, 703547, 651000, 561475, 428737, 802750, 848447, 388375, 387375, 790500, 678004, 541500, 563000, 798019, 314100, 1496250, 500100, 446250, 743475, 489000, 408750, 1528750, 325750, 369875, 496487, 829334, 328500, 366425, 1119347, 908250, 529125, 606187, 351750, 871237, 335315, 419987, 487100, 747487, 610125, 284725, 526033, 1332202, 840110, 406247, 570147, 460975, 2150000, 527411, 356062, 635987, 452124, 426970, 968750, 488113, 374000, 1233247, 883747, 430400, 467350, 559948, 457777, 396725, 518712, 709862, 442187, 359373, 438250, 594362, 316372, 615620, 576652, 365899, 490000, 1050750, 513612, 328875, 347750, 1725750, 610125, 396350, 544975, 1012925, 459220, 375225, 739750, 723875, 706237, 921150, 633675, 320625, 418237, 314125, 395250, 439289, 508500, 292950, 308500, 356372, 566637, 417750, 602500, 456162, 652500, 522375, 567500, 1528750, 881000, 276500, 1097622, 391125, 312875, 469725]\n",
      "[489500, 433875, 652750, 476325, 319475, 1080375, 332062, 519987, 456000, 339895, 396054, 466750, 352025, 478050, 1036250, 372475, 617500, 309625, 464500, 470875, 388375, 395250, 804000, 733250, 287425, 627375, 1056876, 496812, 1034227, 499000, 1725750, 1642139, 466737, 373500, 366500, 379750, 297812, 729500, 412475, 277637, 893582, 463000, 296750, 410125, 343500, 511112, 376737, 527500, 352387, 743500, 321000, 279125, 328725, 664500, 579812, 541250, 531000, 316750, 542500, 665000, 286375, 488090, 923125, 294862, 870000, 290750, 313125, 248500, 396625, 426125, 923750, 269750, 657500, 447562, 207125, 278568, 625625, 395000, 902975, 505750, 344675, 721625, 447250, 317237, 303125, 295500, 578750, 636250, 340750, 336250, 609750, 754750, 372750, 270250, 588750, 374157, 272987, 395162, 324837, 455350, 224500, 389837, 667500, 587000, 587875, 623250, 301650, 415625, 359250, 773250, 526000, 316912, 541500, 682625, 485625, 325937, 806250, 668500, 2196000, 458000, 1212488, 452250, 595375, 755250, 306275, 652500, 490000, 464000, 247250, 475950, 378662, 240060, 655750, 372487, 224500, 415500, 306737, 507147, 680500, 387225, 1055250, 290110, 456837, 606525, 646023, 428975, 716500, 319954, 669625, 393487, 395550, 294000, 462172, 551125, 469750, 315625, 233750, 692868, 412362, 531250, 1234750, 425787, 466225, 300625, 261687, 659625, 423225, 466750, 481250, 293750, 431500, 845958, 318750, 361625, 466375, 571687, 528875, 731520, 392250, 377625, 444125, 360487, 411500, 729987, 471887, 672250, 497750, 472737, 560750, 511000, 457500, 818750, 579612, 434847, 428575, 706875, 429500, 570000, 285687, 489162, 626375, 969250, 739750, 407650, 300500, 1188250, 585450, 442987, 403800, 596562, 339462, 488250, 362362, 320625, 344125, 516750, 667125, 316437, 434750, 355375, 473762, 304625, 318622, 301056, 1016625, 282750, 720750, 960750, 278125, 561225, 509114, 437125, 381725, 796000, 480750, 485376, 617625, 566500, 1173250, 598000, 367500, 441250, 535000, 471737, 210875, 186987, 316750, 571250, 973872, 448000, 403975, 1190000, 440650, 402500, 448987, 800500, 389875, 309875, 397250, 258862, 323749, 578750, 261237, 2210000, 742500, 479525, 268375, 491125, 660625, 531125, 344662, 437500, 263250, 376331, 419725, 336800, 489825, 331975, 842500, 480625, 418748, 730000, 948125, 696625, 342112, 1206250, 208750, 351250, 316500, 392750, 1297001, 524500, 745500, 237000, 459500, 415300, 1187488, 449750, 396487, 335250, 1285750, 527625, 444737, 501237, 416725, 650350, 644500, 908475, 365125, 324875, 1675000, 411250, 194562, 453725, 240625, 417475, 324237, 418250, 438750, 579250, 287500, 600000, 579250, 434443, 770722, 826500, 270875, 1273250, 594750, 717250, 604625, 468312, 717750, 417500, 420225, 644120, 272112, 273900, 292125, 594362, 681250, 268250, 609612, 657125, 426487, 443612, 759000, 431987, 801750, 417500, 342737, 393450, 568750, 462500, 363987, 1031250, 257487, 379750, 251750, 540250, 302475, 324737, 345350, 679962, 267000, 361600, 580625, 441987, 355875, 301025, 220987, 318916, 354787, 652625, 1011875, 309437, 199250, 411675, 515125, 1513247, 357487, 542500, 607625, 285250, 847462, 498125, 585500, 827225, 628750, 1638750, 1330750, 221737, 600120, 438875, 432250, 285000, 866262, 279250, 493750, 275625, 1798462, 259000, 3011825, 238125, 486750, 660000, 414237, 1072125, 856100, 696237, 355000, 363750, 324125, 439600, 560340, 287174, 996250, 317055, 947125, 710000, 429500, 280875, 387375, 503737, 401375, 309000, 478750, 533562, 453000, 584500, 571750, 331375, 548562, 396125, 1122950, 1002171, 323750, 594112, 1058156, 1575750, 271375, 524125, 260250, 351750, 504250, 363750, 407125, 316250, 502687, 434487, 570312, 443250, 322124, 649562, 335000, 429500, 253700, 593125, 354414, 458000, 383250, 298862, 674312, 554750, 434400, 551362, 538375, 821225, 481725, 634737, 426679, 377596, 414750, 240875, 327250, 481487, 578125, 349000, 913562, 506825, 454975, 708125, 562500, 450612, 501125, 367487, 1138750, 470000, 674312, 386375, 486000, 609375, 736250, 733675, 808250, 580125, 392500, 298662, 459000, 278987, 567375, 628748, 566250, 383237, 606250, 916500, 513500, 547487, 545225, 1033750, 438250, 591750, 298025, 408487, 603362, 605750, 256237, 354550, 215600, 733500, 402608, 442487, 851389, 221625, 438000, 546237, 373487, 393752, 587000, 1909125, 459625, 188362, 623000, 887500, 488500, 853750, 1328375, 586125, 349250, 269750, 513625, 360487, 436375, 424925, 471750, 278975, 541500, 518376, 443250, 641000, 413375, 561575, 441500, 300500, 892875, 208250, 641298, 452100, 387500, 196500, 358500, 363112, 861850, 353425, 488500, 537000, 346000, 960875, 421250, 604950, 433500, 552875, 365250, 650625, 320750, 544250, 950250, 254750, 603500, 471000, 359125, 492000, 412500, 472375, 351000, 644806, 577625, 1067750, 827250, 337664, 679875, 688812, 402125, 563000, 263250, 395487, 308000, 526750, 322225, 899875, 617147, 222142, 608500, 391375, 329375, 522375, 1209487, 266875, 460500, 287225, 395487, 809750, 324237, 644337, 309875, 361249, 394225, 439500, 334750, 365250, 840500, 912639, 759987, 489500, 345000, 515250, 370237, 543931, 550750, 862000, 333687, 484265, 317487, 331000, 1360525, 329250, 503060, 285487, 417862, 623750, 852000, 524125, 430750, 323500, 637500, 544000, 919497, 376875, 572237, 259237, 540625, 298100, 465533, 867125, 490250, 445000, 583500, 351375, 380100, 1123500, 413312, 494875, 316750, 470750, 611250, 350000, 537237, 533125, 322377, 608250, 597312, 284750, 856262, 324237, 472750, 459275, 387750, 187543, 456250, 764156, 582487, 314625, 512476, 520000, 315750, 376575, 402237, 184085, 395237, 275625, 599962, 299975, 453407, 332000, 461500, 876250, 255375, 988000, 514775, 445987, 251500, 688281, 432250, 360000, 416112, 1422000, 736250, 543397, 371250, 425862, 502621, 464250, 312875, 422398, 479625, 430812, 1663737, 511250, 598250, 472000, 624625, 454737, 1107250, 358750, 353575, 391125, 407750, 659912, 691000, 1278987, 581250, 487250, 387250, 355624, 524375, 400650, 596625, 337250, 537250, 996750, 323375, 537250, 323500, 416112, 530750, 502500, 241500, 502750, 366875, 456000, 541250, 397475, 433093, 401000, 335375, 247737, 377211, 537500, 384750, 502375, 267500, 278750, 285000, 439500, 537487, 498625, 713250, 475250, 406500, 319250, 358625, 856375, 709000, 1141389, 462487, 600625, 441375, 331875, 555149, 262850, 778750, 344225, 750500, 570237, 300125, 518875, 367500, 540500, 358112, 338925, 181750, 398625, 209100, 567500, 410037, 486487, 346850, 354225, 689125, 775875, 266000, 627375, 501750, 246750, 907762, 466247, 315350, 523250, 489750, 403500, 201843, 528750, 322377, 587725, 274000, 452876, 568750, 605103, 781875, 850622, 485875, 428775, 297487, 273599, 511900, 256612, 397500, 234487, 665750, 598126, 377250, 489750, 1460000, 483750, 346250, 388700, 372125, 309875, 232868, 419762, 561840, 287250, 338875, 393612, 774400, 649850, 400425, 839500, 442500, 356000, 1593250, 462000, 224850, 1410000, 408750, 389425, 325775, 280250, 570375, 320887, 582225, 634750, 349725, 745500, 374812, 470000, 578633, 272750, 791750, 471500, 895000, 356625, 378112, 745500, 1064500, 338750, 303500, 478000, 551875, 470750, 269687, 907000, 818247, 456750, 320362, 386375, 378750, 336000, 585450, 766250, 715737, 688750, 277350, 553375, 543000, 551875, 440800, 479075, 273725, 555750, 215600, 402112, 342650, 492237, 673000, 358112, 391125, 627875, 476237, 488750, 590840, 471000, 436625, 278975, 465533, 328875, 465125, 389600, 678187, 608312, 506000, 553750, 419500, 1237000, 327500, 363500, 3011825, 409250, 292500, 652000, 458000, 667000, 373125, 393850, 621237, 462125, 500237, 367484, 591487, 464237, 490000, 582875, 355612, 601737, 566251, 621611, 535437, 421712, 937250, 712487, 418750, 1513750, 365375, 400250, 387737, 207250, 305625, 445612, 332250, 425875, 337000, 330762, 668500, 484250, 315350, 444125, 464250, 888625, 414625, 560750, 662660, 430037, 883762, 566750, 556237, 402502, 211150, 404975, 301750, 274875, 421987, 320862, 387500, 455487, 339625, 552250, 373125, 229250, 370250, 745000, 201820, 575875, 353337, 403125, 455487, 309237, 329862, 286612, 301250, 320500, 364250, 1641997, 427000, 623250, 784125, 552875, 509750, 384125, 389375, 302612, 507500, 416112, 720750, 568750, 721450, 2505000, 314225, 454975, 410765, 625125, 354175, 666056, 410500, 257000, 529750, 415750, 237500, 216237, 502500, 324962, 428500, 457237, 297000, 524500, 299987, 316125, 367125, 314125, 407750, 501875, 565862, 719750, 509397, 407500, 257500, 392625, 936125, 469875, 625250, 448500, 274125, 193326, 455250, 1307500, 546237, 365737, 757222, 254987, 554375, 1499000, 614590, 606225, 1641997, 543397, 552125, 380000, 396054, 335500, 360375, 462875, 986500, 521250, 271250, 290110, 901250, 294500, 720875, 839875, 509050, 467090, 512250, 267250, 428890, 1135000, 593125, 393500, 915000, 956750, 421000, 1092250, 513312, 385025, 594250, 881075, 329862, 401220, 220500, 542612, 350250, 420250, 453407, 401125, 491237, 341987, 731048, 394225, 458250, 1129000, 516875, 383125, 289725, 385487, 438250, 361112, 589005, 442750, 418805, 1458737, 493575, 776750, 425737, 636750, 564750, 870502, 510737, 625687, 451862, 602500, 360375, 319987, 481350, 372700, 478312, 398525, 621250, 208472, 545250, 286837, 557112, 343800, 571250, 695550, 260950, 345725, 510500, 592750, 544875, 278800, 342362, 396250, 1150625, 852500, 489375, 420875, 739750, 568987, 543737, 834873, 299172, 367125, 233468, 1081437, 233125, 345000, 224125, 581210, 955000, 552500, 260475, 749487, 263000, 342362, 604222, 434737, 422987, 234650, 558750, 272000, 304400, 199737, 581500, 579737, 319954, 370212, 451291, 520375, 832125, 364000, 463750, 673125, 280110, 512500, 932625, 454875, 687500, 234472, 491511, 357237, 709475, 886750, 610060, 425625, 370498, 467350, 298625, 285925, 337750, 495000, 1825000, 419612, 911250, 236500, 518250, 250000, 421750, 303025, 542500, 329000, 588150, 966687, 816250, 865250, 290000, 290250, 323887, 496500, 381750, 485750, 562487, 495612, 579862, 458112, 350375, 940625, 250350, 826187, 511625, 483875, 541875, 385000, 545000, 712500, 366250, 677375, 789375, 1825000, 525062, 337750, 527625, 1204375, 717281, 608750, 683025, 423562, 526000, 352475, 498500, 971500, 1147750, 453750, 454587, 255200, 471533, 334237, 590625, 813250, 860000, 412750, 1415000, 354750, 389750, 429700, 514275, 406987, 272250, 441362, 509031, 504875, 499250, 824775, 451362, 511750, 447500, 477500, 522000, 550250, 715125, 282125, 795000, 307000, 525987, 438275, 224975, 278950, 620000, 533400, 373125, 966000, 609750, 353250, 266225, 1001000, 672473, 342000, 330850, 584750, 480125, 1130331, 303000, 317875, 591393, 559812, 687000, 1146625, 563500, 357485, 807375, 488090, 1024347, 454487, 1293331, 594345, 447500, 802250, 703547, 651000, 561475, 428737, 802750, 848447, 388375, 387375, 790500, 678004, 541500, 563000, 798019, 314100, 1496250, 500100, 446250, 743475, 489000, 408750, 1528750, 325750, 369875, 496487, 829334, 328500, 366425, 1119347, 908250, 529125, 606187, 351750, 871237, 335315, 419987, 487100, 747487, 610125, 284725, 526033, 1332202, 840110, 406247, 570147, 460975, 2150000, 527411, 356062, 635987, 452124, 426970, 968750, 488113, 374000, 1233247, 883747, 430400, 467350, 559948, 457777, 396725, 518712, 709862, 442187, 359373, 438250, 594362, 316372, 615620, 576652, 365899, 490000, 1050750, 513612, 328875, 347750, 1725750, 610125, 396350, 544975, 1012925, 459220, 375225, 739750, 723875, 706237, 921150, 633675, 320625, 418237, 314125, 395250, 439289, 508500, 292950, 308500, 356372, 566637, 417750, 602500, 456162, 652500, 522375, 567500, 1528750, 881000, 276500, 1097622, 391125, 312875, 469725]\n",
      "[489500, 433875, 652750, 476325, 319475, 1080375, 332062, 519987, 456000, 339895, 396054, 466750, 352025, 478050, 1036250, 372475, 617500, 309625, 464500, 470875, 388375, 395250, 804000, 733250, 287425, 627375, 1056876, 496812, 1034227, 499000, 1725750, 1642139, 466737, 373500, 366500, 379750, 297812, 729500, 412475, 277637, 893582, 463000, 296750, 410125, 343500, 511112, 376737, 527500, 352387, 743500, 321000, 279125, 328725, 664500, 579812, 541250, 531000, 316750, 542500, 665000, 286375, 488090, 923125, 294862, 870000, 290750, 313125, 248500, 396625, 426125, 923750, 269750, 657500, 447562, 207125, 278568, 625625, 395000, 902975, 505750, 344675, 721625, 447250, 317237, 303125, 295500, 578750, 636250, 340750, 336250, 609750, 754750, 372750, 270250, 588750, 374157, 272987, 395162, 324837, 455350, 224500, 389837, 667500, 587000, 587875, 623250, 301650, 415625, 359250, 773250, 526000, 316912, 541500, 682625, 485625, 325937, 806250, 668500, 2196000, 458000, 1212488, 452250, 595375, 755250, 306275, 652500, 490000, 464000, 247250, 475950, 378662, 240060, 655750, 372487, 224500, 415500, 306737, 507147, 680500, 387225, 1055250, 290110, 456837, 606525, 646023, 428975, 716500, 319954, 669625, 393487, 395550, 294000, 462172, 551125, 469750, 315625, 233750, 692868, 412362, 531250, 1234750, 425787, 466225, 300625, 261687, 659625, 423225, 466750, 481250, 293750, 431500, 845958, 318750, 361625, 466375, 571687, 528875, 731520, 392250, 377625, 444125, 360487, 411500, 729987, 471887, 672250, 497750, 472737, 560750, 511000, 457500, 818750, 579612, 434847, 428575, 706875, 429500, 570000, 285687, 489162, 626375, 969250, 739750, 407650, 300500, 1188250, 585450, 442987, 403800, 596562, 339462, 488250, 362362, 320625, 344125, 516750, 667125, 316437, 434750, 355375, 473762, 304625, 318622, 301056, 1016625, 282750, 720750, 960750, 278125, 561225, 509114, 437125, 381725, 796000, 480750, 485376, 617625, 566500, 1173250, 598000, 367500, 441250, 535000, 471737, 210875, 186987, 316750, 571250, 973872, 448000, 403975, 1190000, 440650, 402500, 448987, 800500, 389875, 309875, 397250, 258862, 323749, 578750, 261237, 2210000, 742500, 479525, 268375, 491125, 660625, 531125, 344662, 437500, 263250, 376331, 419725, 336800, 489825, 331975, 842500, 480625, 418748, 730000, 948125, 696625, 342112, 1206250, 208750, 351250, 316500, 392750, 1297001, 524500, 745500, 237000, 459500, 415300, 1187488, 449750, 396487, 335250, 1285750, 527625, 444737, 501237, 416725, 650350, 644500, 908475, 365125, 324875, 1675000, 411250, 194562, 453725, 240625, 417475, 324237, 418250, 438750, 579250, 287500, 600000, 579250, 434443, 770722, 826500, 270875, 1273250, 594750, 717250, 604625, 468312, 717750, 417500, 420225, 644120, 272112, 273900, 292125, 594362, 681250, 268250, 609612, 657125, 426487, 443612, 759000, 431987, 801750, 417500, 342737, 393450, 568750, 462500, 363987, 1031250, 257487, 379750, 251750, 540250, 302475, 324737, 345350, 679962, 267000, 361600, 580625, 441987, 355875, 301025, 220987, 318916, 354787, 652625, 1011875, 309437, 199250, 411675, 515125, 1513247, 357487, 542500, 607625, 285250, 847462, 498125, 585500, 827225, 628750, 1638750, 1330750, 221737, 600120, 438875, 432250, 285000, 866262, 279250, 493750, 275625, 1798462, 259000, 3011825, 238125, 486750, 660000, 414237, 1072125, 856100, 696237, 355000, 363750, 324125, 439600, 560340, 287174, 996250, 317055, 947125, 710000, 429500, 280875, 387375, 503737, 401375, 309000, 478750, 533562, 453000, 584500, 571750, 331375, 548562, 396125, 1122950, 1002171, 323750, 594112, 1058156, 1575750, 271375, 524125, 260250, 351750, 504250, 363750, 407125, 316250, 502687, 434487, 570312, 443250, 322124, 649562, 335000, 429500, 253700, 593125, 354414, 458000, 383250, 298862, 674312, 554750, 434400, 551362, 538375, 821225, 481725, 634737, 426679, 377596, 414750, 240875, 327250, 481487, 578125, 349000, 913562, 506825, 454975, 708125, 562500, 450612, 501125, 367487, 1138750, 470000, 674312, 386375, 486000, 609375, 736250, 733675, 808250, 580125, 392500, 298662, 459000, 278987, 567375, 628748, 566250, 383237, 606250, 916500, 513500, 547487, 545225, 1033750, 438250, 591750, 298025, 408487, 603362, 605750, 256237, 354550, 215600, 733500, 402608, 442487, 851389, 221625, 438000, 546237, 373487, 393752, 587000, 1909125, 459625, 188362, 623000, 887500, 488500, 853750, 1328375, 586125, 349250, 269750, 513625, 360487, 436375, 424925, 471750, 278975, 541500, 518376, 443250, 641000, 413375, 561575, 441500, 300500, 892875, 208250, 641298, 452100, 387500, 196500, 358500, 363112, 861850, 353425, 488500, 537000, 346000, 960875, 421250, 604950, 433500, 552875, 365250, 650625, 320750, 544250, 950250, 254750, 603500, 471000, 359125, 492000, 412500, 472375, 351000, 644806, 577625, 1067750, 827250, 337664, 679875, 688812, 402125, 563000, 263250, 395487, 308000, 526750, 322225, 899875, 617147, 222142, 608500, 391375, 329375, 522375, 1209487, 266875, 460500, 287225, 395487, 809750, 324237, 644337, 309875, 361249, 394225, 439500, 334750, 365250, 840500, 912639, 759987, 489500, 345000, 515250, 370237, 543931, 550750, 862000, 333687, 484265, 317487, 331000, 1360525, 329250, 503060, 285487, 417862, 623750, 852000, 524125, 430750, 323500, 637500, 544000, 919497, 376875, 572237, 259237, 540625, 298100, 465533, 867125, 490250, 445000, 583500, 351375, 380100, 1123500, 413312, 494875, 316750, 470750, 611250, 350000, 537237, 533125, 322377, 608250, 597312, 284750, 856262, 324237, 472750, 459275, 387750, 187543, 456250, 764156, 582487, 314625, 512476, 520000, 315750, 376575, 402237, 184085, 395237, 275625, 599962, 299975, 453407, 332000, 461500, 876250, 255375, 988000, 514775, 445987, 251500, 688281, 432250, 360000, 416112, 1422000, 736250, 543397, 371250, 425862, 502621, 464250, 312875, 422398, 479625, 430812, 1663737, 511250, 598250, 472000, 624625, 454737, 1107250, 358750, 353575, 391125, 407750, 659912, 691000, 1278987, 581250, 487250, 387250, 355624, 524375, 400650, 596625, 337250, 537250, 996750, 323375, 537250, 323500, 416112, 530750, 502500, 241500, 502750, 366875, 456000, 541250, 397475, 433093, 401000, 335375, 247737, 377211, 537500, 384750, 502375, 267500, 278750, 285000, 439500, 537487, 498625, 713250, 475250, 406500, 319250, 358625, 856375, 709000, 1141389, 462487, 600625, 441375, 331875, 555149, 262850, 778750, 344225, 750500, 570237, 300125, 518875, 367500, 540500, 358112, 338925, 181750, 398625, 209100, 567500, 410037, 486487, 346850, 354225, 689125, 775875, 266000, 627375, 501750, 246750, 907762, 466247, 315350, 523250, 489750, 403500, 201843, 528750, 322377, 587725, 274000, 452876, 568750, 605103, 781875, 850622, 485875, 428775, 297487, 273599, 511900, 256612, 397500, 234487, 665750, 598126, 377250, 489750, 1460000, 483750, 346250, 388700, 372125, 309875, 232868, 419762, 561840, 287250, 338875, 393612, 774400, 649850, 400425, 839500, 442500, 356000, 1593250, 462000, 224850, 1410000, 408750, 389425, 325775, 280250, 570375, 320887, 582225, 634750, 349725, 745500, 374812, 470000, 578633, 272750, 791750, 471500, 895000, 356625, 378112, 745500, 1064500, 338750, 303500, 478000, 551875, 470750, 269687, 907000, 818247, 456750, 320362, 386375, 378750, 336000, 585450, 766250, 715737, 688750, 277350, 553375, 543000, 551875, 440800, 479075, 273725, 555750, 215600, 402112, 342650, 492237, 673000, 358112, 391125, 627875, 476237, 488750, 590840, 471000, 436625, 278975, 465533, 328875, 465125, 389600, 678187, 608312, 506000, 553750, 419500, 1237000, 327500, 363500, 3011825, 409250, 292500, 652000, 458000, 667000, 373125, 393850, 621237, 462125, 500237, 367484, 591487, 464237, 490000, 582875, 355612, 601737, 566251, 621611, 535437, 421712, 937250, 712487, 418750, 1513750, 365375, 400250, 387737, 207250, 305625, 445612, 332250, 425875, 337000, 330762, 668500, 484250, 315350, 444125, 464250, 888625, 414625, 560750, 662660, 430037, 883762, 566750, 556237, 402502, 211150, 404975, 301750, 274875, 421987, 320862, 387500, 455487, 339625, 552250, 373125, 229250, 370250, 745000, 201820, 575875, 353337, 403125, 455487, 309237, 329862, 286612, 301250, 320500, 364250, 1641997, 427000, 623250, 784125, 552875, 509750, 384125, 389375, 302612, 507500, 416112, 720750, 568750, 721450, 2505000, 314225, 454975, 410765, 625125, 354175, 666056, 410500, 257000, 529750, 415750, 237500, 216237, 502500, 324962, 428500, 457237, 297000, 524500, 299987, 316125, 367125, 314125, 407750, 501875, 565862, 719750, 509397, 407500, 257500, 392625, 936125, 469875, 625250, 448500, 274125, 193326, 455250, 1307500, 546237, 365737, 757222, 254987, 554375, 1499000, 614590, 606225, 1641997, 543397, 552125, 380000, 396054, 335500, 360375, 462875, 986500, 521250, 271250, 290110, 901250, 294500, 720875, 839875, 509050, 467090, 512250, 267250, 428890, 1135000, 593125, 393500, 915000, 956750, 421000, 1092250, 513312, 385025, 594250, 881075, 329862, 401220, 220500, 542612, 350250, 420250, 453407, 401125, 491237, 341987, 731048, 394225, 458250, 1129000, 516875, 383125, 289725, 385487, 438250, 361112, 589005, 442750, 418805, 1458737, 493575, 776750, 425737, 636750, 564750, 870502, 510737, 625687, 451862, 602500, 360375, 319987, 481350, 372700, 478312, 398525, 621250, 208472, 545250, 286837, 557112, 343800, 571250, 695550, 260950, 345725, 510500, 592750, 544875, 278800, 342362, 396250, 1150625, 852500, 489375, 420875, 739750, 568987, 543737, 834873, 299172, 367125, 233468, 1081437, 233125, 345000, 224125, 581210, 955000, 552500, 260475, 749487, 263000, 342362, 604222, 434737, 422987, 234650, 558750, 272000, 304400, 199737, 581500, 579737, 319954, 370212, 451291, 520375, 832125, 364000, 463750, 673125, 280110, 512500, 932625, 454875, 687500, 234472, 491511, 357237, 709475, 886750, 610060, 425625, 370498, 467350, 298625, 285925, 337750, 495000, 1825000, 419612, 911250, 236500, 518250, 250000, 421750, 303025, 542500, 329000, 588150, 966687, 816250, 865250, 290000, 290250, 323887, 496500, 381750, 485750, 562487, 495612, 579862, 458112, 350375, 940625, 250350, 826187, 511625, 483875, 541875, 385000, 545000, 712500, 366250, 677375, 789375, 1825000, 525062, 337750, 527625, 1204375, 717281, 608750, 683025, 423562, 526000, 352475, 498500, 971500, 1147750, 453750, 454587, 255200, 471533, 334237, 590625, 813250, 860000, 412750, 1415000, 354750, 389750, 429700, 514275, 406987, 272250, 441362, 509031, 504875, 499250, 824775, 451362, 511750, 447500, 477500, 522000, 550250, 715125, 282125, 795000, 307000, 525987, 438275, 224975, 278950, 620000, 533400, 373125, 966000, 609750, 353250, 266225, 1001000, 672473, 342000, 330850, 584750, 480125, 1130331, 303000, 317875, 591393, 559812, 687000, 1146625, 563500, 357485, 807375, 488090, 1024347, 454487, 1293331, 594345, 447500, 802250, 703547, 651000, 561475, 428737, 802750, 848447, 388375, 387375, 790500, 678004, 541500, 563000, 798019, 314100, 1496250, 500100, 446250, 743475, 489000, 408750, 1528750, 325750, 369875, 496487, 829334, 328500, 366425, 1119347, 908250, 529125, 606187, 351750, 871237, 335315, 419987, 487100, 747487, 610125, 284725, 526033, 1332202, 840110, 406247, 570147, 460975, 2150000, 527411, 356062, 635987, 452124, 426970, 968750, 488113, 374000, 1233247, 883747, 430400, 467350, 559948, 457777, 396725, 518712, 709862, 442187, 359373, 438250, 594362, 316372, 615620, 576652, 365899, 490000, 1050750, 513612, 328875, 347750, 1725750, 610125, 396350, 544975, 1012925, 459220, 375225, 739750, 723875, 706237, 921150, 633675, 320625, 418237, 314125, 395250, 439289, 508500, 292950, 308500, 356372, 566637, 417750, 602500, 456162, 652500, 522375, 567500, 1528750, 881000, 276500, 1097622, 391125, 312875, 469725]\n",
      "[489500, 433875, 652750, 476325, 319475, 1080375, 332062, 519987, 456000, 339895, 396054, 466750, 352025, 478050, 1036250, 372475, 617500, 309625, 464500, 470875, 388375, 395250, 804000, 733250, 287425, 627375, 1056876, 496812, 1034227, 499000, 1725750, 1642139, 466737, 373500, 366500, 379750, 297812, 729500, 412475, 277637, 893582, 463000, 296750, 410125, 343500, 511112, 376737, 527500, 352387, 743500, 321000, 279125, 328725, 664500, 579812, 541250, 531000, 316750, 542500, 665000, 286375, 488090, 923125, 294862, 870000, 290750, 313125, 248500, 396625, 426125, 923750, 269750, 657500, 447562, 207125, 278568, 625625, 395000, 902975, 505750, 344675, 721625, 447250, 317237, 303125, 295500, 578750, 636250, 340750, 336250, 609750, 754750, 372750, 270250, 588750, 374157, 272987, 395162, 324837, 455350, 224500, 389837, 667500, 587000, 587875, 623250, 301650, 415625, 359250, 773250, 526000, 316912, 541500, 682625, 485625, 325937, 806250, 668500, 2196000, 458000, 1212488, 452250, 595375, 755250, 306275, 652500, 490000, 464000, 247250, 475950, 378662, 240060, 655750, 372487, 224500, 415500, 306737, 507147, 680500, 387225, 1055250, 290110, 456837, 606525, 646023, 428975, 716500, 319954, 669625, 393487, 395550, 294000, 462172, 551125, 469750, 315625, 233750, 692868, 412362, 531250, 1234750, 425787, 466225, 300625, 261687, 659625, 423225, 466750, 481250, 293750, 431500, 845958, 318750, 361625, 466375, 571687, 528875, 731520, 392250, 377625, 444125, 360487, 411500, 729987, 471887, 672250, 497750, 472737, 560750, 511000, 457500, 818750, 579612, 434847, 428575, 706875, 429500, 570000, 285687, 489162, 626375, 969250, 739750, 407650, 300500, 1188250, 585450, 442987, 403800, 596562, 339462, 488250, 362362, 320625, 344125, 516750, 667125, 316437, 434750, 355375, 473762, 304625, 318622, 301056, 1016625, 282750, 720750, 960750, 278125, 561225, 509114, 437125, 381725, 796000, 480750, 485376, 617625, 566500, 1173250, 598000, 367500, 441250, 535000, 471737, 210875, 186987, 316750, 571250, 973872, 448000, 403975, 1190000, 440650, 402500, 448987, 800500, 389875, 309875, 397250, 258862, 323749, 578750, 261237, 2210000, 742500, 479525, 268375, 491125, 660625, 531125, 344662, 437500, 263250, 376331, 419725, 336800, 489825, 331975, 842500, 480625, 418748, 730000, 948125, 696625, 342112, 1206250, 208750, 351250, 316500, 392750, 1297001, 524500, 745500, 237000, 459500, 415300, 1187488, 449750, 396487, 335250, 1285750, 527625, 444737, 501237, 416725, 650350, 644500, 908475, 365125, 324875, 1675000, 411250, 194562, 453725, 240625, 417475, 324237, 418250, 438750, 579250, 287500, 600000, 579250, 434443, 770722, 826500, 270875, 1273250, 594750, 717250, 604625, 468312, 717750, 417500, 420225, 644120, 272112, 273900, 292125, 594362, 681250, 268250, 609612, 657125, 426487, 443612, 759000, 431987, 801750, 417500, 342737, 393450, 568750, 462500, 363987, 1031250, 257487, 379750, 251750, 540250, 302475, 324737, 345350, 679962, 267000, 361600, 580625, 441987, 355875, 301025, 220987, 318916, 354787, 652625, 1011875, 309437, 199250, 411675, 515125, 1513247, 357487, 542500, 607625, 285250, 847462, 498125, 585500, 827225, 628750, 1638750, 1330750, 221737, 600120, 438875, 432250, 285000, 866262, 279250, 493750, 275625, 1798462, 259000, 3011825, 238125, 486750, 660000, 414237, 1072125, 856100, 696237, 355000, 363750, 324125, 439600, 560340, 287174, 996250, 317055, 947125, 710000, 429500, 280875, 387375, 503737, 401375, 309000, 478750, 533562, 453000, 584500, 571750, 331375, 548562, 396125, 1122950, 1002171, 323750, 594112, 1058156, 1575750, 271375, 524125, 260250, 351750, 504250, 363750, 407125, 316250, 502687, 434487, 570312, 443250, 322124, 649562, 335000, 429500, 253700, 593125, 354414, 458000, 383250, 298862, 674312, 554750, 434400, 551362, 538375, 821225, 481725, 634737, 426679, 377596, 414750, 240875, 327250, 481487, 578125, 349000, 913562, 506825, 454975, 708125, 562500, 450612, 501125, 367487, 1138750, 470000, 674312, 386375, 486000, 609375, 736250, 733675, 808250, 580125, 392500, 298662, 459000, 278987, 567375, 628748, 566250, 383237, 606250, 916500, 513500, 547487, 545225, 1033750, 438250, 591750, 298025, 408487, 603362, 605750, 256237, 354550, 215600, 733500, 402608, 442487, 851389, 221625, 438000, 546237, 373487, 393752, 587000, 1909125, 459625, 188362, 623000, 887500, 488500, 853750, 1328375, 586125, 349250, 269750, 513625, 360487, 436375, 424925, 471750, 278975, 541500, 518376, 443250, 641000, 413375, 561575, 441500, 300500, 892875, 208250, 641298, 452100, 387500, 196500, 358500, 363112, 861850, 353425, 488500, 537000, 346000, 960875, 421250, 604950, 433500, 552875, 365250, 650625, 320750, 544250, 950250, 254750, 603500, 471000, 359125, 492000, 412500, 472375, 351000, 644806, 577625, 1067750, 827250, 337664, 679875, 688812, 402125, 563000, 263250, 395487, 308000, 526750, 322225, 899875, 617147, 222142, 608500, 391375, 329375, 522375, 1209487, 266875, 460500, 287225, 395487, 809750, 324237, 644337, 309875, 361249, 394225, 439500, 334750, 365250, 840500, 912639, 759987, 489500, 345000, 515250, 370237, 543931, 550750, 862000, 333687, 484265, 317487, 331000, 1360525, 329250, 503060, 285487, 417862, 623750, 852000, 524125, 430750, 323500, 637500, 544000, 919497, 376875, 572237, 259237, 540625, 298100, 465533, 867125, 490250, 445000, 583500, 351375, 380100, 1123500, 413312, 494875, 316750, 470750, 611250, 350000, 537237, 533125, 322377, 608250, 597312, 284750, 856262, 324237, 472750, 459275, 387750, 187543, 456250, 764156, 582487, 314625, 512476, 520000, 315750, 376575, 402237, 184085, 395237, 275625, 599962, 299975, 453407, 332000, 461500, 876250, 255375, 988000, 514775, 445987, 251500, 688281, 432250, 360000, 416112, 1422000, 736250, 543397, 371250, 425862, 502621, 464250, 312875, 422398, 479625, 430812, 1663737, 511250, 598250, 472000, 624625, 454737, 1107250, 358750, 353575, 391125, 407750, 659912, 691000, 1278987, 581250, 487250, 387250, 355624, 524375, 400650, 596625, 337250, 537250, 996750, 323375, 537250, 323500, 416112, 530750, 502500, 241500, 502750, 366875, 456000, 541250, 397475, 433093, 401000, 335375, 247737, 377211, 537500, 384750, 502375, 267500, 278750, 285000, 439500, 537487, 498625, 713250, 475250, 406500, 319250, 358625, 856375, 709000, 1141389, 462487, 600625, 441375, 331875, 555149, 262850, 778750, 344225, 750500, 570237, 300125, 518875, 367500, 540500, 358112, 338925, 181750, 398625, 209100, 567500, 410037, 486487, 346850, 354225, 689125, 775875, 266000, 627375, 501750, 246750, 907762, 466247, 315350, 523250, 489750, 403500, 201843, 528750, 322377, 587725, 274000, 452876, 568750, 605103, 781875, 850622, 485875, 428775, 297487, 273599, 511900, 256612, 397500, 234487, 665750, 598126, 377250, 489750, 1460000, 483750, 346250, 388700, 372125, 309875, 232868, 419762, 561840, 287250, 338875, 393612, 774400, 649850, 400425, 839500, 442500, 356000, 1593250, 462000, 224850, 1410000, 408750, 389425, 325775, 280250, 570375, 320887, 582225, 634750, 349725, 745500, 374812, 470000, 578633, 272750, 791750, 471500, 895000, 356625, 378112, 745500, 1064500, 338750, 303500, 478000, 551875, 470750, 269687, 907000, 818247, 456750, 320362, 386375, 378750, 336000, 585450, 766250, 715737, 688750, 277350, 553375, 543000, 551875, 440800, 479075, 273725, 555750, 215600, 402112, 342650, 492237, 673000, 358112, 391125, 627875, 476237, 488750, 590840, 471000, 436625, 278975, 465533, 328875, 465125, 389600, 678187, 608312, 506000, 553750, 419500, 1237000, 327500, 363500, 3011825, 409250, 292500, 652000, 458000, 667000, 373125, 393850, 621237, 462125, 500237, 367484, 591487, 464237, 490000, 582875, 355612, 601737, 566251, 621611, 535437, 421712, 937250, 712487, 418750, 1513750, 365375, 400250, 387737, 207250, 305625, 445612, 332250, 425875, 337000, 330762, 668500, 484250, 315350, 444125, 464250, 888625, 414625, 560750, 662660, 430037, 883762, 566750, 556237, 402502, 211150, 404975, 301750, 274875, 421987, 320862, 387500, 455487, 339625, 552250, 373125, 229250, 370250, 745000, 201820, 575875, 353337, 403125, 455487, 309237, 329862, 286612, 301250, 320500, 364250, 1641997, 427000, 623250, 784125, 552875, 509750, 384125, 389375, 302612, 507500, 416112, 720750, 568750, 721450, 2505000, 314225, 454975, 410765, 625125, 354175, 666056, 410500, 257000, 529750, 415750, 237500, 216237, 502500, 324962, 428500, 457237, 297000, 524500, 299987, 316125, 367125, 314125, 407750, 501875, 565862, 719750, 509397, 407500, 257500, 392625, 936125, 469875, 625250, 448500, 274125, 193326, 455250, 1307500, 546237, 365737, 757222, 254987, 554375, 1499000, 614590, 606225, 1641997, 543397, 552125, 380000, 396054, 335500, 360375, 462875, 986500, 521250, 271250, 290110, 901250, 294500, 720875, 839875, 509050, 467090, 512250, 267250, 428890, 1135000, 593125, 393500, 915000, 956750, 421000, 1092250, 513312, 385025, 594250, 881075, 329862, 401220, 220500, 542612, 350250, 420250, 453407, 401125, 491237, 341987, 731048, 394225, 458250, 1129000, 516875, 383125, 289725, 385487, 438250, 361112, 589005, 442750, 418805, 1458737, 493575, 776750, 425737, 636750, 564750, 870502, 510737, 625687, 451862, 602500, 360375, 319987, 481350, 372700, 478312, 398525, 621250, 208472, 545250, 286837, 557112, 343800, 571250, 695550, 260950, 345725, 510500, 592750, 544875, 278800, 342362, 396250, 1150625, 852500, 489375, 420875, 739750, 568987, 543737, 834873, 299172, 367125, 233468, 1081437, 233125, 345000, 224125, 581210, 955000, 552500, 260475, 749487, 263000, 342362, 604222, 434737, 422987, 234650, 558750, 272000, 304400, 199737, 581500, 579737, 319954, 370212, 451291, 520375, 832125, 364000, 463750, 673125, 280110, 512500, 932625, 454875, 687500, 234472, 491511, 357237, 709475, 886750, 610060, 425625, 370498, 467350, 298625, 285925, 337750, 495000, 1825000, 419612, 911250, 236500, 518250, 250000, 421750, 303025, 542500, 329000, 588150, 966687, 816250, 865250, 290000, 290250, 323887, 496500, 381750, 485750, 562487, 495612, 579862, 458112, 350375, 940625, 250350, 826187, 511625, 483875, 541875, 385000, 545000, 712500, 366250, 677375, 789375, 1825000, 525062, 337750, 527625, 1204375, 717281, 608750, 683025, 423562, 526000, 352475, 498500, 971500, 1147750, 453750, 454587, 255200, 471533, 334237, 590625, 813250, 860000, 412750, 1415000, 354750, 389750, 429700, 514275, 406987, 272250, 441362, 509031, 504875, 499250, 824775, 451362, 511750, 447500, 477500, 522000, 550250, 715125, 282125, 795000, 307000, 525987, 438275, 224975, 278950, 620000, 533400, 373125, 966000, 609750, 353250, 266225, 1001000, 672473, 342000, 330850, 584750, 480125, 1130331, 303000, 317875, 591393, 559812, 687000, 1146625, 563500, 357485, 807375, 488090, 1024347, 454487, 1293331, 594345, 447500, 802250, 703547, 651000, 561475, 428737, 802750, 848447, 388375, 387375, 790500, 678004, 541500, 563000, 798019, 314100, 1496250, 500100, 446250, 743475, 489000, 408750, 1528750, 325750, 369875, 496487, 829334, 328500, 366425, 1119347, 908250, 529125, 606187, 351750, 871237, 335315, 419987, 487100, 747487, 610125, 284725, 526033, 1332202, 840110, 406247, 570147, 460975, 2150000, 527411, 356062, 635987, 452124, 426970, 968750, 488113, 374000, 1233247, 883747, 430400, 467350, 559948, 457777, 396725, 518712, 709862, 442187, 359373, 438250, 594362, 316372, 615620, 576652, 365899, 490000, 1050750, 513612, 328875, 347750, 1725750, 610125, 396350, 544975, 1012925, 459220, 375225, 739750, 723875, 706237, 921150, 633675, 320625, 418237, 314125, 395250, 439289, 508500, 292950, 308500, 356372, 566637, 417750, 602500, 456162, 652500, 522375, 567500, 1528750, 881000, 276500, 1097622, 391125, 312875, 469725]\n",
      "[489500, 433875, 652750, 476325, 319475, 1080375, 332062, 519987, 456000, 339895, 396054, 466750, 352025, 478050, 1036250, 372475, 617500, 309625, 464500, 470875, 388375, 395250, 804000, 733250, 287425, 627375, 1056876, 496812, 1034227, 499000, 1725750, 1642139, 466737, 373500, 366500, 379750, 297812, 729500, 412475, 277637, 893582, 463000, 296750, 410125, 343500, 511112, 376737, 527500, 352387, 743500, 321000, 279125, 328725, 664500, 579812, 541250, 531000, 316750, 542500, 665000, 286375, 488090, 923125, 294862, 870000, 290750, 313125, 248500, 396625, 426125, 923750, 269750, 657500, 447562, 207125, 278568, 625625, 395000, 902975, 505750, 344675, 721625, 447250, 317237, 303125, 295500, 578750, 636250, 340750, 336250, 609750, 754750, 372750, 270250, 588750, 374157, 272987, 395162, 324837, 455350, 224500, 389837, 667500, 587000, 587875, 623250, 301650, 415625, 359250, 773250, 526000, 316912, 541500, 682625, 485625, 325937, 806250, 668500, 2196000, 458000, 1212488, 452250, 595375, 755250, 306275, 652500, 490000, 464000, 247250, 475950, 378662, 240060, 655750, 372487, 224500, 415500, 306737, 507147, 680500, 387225, 1055250, 290110, 456837, 606525, 646023, 428975, 716500, 319954, 669625, 393487, 395550, 294000, 462172, 551125, 469750, 315625, 233750, 692868, 412362, 531250, 1234750, 425787, 466225, 300625, 261687, 659625, 423225, 466750, 481250, 293750, 431500, 845958, 318750, 361625, 466375, 571687, 528875, 731520, 392250, 377625, 444125, 360487, 411500, 729987, 471887, 672250, 497750, 472737, 560750, 511000, 457500, 818750, 579612, 434847, 428575, 706875, 429500, 570000, 285687, 489162, 626375, 969250, 739750, 407650, 300500, 1188250, 585450, 442987, 403800, 596562, 339462, 488250, 362362, 320625, 344125, 516750, 667125, 316437, 434750, 355375, 473762, 304625, 318622, 301056, 1016625, 282750, 720750, 960750, 278125, 561225, 509114, 437125, 381725, 796000, 480750, 485376, 617625, 566500, 1173250, 598000, 367500, 441250, 535000, 471737, 210875, 186987, 316750, 571250, 973872, 448000, 403975, 1190000, 440650, 402500, 448987, 800500, 389875, 309875, 397250, 258862, 323749, 578750, 261237, 2210000, 742500, 479525, 268375, 491125, 660625, 531125, 344662, 437500, 263250, 376331, 419725, 336800, 489825, 331975, 842500, 480625, 418748, 730000, 948125, 696625, 342112, 1206250, 208750, 351250, 316500, 392750, 1297001, 524500, 745500, 237000, 459500, 415300, 1187488, 449750, 396487, 335250, 1285750, 527625, 444737, 501237, 416725, 650350, 644500, 908475, 365125, 324875, 1675000, 411250, 194562, 453725, 240625, 417475, 324237, 418250, 438750, 579250, 287500, 600000, 579250, 434443, 770722, 826500, 270875, 1273250, 594750, 717250, 604625, 468312, 717750, 417500, 420225, 644120, 272112, 273900, 292125, 594362, 681250, 268250, 609612, 657125, 426487, 443612, 759000, 431987, 801750, 417500, 342737, 393450, 568750, 462500, 363987, 1031250, 257487, 379750, 251750, 540250, 302475, 324737, 345350, 679962, 267000, 361600, 580625, 441987, 355875, 301025, 220987, 318916, 354787, 652625, 1011875, 309437, 199250, 411675, 515125, 1513247, 357487, 542500, 607625, 285250, 847462, 498125, 585500, 827225, 628750, 1638750, 1330750, 221737, 600120, 438875, 432250, 285000, 866262, 279250, 493750, 275625, 1798462, 259000, 3011825, 238125, 486750, 660000, 414237, 1072125, 856100, 696237, 355000, 363750, 324125, 439600, 560340, 287174, 996250, 317055, 947125, 710000, 429500, 280875, 387375, 503737, 401375, 309000, 478750, 533562, 453000, 584500, 571750, 331375, 548562, 396125, 1122950, 1002171, 323750, 594112, 1058156, 1575750, 271375, 524125, 260250, 351750, 504250, 363750, 407125, 316250, 502687, 434487, 570312, 443250, 322124, 649562, 335000, 429500, 253700, 593125, 354414, 458000, 383250, 298862, 674312, 554750, 434400, 551362, 538375, 821225, 481725, 634737, 426679, 377596, 414750, 240875, 327250, 481487, 578125, 349000, 913562, 506825, 454975, 708125, 562500, 450612, 501125, 367487, 1138750, 470000, 674312, 386375, 486000, 609375, 736250, 733675, 808250, 580125, 392500, 298662, 459000, 278987, 567375, 628748, 566250, 383237, 606250, 916500, 513500, 547487, 545225, 1033750, 438250, 591750, 298025, 408487, 603362, 605750, 256237, 354550, 215600, 733500, 402608, 442487, 851389, 221625, 438000, 546237, 373487, 393752, 587000, 1909125, 459625, 188362, 623000, 887500, 488500, 853750, 1328375, 586125, 349250, 269750, 513625, 360487, 436375, 424925, 471750, 278975, 541500, 518376, 443250, 641000, 413375, 561575, 441500, 300500, 892875, 208250, 641298, 452100, 387500, 196500, 358500, 363112, 861850, 353425, 488500, 537000, 346000, 960875, 421250, 604950, 433500, 552875, 365250, 650625, 320750, 544250, 950250, 254750, 603500, 471000, 359125, 492000, 412500, 472375, 351000, 644806, 577625, 1067750, 827250, 337664, 679875, 688812, 402125, 563000, 263250, 395487, 308000, 526750, 322225, 899875, 617147, 222142, 608500, 391375, 329375, 522375, 1209487, 266875, 460500, 287225, 395487, 809750, 324237, 644337, 309875, 361249, 394225, 439500, 334750, 365250, 840500, 912639, 759987, 489500, 345000, 515250, 370237, 543931, 550750, 862000, 333687, 484265, 317487, 331000, 1360525, 329250, 503060, 285487, 417862, 623750, 852000, 524125, 430750, 323500, 637500, 544000, 919497, 376875, 572237, 259237, 540625, 298100, 465533, 867125, 490250, 445000, 583500, 351375, 380100, 1123500, 413312, 494875, 316750, 470750, 611250, 350000, 537237, 533125, 322377, 608250, 597312, 284750, 856262, 324237, 472750, 459275, 387750, 187543, 456250, 764156, 582487, 314625, 512476, 520000, 315750, 376575, 402237, 184085, 395237, 275625, 599962, 299975, 453407, 332000, 461500, 876250, 255375, 988000, 514775, 445987, 251500, 688281, 432250, 360000, 416112, 1422000, 736250, 543397, 371250, 425862, 502621, 464250, 312875, 422398, 479625, 430812, 1663737, 511250, 598250, 472000, 624625, 454737, 1107250, 358750, 353575, 391125, 407750, 659912, 691000, 1278987, 581250, 487250, 387250, 355624, 524375, 400650, 596625, 337250, 537250, 996750, 323375, 537250, 323500, 416112, 530750, 502500, 241500, 502750, 366875, 456000, 541250, 397475, 433093, 401000, 335375, 247737, 377211, 537500, 384750, 502375, 267500, 278750, 285000, 439500, 537487, 498625, 713250, 475250, 406500, 319250, 358625, 856375, 709000, 1141389, 462487, 600625, 441375, 331875, 555149, 262850, 778750, 344225, 750500, 570237, 300125, 518875, 367500, 540500, 358112, 338925, 181750, 398625, 209100, 567500, 410037, 486487, 346850, 354225, 689125, 775875, 266000, 627375, 501750, 246750, 907762, 466247, 315350, 523250, 489750, 403500, 201843, 528750, 322377, 587725, 274000, 452876, 568750, 605103, 781875, 850622, 485875, 428775, 297487, 273599, 511900, 256612, 397500, 234487, 665750, 598126, 377250, 489750, 1460000, 483750, 346250, 388700, 372125, 309875, 232868, 419762, 561840, 287250, 338875, 393612, 774400, 649850, 400425, 839500, 442500, 356000, 1593250, 462000, 224850, 1410000, 408750, 389425, 325775, 280250, 570375, 320887, 582225, 634750, 349725, 745500, 374812, 470000, 578633, 272750, 791750, 471500, 895000, 356625, 378112, 745500, 1064500, 338750, 303500, 478000, 551875, 470750, 269687, 907000, 818247, 456750, 320362, 386375, 378750, 336000, 585450, 766250, 715737, 688750, 277350, 553375, 543000, 551875, 440800, 479075, 273725, 555750, 215600, 402112, 342650, 492237, 673000, 358112, 391125, 627875, 476237, 488750, 590840, 471000, 436625, 278975, 465533, 328875, 465125, 389600, 678187, 608312, 506000, 553750, 419500, 1237000, 327500, 363500, 3011825, 409250, 292500, 652000, 458000, 667000, 373125, 393850, 621237, 462125, 500237, 367484, 591487, 464237, 490000, 582875, 355612, 601737, 566251, 621611, 535437, 421712, 937250, 712487, 418750, 1513750, 365375, 400250, 387737, 207250, 305625, 445612, 332250, 425875, 337000, 330762, 668500, 484250, 315350, 444125, 464250, 888625, 414625, 560750, 662660, 430037, 883762, 566750, 556237, 402502, 211150, 404975, 301750, 274875, 421987, 320862, 387500, 455487, 339625, 552250, 373125, 229250, 370250, 745000, 201820, 575875, 353337, 403125, 455487, 309237, 329862, 286612, 301250, 320500, 364250, 1641997, 427000, 623250, 784125, 552875, 509750, 384125, 389375, 302612, 507500, 416112, 720750, 568750, 721450, 2505000, 314225, 454975, 410765, 625125, 354175, 666056, 410500, 257000, 529750, 415750, 237500, 216237, 502500, 324962, 428500, 457237, 297000, 524500, 299987, 316125, 367125, 314125, 407750, 501875, 565862, 719750, 509397, 407500, 257500, 392625, 936125, 469875, 625250, 448500, 274125, 193326, 455250, 1307500, 546237, 365737, 757222, 254987, 554375, 1499000, 614590, 606225, 1641997, 543397, 552125, 380000, 396054, 335500, 360375, 462875, 986500, 521250, 271250, 290110, 901250, 294500, 720875, 839875, 509050, 467090, 512250, 267250, 428890, 1135000, 593125, 393500, 915000, 956750, 421000, 1092250, 513312, 385025, 594250, 881075, 329862, 401220, 220500, 542612, 350250, 420250, 453407, 401125, 491237, 341987, 731048, 394225, 458250, 1129000, 516875, 383125, 289725, 385487, 438250, 361112, 589005, 442750, 418805, 1458737, 493575, 776750, 425737, 636750, 564750, 870502, 510737, 625687, 451862, 602500, 360375, 319987, 481350, 372700, 478312, 398525, 621250, 208472, 545250, 286837, 557112, 343800, 571250, 695550, 260950, 345725, 510500, 592750, 544875, 278800, 342362, 396250, 1150625, 852500, 489375, 420875, 739750, 568987, 543737, 834873, 299172, 367125, 233468, 1081437, 233125, 345000, 224125, 581210, 955000, 552500, 260475, 749487, 263000, 342362, 604222, 434737, 422987, 234650, 558750, 272000, 304400, 199737, 581500, 579737, 319954, 370212, 451291, 520375, 832125, 364000, 463750, 673125, 280110, 512500, 932625, 454875, 687500, 234472, 491511, 357237, 709475, 886750, 610060, 425625, 370498, 467350, 298625, 285925, 337750, 495000, 1825000, 419612, 911250, 236500, 518250, 250000, 421750, 303025, 542500, 329000, 588150, 966687, 816250, 865250, 290000, 290250, 323887, 496500, 381750, 485750, 562487, 495612, 579862, 458112, 350375, 940625, 250350, 826187, 511625, 483875, 541875, 385000, 545000, 712500, 366250, 677375, 789375, 1825000, 525062, 337750, 527625, 1204375, 717281, 608750, 683025, 423562, 526000, 352475, 498500, 971500, 1147750, 453750, 454587, 255200, 471533, 334237, 590625, 813250, 860000, 412750, 1415000, 354750, 389750, 429700, 514275, 406987, 272250, 441362, 509031, 504875, 499250, 824775, 451362, 511750, 447500, 477500, 522000, 550250, 715125, 282125, 795000, 307000, 525987, 438275, 224975, 278950, 620000, 533400, 373125, 966000, 609750, 353250, 266225, 1001000, 672473, 342000, 330850, 584750, 480125, 1130331, 303000, 317875, 591393, 559812, 687000, 1146625, 563500, 357485, 807375, 488090, 1024347, 454487, 1293331, 594345, 447500, 802250, 703547, 651000, 561475, 428737, 802750, 848447, 388375, 387375, 790500, 678004, 541500, 563000, 798019, 314100, 1496250, 500100, 446250, 743475, 489000, 408750, 1528750, 325750, 369875, 496487, 829334, 328500, 366425, 1119347, 908250, 529125, 606187, 351750, 871237, 335315, 419987, 487100, 747487, 610125, 284725, 526033, 1332202, 840110, 406247, 570147, 460975, 2150000, 527411, 356062, 635987, 452124, 426970, 968750, 488113, 374000, 1233247, 883747, 430400, 467350, 559948, 457777, 396725, 518712, 709862, 442187, 359373, 438250, 594362, 316372, 615620, 576652, 365899, 490000, 1050750, 513612, 328875, 347750, 1725750, 610125, 396350, 544975, 1012925, 459220, 375225, 739750, 723875, 706237, 921150, 633675, 320625, 418237, 314125, 395250, 439289, 508500, 292950, 308500, 356372, 566637, 417750, 602500, 456162, 652500, 522375, 567500, 1528750, 881000, 276500, 1097622, 391125, 312875, 469725]\n",
      "[489500, 433875, 652750, 476325, 319475, 1080375, 332062, 519987, 456000, 339895, 396054, 466750, 352025, 478050, 1036250, 372475, 617500, 309625, 464500, 470875, 388375, 395250, 804000, 733250, 287425, 627375, 1056876, 496812, 1034227, 499000, 1725750, 1642139, 466737, 373500, 366500, 379750, 297812, 729500, 412475, 277637, 893582, 463000, 296750, 410125, 343500, 511112, 376737, 527500, 352387, 743500, 321000, 279125, 328725, 664500, 579812, 541250, 531000, 316750, 542500, 665000, 286375, 488090, 923125, 294862, 870000, 290750, 313125, 248500, 396625, 426125, 923750, 269750, 657500, 447562, 207125, 278568, 625625, 395000, 902975, 505750, 344675, 721625, 447250, 317237, 303125, 295500, 578750, 636250, 340750, 336250, 609750, 754750, 372750, 270250, 588750, 374157, 272987, 395162, 324837, 455350, 224500, 389837, 667500, 587000, 587875, 623250, 301650, 415625, 359250, 773250, 526000, 316912, 541500, 682625, 485625, 325937, 806250, 668500, 2196000, 458000, 1212488, 452250, 595375, 755250, 306275, 652500, 490000, 464000, 247250, 475950, 378662, 240060, 655750, 372487, 224500, 415500, 306737, 507147, 680500, 387225, 1055250, 290110, 456837, 606525, 646023, 428975, 716500, 319954, 669625, 393487, 395550, 294000, 462172, 551125, 469750, 315625, 233750, 692868, 412362, 531250, 1234750, 425787, 466225, 300625, 261687, 659625, 423225, 466750, 481250, 293750, 431500, 845958, 318750, 361625, 466375, 571687, 528875, 731520, 392250, 377625, 444125, 360487, 411500, 729987, 471887, 672250, 497750, 472737, 560750, 511000, 457500, 818750, 579612, 434847, 428575, 706875, 429500, 570000, 285687, 489162, 626375, 969250, 739750, 407650, 300500, 1188250, 585450, 442987, 403800, 596562, 339462, 488250, 362362, 320625, 344125, 516750, 667125, 316437, 434750, 355375, 473762, 304625, 318622, 301056, 1016625, 282750, 720750, 960750, 278125, 561225, 509114, 437125, 381725, 796000, 480750, 485376, 617625, 566500, 1173250, 598000, 367500, 441250, 535000, 471737, 210875, 186987, 316750, 571250, 973872, 448000, 403975, 1190000, 440650, 402500, 448987, 800500, 389875, 309875, 397250, 258862, 323749, 578750, 261237, 2210000, 742500, 479525, 268375, 491125, 660625, 531125, 344662, 437500, 263250, 376331, 419725, 336800, 489825, 331975, 842500, 480625, 418748, 730000, 948125, 696625, 342112, 1206250, 208750, 351250, 316500, 392750, 1297001, 524500, 745500, 237000, 459500, 415300, 1187488, 449750, 396487, 335250, 1285750, 527625, 444737, 501237, 416725, 650350, 644500, 908475, 365125, 324875, 1675000, 411250, 194562, 453725, 240625, 417475, 324237, 418250, 438750, 579250, 287500, 600000, 579250, 434443, 770722, 826500, 270875, 1273250, 594750, 717250, 604625, 468312, 717750, 417500, 420225, 644120, 272112, 273900, 292125, 594362, 681250, 268250, 609612, 657125, 426487, 443612, 759000, 431987, 801750, 417500, 342737, 393450, 568750, 462500, 363987, 1031250, 257487, 379750, 251750, 540250, 302475, 324737, 345350, 679962, 267000, 361600, 580625, 441987, 355875, 301025, 220987, 318916, 354787, 652625, 1011875, 309437, 199250, 411675, 515125, 1513247, 357487, 542500, 607625, 285250, 847462, 498125, 585500, 827225, 628750, 1638750, 1330750, 221737, 600120, 438875, 432250, 285000, 866262, 279250, 493750, 275625, 1798462, 259000, 3011825, 238125, 486750, 660000, 414237, 1072125, 856100, 696237, 355000, 363750, 324125, 439600, 560340, 287174, 996250, 317055, 947125, 710000, 429500, 280875, 387375, 503737, 401375, 309000, 478750, 533562, 453000, 584500, 571750, 331375, 548562, 396125, 1122950, 1002171, 323750, 594112, 1058156, 1575750, 271375, 524125, 260250, 351750, 504250, 363750, 407125, 316250, 502687, 434487, 570312, 443250, 322124, 649562, 335000, 429500, 253700, 593125, 354414, 458000, 383250, 298862, 674312, 554750, 434400, 551362, 538375, 821225, 481725, 634737, 426679, 377596, 414750, 240875, 327250, 481487, 578125, 349000, 913562, 506825, 454975, 708125, 562500, 450612, 501125, 367487, 1138750, 470000, 674312, 386375, 486000, 609375, 736250, 733675, 808250, 580125, 392500, 298662, 459000, 278987, 567375, 628748, 566250, 383237, 606250, 916500, 513500, 547487, 545225, 1033750, 438250, 591750, 298025, 408487, 603362, 605750, 256237, 354550, 215600, 733500, 402608, 442487, 851389, 221625, 438000, 546237, 373487, 393752, 587000, 1909125, 459625, 188362, 623000, 887500, 488500, 853750, 1328375, 586125, 349250, 269750, 513625, 360487, 436375, 424925, 471750, 278975, 541500, 518376, 443250, 641000, 413375, 561575, 441500, 300500, 892875, 208250, 641298, 452100, 387500, 196500, 358500, 363112, 861850, 353425, 488500, 537000, 346000, 960875, 421250, 604950, 433500, 552875, 365250, 650625, 320750, 544250, 950250, 254750, 603500, 471000, 359125, 492000, 412500, 472375, 351000, 644806, 577625, 1067750, 827250, 337664, 679875, 688812, 402125, 563000, 263250, 395487, 308000, 526750, 322225, 899875, 617147, 222142, 608500, 391375, 329375, 522375, 1209487, 266875, 460500, 287225, 395487, 809750, 324237, 644337, 309875, 361249, 394225, 439500, 334750, 365250, 840500, 912639, 759987, 489500, 345000, 515250, 370237, 543931, 550750, 862000, 333687, 484265, 317487, 331000, 1360525, 329250, 503060, 285487, 417862, 623750, 852000, 524125, 430750, 323500, 637500, 544000, 919497, 376875, 572237, 259237, 540625, 298100, 465533, 867125, 490250, 445000, 583500, 351375, 380100, 1123500, 413312, 494875, 316750, 470750, 611250, 350000, 537237, 533125, 322377, 608250, 597312, 284750, 856262, 324237, 472750, 459275, 387750, 187543, 456250, 764156, 582487, 314625, 512476, 520000, 315750, 376575, 402237, 184085, 395237, 275625, 599962, 299975, 453407, 332000, 461500, 876250, 255375, 988000, 514775, 445987, 251500, 688281, 432250, 360000, 416112, 1422000, 736250, 543397, 371250, 425862, 502621, 464250, 312875, 422398, 479625, 430812, 1663737, 511250, 598250, 472000, 624625, 454737, 1107250, 358750, 353575, 391125, 407750, 659912, 691000, 1278987, 581250, 487250, 387250, 355624, 524375, 400650, 596625, 337250, 537250, 996750, 323375, 537250, 323500, 416112, 530750, 502500, 241500, 502750, 366875, 456000, 541250, 397475, 433093, 401000, 335375, 247737, 377211, 537500, 384750, 502375, 267500, 278750, 285000, 439500, 537487, 498625, 713250, 475250, 406500, 319250, 358625, 856375, 709000, 1141389, 462487, 600625, 441375, 331875, 555149, 262850, 778750, 344225, 750500, 570237, 300125, 518875, 367500, 540500, 358112, 338925, 181750, 398625, 209100, 567500, 410037, 486487, 346850, 354225, 689125, 775875, 266000, 627375, 501750, 246750, 907762, 466247, 315350, 523250, 489750, 403500, 201843, 528750, 322377, 587725, 274000, 452876, 568750, 605103, 781875, 850622, 485875, 428775, 297487, 273599, 511900, 256612, 397500, 234487, 665750, 598126, 377250, 489750, 1460000, 483750, 346250, 388700, 372125, 309875, 232868, 419762, 561840, 287250, 338875, 393612, 774400, 649850, 400425, 839500, 442500, 356000, 1593250, 462000, 224850, 1410000, 408750, 389425, 325775, 280250, 570375, 320887, 582225, 634750, 349725, 745500, 374812, 470000, 578633, 272750, 791750, 471500, 895000, 356625, 378112, 745500, 1064500, 338750, 303500, 478000, 551875, 470750, 269687, 907000, 818247, 456750, 320362, 386375, 378750, 336000, 585450, 766250, 715737, 688750, 277350, 553375, 543000, 551875, 440800, 479075, 273725, 555750, 215600, 402112, 342650, 492237, 673000, 358112, 391125, 627875, 476237, 488750, 590840, 471000, 436625, 278975, 465533, 328875, 465125, 389600, 678187, 608312, 506000, 553750, 419500, 1237000, 327500, 363500, 3011825, 409250, 292500, 652000, 458000, 667000, 373125, 393850, 621237, 462125, 500237, 367484, 591487, 464237, 490000, 582875, 355612, 601737, 566251, 621611, 535437, 421712, 937250, 712487, 418750, 1513750, 365375, 400250, 387737, 207250, 305625, 445612, 332250, 425875, 337000, 330762, 668500, 484250, 315350, 444125, 464250, 888625, 414625, 560750, 662660, 430037, 883762, 566750, 556237, 402502, 211150, 404975, 301750, 274875, 421987, 320862, 387500, 455487, 339625, 552250, 373125, 229250, 370250, 745000, 201820, 575875, 353337, 403125, 455487, 309237, 329862, 286612, 301250, 320500, 364250, 1641997, 427000, 623250, 784125, 552875, 509750, 384125, 389375, 302612, 507500, 416112, 720750, 568750, 721450, 2505000, 314225, 454975, 410765, 625125, 354175, 666056, 410500, 257000, 529750, 415750, 237500, 216237, 502500, 324962, 428500, 457237, 297000, 524500, 299987, 316125, 367125, 314125, 407750, 501875, 565862, 719750, 509397, 407500, 257500, 392625, 936125, 469875, 625250, 448500, 274125, 193326, 455250, 1307500, 546237, 365737, 757222, 254987, 554375, 1499000, 614590, 606225, 1641997, 543397, 552125, 380000, 396054, 335500, 360375, 462875, 986500, 521250, 271250, 290110, 901250, 294500, 720875, 839875, 509050, 467090, 512250, 267250, 428890, 1135000, 593125, 393500, 915000, 956750, 421000, 1092250, 513312, 385025, 594250, 881075, 329862, 401220, 220500, 542612, 350250, 420250, 453407, 401125, 491237, 341987, 731048, 394225, 458250, 1129000, 516875, 383125, 289725, 385487, 438250, 361112, 589005, 442750, 418805, 1458737, 493575, 776750, 425737, 636750, 564750, 870502, 510737, 625687, 451862, 602500, 360375, 319987, 481350, 372700, 478312, 398525, 621250, 208472, 545250, 286837, 557112, 343800, 571250, 695550, 260950, 345725, 510500, 592750, 544875, 278800, 342362, 396250, 1150625, 852500, 489375, 420875, 739750, 568987, 543737, 834873, 299172, 367125, 233468, 1081437, 233125, 345000, 224125, 581210, 955000, 552500, 260475, 749487, 263000, 342362, 604222, 434737, 422987, 234650, 558750, 272000, 304400, 199737, 581500, 579737, 319954, 370212, 451291, 520375, 832125, 364000, 463750, 673125, 280110, 512500, 932625, 454875, 687500, 234472, 491511, 357237, 709475, 886750, 610060, 425625, 370498, 467350, 298625, 285925, 337750, 495000, 1825000, 419612, 911250, 236500, 518250, 250000, 421750, 303025, 542500, 329000, 588150, 966687, 816250, 865250, 290000, 290250, 323887, 496500, 381750, 485750, 562487, 495612, 579862, 458112, 350375, 940625, 250350, 826187, 511625, 483875, 541875, 385000, 545000, 712500, 366250, 677375, 789375, 1825000, 525062, 337750, 527625, 1204375, 717281, 608750, 683025, 423562, 526000, 352475, 498500, 971500, 1147750, 453750, 454587, 255200, 471533, 334237, 590625, 813250, 860000, 412750, 1415000, 354750, 389750, 429700, 514275, 406987, 272250, 441362, 509031, 504875, 499250, 824775, 451362, 511750, 447500, 477500, 522000, 550250, 715125, 282125, 795000, 307000, 525987, 438275, 224975, 278950, 620000, 533400, 373125, 966000, 609750, 353250, 266225, 1001000, 672473, 342000, 330850, 584750, 480125, 1130331, 303000, 317875, 591393, 559812, 687000, 1146625, 563500, 357485, 807375, 488090, 1024347, 454487, 1293331, 594345, 447500, 802250, 703547, 651000, 561475, 428737, 802750, 848447, 388375, 387375, 790500, 678004, 541500, 563000, 798019, 314100, 1496250, 500100, 446250, 743475, 489000, 408750, 1528750, 325750, 369875, 496487, 829334, 328500, 366425, 1119347, 908250, 529125, 606187, 351750, 871237, 335315, 419987, 487100, 747487, 610125, 284725, 526033, 1332202, 840110, 406247, 570147, 460975, 2150000, 527411, 356062, 635987, 452124, 426970, 968750, 488113, 374000, 1233247, 883747, 430400, 467350, 559948, 457777, 396725, 518712, 709862, 442187, 359373, 438250, 594362, 316372, 615620, 576652, 365899, 490000, 1050750, 513612, 328875, 347750, 1725750, 610125, 396350, 544975, 1012925, 459220, 375225, 739750, 723875, 706237, 921150, 633675, 320625, 418237, 314125, 395250, 439289, 508500, 292950, 308500, 356372, 566637, 417750, 602500, 456162, 652500, 522375, 567500, 1528750, 881000, 276500, 1097622, 391125, 312875, 469725]\n",
      "[489500, 433875, 652750, 476325, 319475, 1080375, 332062, 519987, 456000, 339895, 396054, 466750, 352025, 478050, 1036250, 372475, 617500, 309625, 464500, 470875, 388375, 395250, 804000, 733250, 287425, 627375, 1056876, 496812, 1034227, 499000, 1725750, 1642139, 466737, 373500, 366500, 379750, 297812, 729500, 412475, 277637, 893582, 463000, 296750, 410125, 343500, 511112, 376737, 527500, 352387, 743500, 321000, 279125, 328725, 664500, 579812, 541250, 531000, 316750, 542500, 665000, 286375, 488090, 923125, 294862, 870000, 290750, 313125, 248500, 396625, 426125, 923750, 269750, 657500, 447562, 207125, 278568, 625625, 395000, 902975, 505750, 344675, 721625, 447250, 317237, 303125, 295500, 578750, 636250, 340750, 336250, 609750, 754750, 372750, 270250, 588750, 374157, 272987, 395162, 324837, 455350, 224500, 389837, 667500, 587000, 587875, 623250, 301650, 415625, 359250, 773250, 526000, 316912, 541500, 682625, 485625, 325937, 806250, 668500, 2196000, 458000, 1212488, 452250, 595375, 755250, 306275, 652500, 490000, 464000, 247250, 475950, 378662, 240060, 655750, 372487, 224500, 415500, 306737, 507147, 680500, 387225, 1055250, 290110, 456837, 606525, 646023, 428975, 716500, 319954, 669625, 393487, 395550, 294000, 462172, 551125, 469750, 315625, 233750, 692868, 412362, 531250, 1234750, 425787, 466225, 300625, 261687, 659625, 423225, 466750, 481250, 293750, 431500, 845958, 318750, 361625, 466375, 571687, 528875, 731520, 392250, 377625, 444125, 360487, 411500, 729987, 471887, 672250, 497750, 472737, 560750, 511000, 457500, 818750, 579612, 434847, 428575, 706875, 429500, 570000, 285687, 489162, 626375, 969250, 739750, 407650, 300500, 1188250, 585450, 442987, 403800, 596562, 339462, 488250, 362362, 320625, 344125, 516750, 667125, 316437, 434750, 355375, 473762, 304625, 318622, 301056, 1016625, 282750, 720750, 960750, 278125, 561225, 509114, 437125, 381725, 796000, 480750, 485376, 617625, 566500, 1173250, 598000, 367500, 441250, 535000, 471737, 210875, 186987, 316750, 571250, 973872, 448000, 403975, 1190000, 440650, 402500, 448987, 800500, 389875, 309875, 397250, 258862, 323749, 578750, 261237, 2210000, 742500, 479525, 268375, 491125, 660625, 531125, 344662, 437500, 263250, 376331, 419725, 336800, 489825, 331975, 842500, 480625, 418748, 730000, 948125, 696625, 342112, 1206250, 208750, 351250, 316500, 392750, 1297001, 524500, 745500, 237000, 459500, 415300, 1187488, 449750, 396487, 335250, 1285750, 527625, 444737, 501237, 416725, 650350, 644500, 908475, 365125, 324875, 1675000, 411250, 194562, 453725, 240625, 417475, 324237, 418250, 438750, 579250, 287500, 600000, 579250, 434443, 770722, 826500, 270875, 1273250, 594750, 717250, 604625, 468312, 717750, 417500, 420225, 644120, 272112, 273900, 292125, 594362, 681250, 268250, 609612, 657125, 426487, 443612, 759000, 431987, 801750, 417500, 342737, 393450, 568750, 462500, 363987, 1031250, 257487, 379750, 251750, 540250, 302475, 324737, 345350, 679962, 267000, 361600, 580625, 441987, 355875, 301025, 220987, 318916, 354787, 652625, 1011875, 309437, 199250, 411675, 515125, 1513247, 357487, 542500, 607625, 285250, 847462, 498125, 585500, 827225, 628750, 1638750, 1330750, 221737, 600120, 438875, 432250, 285000, 866262, 279250, 493750, 275625, 1798462, 259000, 3011825, 238125, 486750, 660000, 414237, 1072125, 856100, 696237, 355000, 363750, 324125, 439600, 560340, 287174, 996250, 317055, 947125, 710000, 429500, 280875, 387375, 503737, 401375, 309000, 478750, 533562, 453000, 584500, 571750, 331375, 548562, 396125, 1122950, 1002171, 323750, 594112, 1058156, 1575750, 271375, 524125, 260250, 351750, 504250, 363750, 407125, 316250, 502687, 434487, 570312, 443250, 322124, 649562, 335000, 429500, 253700, 593125, 354414, 458000, 383250, 298862, 674312, 554750, 434400, 551362, 538375, 821225, 481725, 634737, 426679, 377596, 414750, 240875, 327250, 481487, 578125, 349000, 913562, 506825, 454975, 708125, 562500, 450612, 501125, 367487, 1138750, 470000, 674312, 386375, 486000, 609375, 736250, 733675, 808250, 580125, 392500, 298662, 459000, 278987, 567375, 628748, 566250, 383237, 606250, 916500, 513500, 547487, 545225, 1033750, 438250, 591750, 298025, 408487, 603362, 605750, 256237, 354550, 215600, 733500, 402608, 442487, 851389, 221625, 438000, 546237, 373487, 393752, 587000, 1909125, 459625, 188362, 623000, 887500, 488500, 853750, 1328375, 586125, 349250, 269750, 513625, 360487, 436375, 424925, 471750, 278975, 541500, 518376, 443250, 641000, 413375, 561575, 441500, 300500, 892875, 208250, 641298, 452100, 387500, 196500, 358500, 363112, 861850, 353425, 488500, 537000, 346000, 960875, 421250, 604950, 433500, 552875, 365250, 650625, 320750, 544250, 950250, 254750, 603500, 471000, 359125, 492000, 412500, 472375, 351000, 644806, 577625, 1067750, 827250, 337664, 679875, 688812, 402125, 563000, 263250, 395487, 308000, 526750, 322225, 899875, 617147, 222142, 608500, 391375, 329375, 522375, 1209487, 266875, 460500, 287225, 395487, 809750, 324237, 644337, 309875, 361249, 394225, 439500, 334750, 365250, 840500, 912639, 759987, 489500, 345000, 515250, 370237, 543931, 550750, 862000, 333687, 484265, 317487, 331000, 1360525, 329250, 503060, 285487, 417862, 623750, 852000, 524125, 430750, 323500, 637500, 544000, 919497, 376875, 572237, 259237, 540625, 298100, 465533, 867125, 490250, 445000, 583500, 351375, 380100, 1123500, 413312, 494875, 316750, 470750, 611250, 350000, 537237, 533125, 322377, 608250, 597312, 284750, 856262, 324237, 472750, 459275, 387750, 187543, 456250, 764156, 582487, 314625, 512476, 520000, 315750, 376575, 402237, 184085, 395237, 275625, 599962, 299975, 453407, 332000, 461500, 876250, 255375, 988000, 514775, 445987, 251500, 688281, 432250, 360000, 416112, 1422000, 736250, 543397, 371250, 425862, 502621, 464250, 312875, 422398, 479625, 430812, 1663737, 511250, 598250, 472000, 624625, 454737, 1107250, 358750, 353575, 391125, 407750, 659912, 691000, 1278987, 581250, 487250, 387250, 355624, 524375, 400650, 596625, 337250, 537250, 996750, 323375, 537250, 323500, 416112, 530750, 502500, 241500, 502750, 366875, 456000, 541250, 397475, 433093, 401000, 335375, 247737, 377211, 537500, 384750, 502375, 267500, 278750, 285000, 439500, 537487, 498625, 713250, 475250, 406500, 319250, 358625, 856375, 709000, 1141389, 462487, 600625, 441375, 331875, 555149, 262850, 778750, 344225, 750500, 570237, 300125, 518875, 367500, 540500, 358112, 338925, 181750, 398625, 209100, 567500, 410037, 486487, 346850, 354225, 689125, 775875, 266000, 627375, 501750, 246750, 907762, 466247, 315350, 523250, 489750, 403500, 201843, 528750, 322377, 587725, 274000, 452876, 568750, 605103, 781875, 850622, 485875, 428775, 297487, 273599, 511900, 256612, 397500, 234487, 665750, 598126, 377250, 489750, 1460000, 483750, 346250, 388700, 372125, 309875, 232868, 419762, 561840, 287250, 338875, 393612, 774400, 649850, 400425, 839500, 442500, 356000, 1593250, 462000, 224850, 1410000, 408750, 389425, 325775, 280250, 570375, 320887, 582225, 634750, 349725, 745500, 374812, 470000, 578633, 272750, 791750, 471500, 895000, 356625, 378112, 745500, 1064500, 338750, 303500, 478000, 551875, 470750, 269687, 907000, 818247, 456750, 320362, 386375, 378750, 336000, 585450, 766250, 715737, 688750, 277350, 553375, 543000, 551875, 440800, 479075, 273725, 555750, 215600, 402112, 342650, 492237, 673000, 358112, 391125, 627875, 476237, 488750, 590840, 471000, 436625, 278975, 465533, 328875, 465125, 389600, 678187, 608312, 506000, 553750, 419500, 1237000, 327500, 363500, 3011825, 409250, 292500, 652000, 458000, 667000, 373125, 393850, 621237, 462125, 500237, 367484, 591487, 464237, 490000, 582875, 355612, 601737, 566251, 621611, 535437, 421712, 937250, 712487, 418750, 1513750, 365375, 400250, 387737, 207250, 305625, 445612, 332250, 425875, 337000, 330762, 668500, 484250, 315350, 444125, 464250, 888625, 414625, 560750, 662660, 430037, 883762, 566750, 556237, 402502, 211150, 404975, 301750, 274875, 421987, 320862, 387500, 455487, 339625, 552250, 373125, 229250, 370250, 745000, 201820, 575875, 353337, 403125, 455487, 309237, 329862, 286612, 301250, 320500, 364250, 1641997, 427000, 623250, 784125, 552875, 509750, 384125, 389375, 302612, 507500, 416112, 720750, 568750, 721450, 2505000, 314225, 454975, 410765, 625125, 354175, 666056, 410500, 257000, 529750, 415750, 237500, 216237, 502500, 324962, 428500, 457237, 297000, 524500, 299987, 316125, 367125, 314125, 407750, 501875, 565862, 719750, 509397, 407500, 257500, 392625, 936125, 469875, 625250, 448500, 274125, 193326, 455250, 1307500, 546237, 365737, 757222, 254987, 554375, 1499000, 614590, 606225, 1641997, 543397, 552125, 380000, 396054, 335500, 360375, 462875, 986500, 521250, 271250, 290110, 901250, 294500, 720875, 839875, 509050, 467090, 512250, 267250, 428890, 1135000, 593125, 393500, 915000, 956750, 421000, 1092250, 513312, 385025, 594250, 881075, 329862, 401220, 220500, 542612, 350250, 420250, 453407, 401125, 491237, 341987, 731048, 394225, 458250, 1129000, 516875, 383125, 289725, 385487, 438250, 361112, 589005, 442750, 418805, 1458737, 493575, 776750, 425737, 636750, 564750, 870502, 510737, 625687, 451862, 602500, 360375, 319987, 481350, 372700, 478312, 398525, 621250, 208472, 545250, 286837, 557112, 343800, 571250, 695550, 260950, 345725, 510500, 592750, 544875, 278800, 342362, 396250, 1150625, 852500, 489375, 420875, 739750, 568987, 543737, 834873, 299172, 367125, 233468, 1081437, 233125, 345000, 224125, 581210, 955000, 552500, 260475, 749487, 263000, 342362, 604222, 434737, 422987, 234650, 558750, 272000, 304400, 199737, 581500, 579737, 319954, 370212, 451291, 520375, 832125, 364000, 463750, 673125, 280110, 512500, 932625, 454875, 687500, 234472, 491511, 357237, 709475, 886750, 610060, 425625, 370498, 467350, 298625, 285925, 337750, 495000, 1825000, 419612, 911250, 236500, 518250, 250000, 421750, 303025, 542500, 329000, 588150, 966687, 816250, 865250, 290000, 290250, 323887, 496500, 381750, 485750, 562487, 495612, 579862, 458112, 350375, 940625, 250350, 826187, 511625, 483875, 541875, 385000, 545000, 712500, 366250, 677375, 789375, 1825000, 525062, 337750, 527625, 1204375, 717281, 608750, 683025, 423562, 526000, 352475, 498500, 971500, 1147750, 453750, 454587, 255200, 471533, 334237, 590625, 813250, 860000, 412750, 1415000, 354750, 389750, 429700, 514275, 406987, 272250, 441362, 509031, 504875, 499250, 824775, 451362, 511750, 447500, 477500, 522000, 550250, 715125, 282125, 795000, 307000, 525987, 438275, 224975, 278950, 620000, 533400, 373125, 966000, 609750, 353250, 266225, 1001000, 672473, 342000, 330850, 584750, 480125, 1130331, 303000, 317875, 591393, 559812, 687000, 1146625, 563500, 357485, 807375, 488090, 1024347, 454487, 1293331, 594345, 447500, 802250, 703547, 651000, 561475, 428737, 802750, 848447, 388375, 387375, 790500, 678004, 541500, 563000, 798019, 314100, 1496250, 500100, 446250, 743475, 489000, 408750, 1528750, 325750, 369875, 496487, 829334, 328500, 366425, 1119347, 908250, 529125, 606187, 351750, 871237, 335315, 419987, 487100, 747487, 610125, 284725, 526033, 1332202, 840110, 406247, 570147, 460975, 2150000, 527411, 356062, 635987, 452124, 426970, 968750, 488113, 374000, 1233247, 883747, 430400, 467350, 559948, 457777, 396725, 518712, 709862, 442187, 359373, 438250, 594362, 316372, 615620, 576652, 365899, 490000, 1050750, 513612, 328875, 347750, 1725750, 610125, 396350, 544975, 1012925, 459220, 375225, 739750, 723875, 706237, 921150, 633675, 320625, 418237, 314125, 395250, 439289, 508500, 292950, 308500, 356372, 566637, 417750, 602500, 456162, 652500, 522375, 567500, 1528750, 881000, 276500, 1097622, 391125, 312875, 469725]\n",
      "[489500, 433875, 652750, 476325, 319475, 1080375, 332062, 519987, 456000, 339895, 396054, 466750, 352025, 478050, 1036250, 372475, 617500, 309625, 464500, 470875, 388375, 395250, 804000, 733250, 287425, 627375, 1056876, 496812, 1034227, 499000, 1725750, 1642139, 466737, 373500, 366500, 379750, 297812, 729500, 412475, 277637, 893582, 463000, 296750, 410125, 343500, 511112, 376737, 527500, 352387, 743500, 321000, 279125, 328725, 664500, 579812, 541250, 531000, 316750, 542500, 665000, 286375, 488090, 923125, 294862, 870000, 290750, 313125, 248500, 396625, 426125, 923750, 269750, 657500, 447562, 207125, 278568, 625625, 395000, 902975, 505750, 344675, 721625, 447250, 317237, 303125, 295500, 578750, 636250, 340750, 336250, 609750, 754750, 372750, 270250, 588750, 374157, 272987, 395162, 324837, 455350, 224500, 389837, 667500, 587000, 587875, 623250, 301650, 415625, 359250, 773250, 526000, 316912, 541500, 682625, 485625, 325937, 806250, 668500, 2196000, 458000, 1212488, 452250, 595375, 755250, 306275, 652500, 490000, 464000, 247250, 475950, 378662, 240060, 655750, 372487, 224500, 415500, 306737, 507147, 680500, 387225, 1055250, 290110, 456837, 606525, 646023, 428975, 716500, 319954, 669625, 393487, 395550, 294000, 462172, 551125, 469750, 315625, 233750, 692868, 412362, 531250, 1234750, 425787, 466225, 300625, 261687, 659625, 423225, 466750, 481250, 293750, 431500, 845958, 318750, 361625, 466375, 571687, 528875, 731520, 392250, 377625, 444125, 360487, 411500, 729987, 471887, 672250, 497750, 472737, 560750, 511000, 457500, 818750, 579612, 434847, 428575, 706875, 429500, 570000, 285687, 489162, 626375, 969250, 739750, 407650, 300500, 1188250, 585450, 442987, 403800, 596562, 339462, 488250, 362362, 320625, 344125, 516750, 667125, 316437, 434750, 355375, 473762, 304625, 318622, 301056, 1016625, 282750, 720750, 960750, 278125, 561225, 509114, 437125, 381725, 796000, 480750, 485376, 617625, 566500, 1173250, 598000, 367500, 441250, 535000, 471737, 210875, 186987, 316750, 571250, 973872, 448000, 403975, 1190000, 440650, 402500, 448987, 800500, 389875, 309875, 397250, 258862, 323749, 578750, 261237, 2210000, 742500, 479525, 268375, 491125, 660625, 531125, 344662, 437500, 263250, 376331, 419725, 336800, 489825, 331975, 842500, 480625, 418748, 730000, 948125, 696625, 342112, 1206250, 208750, 351250, 316500, 392750, 1297001, 524500, 745500, 237000, 459500, 415300, 1187488, 449750, 396487, 335250, 1285750, 527625, 444737, 501237, 416725, 650350, 644500, 908475, 365125, 324875, 1675000, 411250, 194562, 453725, 240625, 417475, 324237, 418250, 438750, 579250, 287500, 600000, 579250, 434443, 770722, 826500, 270875, 1273250, 594750, 717250, 604625, 468312, 717750, 417500, 420225, 644120, 272112, 273900, 292125, 594362, 681250, 268250, 609612, 657125, 426487, 443612, 759000, 431987, 801750, 417500, 342737, 393450, 568750, 462500, 363987, 1031250, 257487, 379750, 251750, 540250, 302475, 324737, 345350, 679962, 267000, 361600, 580625, 441987, 355875, 301025, 220987, 318916, 354787, 652625, 1011875, 309437, 199250, 411675, 515125, 1513247, 357487, 542500, 607625, 285250, 847462, 498125, 585500, 827225, 628750, 1638750, 1330750, 221737, 600120, 438875, 432250, 285000, 866262, 279250, 493750, 275625, 1798462, 259000, 3011825, 238125, 486750, 660000, 414237, 1072125, 856100, 696237, 355000, 363750, 324125, 439600, 560340, 287174, 996250, 317055, 947125, 710000, 429500, 280875, 387375, 503737, 401375, 309000, 478750, 533562, 453000, 584500, 571750, 331375, 548562, 396125, 1122950, 1002171, 323750, 594112, 1058156, 1575750, 271375, 524125, 260250, 351750, 504250, 363750, 407125, 316250, 502687, 434487, 570312, 443250, 322124, 649562, 335000, 429500, 253700, 593125, 354414, 458000, 383250, 298862, 674312, 554750, 434400, 551362, 538375, 821225, 481725, 634737, 426679, 377596, 414750, 240875, 327250, 481487, 578125, 349000, 913562, 506825, 454975, 708125, 562500, 450612, 501125, 367487, 1138750, 470000, 674312, 386375, 486000, 609375, 736250, 733675, 808250, 580125, 392500, 298662, 459000, 278987, 567375, 628748, 566250, 383237, 606250, 916500, 513500, 547487, 545225, 1033750, 438250, 591750, 298025, 408487, 603362, 605750, 256237, 354550, 215600, 733500, 402608, 442487, 851389, 221625, 438000, 546237, 373487, 393752, 587000, 1909125, 459625, 188362, 623000, 887500, 488500, 853750, 1328375, 586125, 349250, 269750, 513625, 360487, 436375, 424925, 471750, 278975, 541500, 518376, 443250, 641000, 413375, 561575, 441500, 300500, 892875, 208250, 641298, 452100, 387500, 196500, 358500, 363112, 861850, 353425, 488500, 537000, 346000, 960875, 421250, 604950, 433500, 552875, 365250, 650625, 320750, 544250, 950250, 254750, 603500, 471000, 359125, 492000, 412500, 472375, 351000, 644806, 577625, 1067750, 827250, 337664, 679875, 688812, 402125, 563000, 263250, 395487, 308000, 526750, 322225, 899875, 617147, 222142, 608500, 391375, 329375, 522375, 1209487, 266875, 460500, 287225, 395487, 809750, 324237, 644337, 309875, 361249, 394225, 439500, 334750, 365250, 840500, 912639, 759987, 489500, 345000, 515250, 370237, 543931, 550750, 862000, 333687, 484265, 317487, 331000, 1360525, 329250, 503060, 285487, 417862, 623750, 852000, 524125, 430750, 323500, 637500, 544000, 919497, 376875, 572237, 259237, 540625, 298100, 465533, 867125, 490250, 445000, 583500, 351375, 380100, 1123500, 413312, 494875, 316750, 470750, 611250, 350000, 537237, 533125, 322377, 608250, 597312, 284750, 856262, 324237, 472750, 459275, 387750, 187543, 456250, 764156, 582487, 314625, 512476, 520000, 315750, 376575, 402237, 184085, 395237, 275625, 599962, 299975, 453407, 332000, 461500, 876250, 255375, 988000, 514775, 445987, 251500, 688281, 432250, 360000, 416112, 1422000, 736250, 543397, 371250, 425862, 502621, 464250, 312875, 422398, 479625, 430812, 1663737, 511250, 598250, 472000, 624625, 454737, 1107250, 358750, 353575, 391125, 407750, 659912, 691000, 1278987, 581250, 487250, 387250, 355624, 524375, 400650, 596625, 337250, 537250, 996750, 323375, 537250, 323500, 416112, 530750, 502500, 241500, 502750, 366875, 456000, 541250, 397475, 433093, 401000, 335375, 247737, 377211, 537500, 384750, 502375, 267500, 278750, 285000, 439500, 537487, 498625, 713250, 475250, 406500, 319250, 358625, 856375, 709000, 1141389, 462487, 600625, 441375, 331875, 555149, 262850, 778750, 344225, 750500, 570237, 300125, 518875, 367500, 540500, 358112, 338925, 181750, 398625, 209100, 567500, 410037, 486487, 346850, 354225, 689125, 775875, 266000, 627375, 501750, 246750, 907762, 466247, 315350, 523250, 489750, 403500, 201843, 528750, 322377, 587725, 274000, 452876, 568750, 605103, 781875, 850622, 485875, 428775, 297487, 273599, 511900, 256612, 397500, 234487, 665750, 598126, 377250, 489750, 1460000, 483750, 346250, 388700, 372125, 309875, 232868, 419762, 561840, 287250, 338875, 393612, 774400, 649850, 400425, 839500, 442500, 356000, 1593250, 462000, 224850, 1410000, 408750, 389425, 325775, 280250, 570375, 320887, 582225, 634750, 349725, 745500, 374812, 470000, 578633, 272750, 791750, 471500, 895000, 356625, 378112, 745500, 1064500, 338750, 303500, 478000, 551875, 470750, 269687, 907000, 818247, 456750, 320362, 386375, 378750, 336000, 585450, 766250, 715737, 688750, 277350, 553375, 543000, 551875, 440800, 479075, 273725, 555750, 215600, 402112, 342650, 492237, 673000, 358112, 391125, 627875, 476237, 488750, 590840, 471000, 436625, 278975, 465533, 328875, 465125, 389600, 678187, 608312, 506000, 553750, 419500, 1237000, 327500, 363500, 3011825, 409250, 292500, 652000, 458000, 667000, 373125, 393850, 621237, 462125, 500237, 367484, 591487, 464237, 490000, 582875, 355612, 601737, 566251, 621611, 535437, 421712, 937250, 712487, 418750, 1513750, 365375, 400250, 387737, 207250, 305625, 445612, 332250, 425875, 337000, 330762, 668500, 484250, 315350, 444125, 464250, 888625, 414625, 560750, 662660, 430037, 883762, 566750, 556237, 402502, 211150, 404975, 301750, 274875, 421987, 320862, 387500, 455487, 339625, 552250, 373125, 229250, 370250, 745000, 201820, 575875, 353337, 403125, 455487, 309237, 329862, 286612, 301250, 320500, 364250, 1641997, 427000, 623250, 784125, 552875, 509750, 384125, 389375, 302612, 507500, 416112, 720750, 568750, 721450, 2505000, 314225, 454975, 410765, 625125, 354175, 666056, 410500, 257000, 529750, 415750, 237500, 216237, 502500, 324962, 428500, 457237, 297000, 524500, 299987, 316125, 367125, 314125, 407750, 501875, 565862, 719750, 509397, 407500, 257500, 392625, 936125, 469875, 625250, 448500, 274125, 193326, 455250, 1307500, 546237, 365737, 757222, 254987, 554375, 1499000, 614590, 606225, 1641997, 543397, 552125, 380000, 396054, 335500, 360375, 462875, 986500, 521250, 271250, 290110, 901250, 294500, 720875, 839875, 509050, 467090, 512250, 267250, 428890, 1135000, 593125, 393500, 915000, 956750, 421000, 1092250, 513312, 385025, 594250, 881075, 329862, 401220, 220500, 542612, 350250, 420250, 453407, 401125, 491237, 341987, 731048, 394225, 458250, 1129000, 516875, 383125, 289725, 385487, 438250, 361112, 589005, 442750, 418805, 1458737, 493575, 776750, 425737, 636750, 564750, 870502, 510737, 625687, 451862, 602500, 360375, 319987, 481350, 372700, 478312, 398525, 621250, 208472, 545250, 286837, 557112, 343800, 571250, 695550, 260950, 345725, 510500, 592750, 544875, 278800, 342362, 396250, 1150625, 852500, 489375, 420875, 739750, 568987, 543737, 834873, 299172, 367125, 233468, 1081437, 233125, 345000, 224125, 581210, 955000, 552500, 260475, 749487, 263000, 342362, 604222, 434737, 422987, 234650, 558750, 272000, 304400, 199737, 581500, 579737, 319954, 370212, 451291, 520375, 832125, 364000, 463750, 673125, 280110, 512500, 932625, 454875, 687500, 234472, 491511, 357237, 709475, 886750, 610060, 425625, 370498, 467350, 298625, 285925, 337750, 495000, 1825000, 419612, 911250, 236500, 518250, 250000, 421750, 303025, 542500, 329000, 588150, 966687, 816250, 865250, 290000, 290250, 323887, 496500, 381750, 485750, 562487, 495612, 579862, 458112, 350375, 940625, 250350, 826187, 511625, 483875, 541875, 385000, 545000, 712500, 366250, 677375, 789375, 1825000, 525062, 337750, 527625, 1204375, 717281, 608750, 683025, 423562, 526000, 352475, 498500, 971500, 1147750, 453750, 454587, 255200, 471533, 334237, 590625, 813250, 860000, 412750, 1415000, 354750, 389750, 429700, 514275, 406987, 272250, 441362, 509031, 504875, 499250, 824775, 451362, 511750, 447500, 477500, 522000, 550250, 715125, 282125, 795000, 307000, 525987, 438275, 224975, 278950, 620000, 533400, 373125, 966000, 609750, 353250, 266225, 1001000, 672473, 342000, 330850, 584750, 480125, 1130331, 303000, 317875, 591393, 559812, 687000, 1146625, 563500, 357485, 807375, 488090, 1024347, 454487, 1293331, 594345, 447500, 802250, 703547, 651000, 561475, 428737, 802750, 848447, 388375, 387375, 790500, 678004, 541500, 563000, 798019, 314100, 1496250, 500100, 446250, 743475, 489000, 408750, 1528750, 325750, 369875, 496487, 829334, 328500, 366425, 1119347, 908250, 529125, 606187, 351750, 871237, 335315, 419987, 487100, 747487, 610125, 284725, 526033, 1332202, 840110, 406247, 570147, 460975, 2150000, 527411, 356062, 635987, 452124, 426970, 968750, 488113, 374000, 1233247, 883747, 430400, 467350, 559948, 457777, 396725, 518712, 709862, 442187, 359373, 438250, 594362, 316372, 615620, 576652, 365899, 490000, 1050750, 513612, 328875, 347750, 1725750, 610125, 396350, 544975, 1012925, 459220, 375225, 739750, 723875, 706237, 921150, 633675, 320625, 418237, 314125, 395250, 439289, 508500, 292950, 308500, 356372, 566637, 417750, 602500, 456162, 652500, 522375, 567500, 1528750, 881000, 276500, 1097622, 391125, 312875, 469725]\n",
      "[489500, 433875, 652750, 476325, 319475, 1080375, 332062, 519987, 456000, 339895, 396054, 466750, 352025, 478050, 1036250, 372475, 617500, 309625, 464500, 470875, 388375, 395250, 804000, 733250, 287425, 627375, 1056876, 496812, 1034227, 499000, 1725750, 1642139, 466737, 373500, 366500, 379750, 297812, 729500, 412475, 277637, 893582, 463000, 296750, 410125, 343500, 511112, 376737, 527500, 352387, 743500, 321000, 279125, 328725, 664500, 579812, 541250, 531000, 316750, 542500, 665000, 286375, 488090, 923125, 294862, 870000, 290750, 313125, 248500, 396625, 426125, 923750, 269750, 657500, 447562, 207125, 278568, 625625, 395000, 902975, 505750, 344675, 721625, 447250, 317237, 303125, 295500, 578750, 636250, 340750, 336250, 609750, 754750, 372750, 270250, 588750, 374157, 272987, 395162, 324837, 455350, 224500, 389837, 667500, 587000, 587875, 623250, 301650, 415625, 359250, 773250, 526000, 316912, 541500, 682625, 485625, 325937, 806250, 668500, 2196000, 458000, 1212488, 452250, 595375, 755250, 306275, 652500, 490000, 464000, 247250, 475950, 378662, 240060, 655750, 372487, 224500, 415500, 306737, 507147, 680500, 387225, 1055250, 290110, 456837, 606525, 646023, 428975, 716500, 319954, 669625, 393487, 395550, 294000, 462172, 551125, 469750, 315625, 233750, 692868, 412362, 531250, 1234750, 425787, 466225, 300625, 261687, 659625, 423225, 466750, 481250, 293750, 431500, 845958, 318750, 361625, 466375, 571687, 528875, 731520, 392250, 377625, 444125, 360487, 411500, 729987, 471887, 672250, 497750, 472737, 560750, 511000, 457500, 818750, 579612, 434847, 428575, 706875, 429500, 570000, 285687, 489162, 626375, 969250, 739750, 407650, 300500, 1188250, 585450, 442987, 403800, 596562, 339462, 488250, 362362, 320625, 344125, 516750, 667125, 316437, 434750, 355375, 473762, 304625, 318622, 301056, 1016625, 282750, 720750, 960750, 278125, 561225, 509114, 437125, 381725, 796000, 480750, 485376, 617625, 566500, 1173250, 598000, 367500, 441250, 535000, 471737, 210875, 186987, 316750, 571250, 973872, 448000, 403975, 1190000, 440650, 402500, 448987, 800500, 389875, 309875, 397250, 258862, 323749, 578750, 261237, 2210000, 742500, 479525, 268375, 491125, 660625, 531125, 344662, 437500, 263250, 376331, 419725, 336800, 489825, 331975, 842500, 480625, 418748, 730000, 948125, 696625, 342112, 1206250, 208750, 351250, 316500, 392750, 1297001, 524500, 745500, 237000, 459500, 415300, 1187488, 449750, 396487, 335250, 1285750, 527625, 444737, 501237, 416725, 650350, 644500, 908475, 365125, 324875, 1675000, 411250, 194562, 453725, 240625, 417475, 324237, 418250, 438750, 579250, 287500, 600000, 579250, 434443, 770722, 826500, 270875, 1273250, 594750, 717250, 604625, 468312, 717750, 417500, 420225, 644120, 272112, 273900, 292125, 594362, 681250, 268250, 609612, 657125, 426487, 443612, 759000, 431987, 801750, 417500, 342737, 393450, 568750, 462500, 363987, 1031250, 257487, 379750, 251750, 540250, 302475, 324737, 345350, 679962, 267000, 361600, 580625, 441987, 355875, 301025, 220987, 318916, 354787, 652625, 1011875, 309437, 199250, 411675, 515125, 1513247, 357487, 542500, 607625, 285250, 847462, 498125, 585500, 827225, 628750, 1638750, 1330750, 221737, 600120, 438875, 432250, 285000, 866262, 279250, 493750, 275625, 1798462, 259000, 3011825, 238125, 486750, 660000, 414237, 1072125, 856100, 696237, 355000, 363750, 324125, 439600, 560340, 287174, 996250, 317055, 947125, 710000, 429500, 280875, 387375, 503737, 401375, 309000, 478750, 533562, 453000, 584500, 571750, 331375, 548562, 396125, 1122950, 1002171, 323750, 594112, 1058156, 1575750, 271375, 524125, 260250, 351750, 504250, 363750, 407125, 316250, 502687, 434487, 570312, 443250, 322124, 649562, 335000, 429500, 253700, 593125, 354414, 458000, 383250, 298862, 674312, 554750, 434400, 551362, 538375, 821225, 481725, 634737, 426679, 377596, 414750, 240875, 327250, 481487, 578125, 349000, 913562, 506825, 454975, 708125, 562500, 450612, 501125, 367487, 1138750, 470000, 674312, 386375, 486000, 609375, 736250, 733675, 808250, 580125, 392500, 298662, 459000, 278987, 567375, 628748, 566250, 383237, 606250, 916500, 513500, 547487, 545225, 1033750, 438250, 591750, 298025, 408487, 603362, 605750, 256237, 354550, 215600, 733500, 402608, 442487, 851389, 221625, 438000, 546237, 373487, 393752, 587000, 1909125, 459625, 188362, 623000, 887500, 488500, 853750, 1328375, 586125, 349250, 269750, 513625, 360487, 436375, 424925, 471750, 278975, 541500, 518376, 443250, 641000, 413375, 561575, 441500, 300500, 892875, 208250, 641298, 452100, 387500, 196500, 358500, 363112, 861850, 353425, 488500, 537000, 346000, 960875, 421250, 604950, 433500, 552875, 365250, 650625, 320750, 544250, 950250, 254750, 603500, 471000, 359125, 492000, 412500, 472375, 351000, 644806, 577625, 1067750, 827250, 337664, 679875, 688812, 402125, 563000, 263250, 395487, 308000, 526750, 322225, 899875, 617147, 222142, 608500, 391375, 329375, 522375, 1209487, 266875, 460500, 287225, 395487, 809750, 324237, 644337, 309875, 361249, 394225, 439500, 334750, 365250, 840500, 912639, 759987, 489500, 345000, 515250, 370237, 543931, 550750, 862000, 333687, 484265, 317487, 331000, 1360525, 329250, 503060, 285487, 417862, 623750, 852000, 524125, 430750, 323500, 637500, 544000, 919497, 376875, 572237, 259237, 540625, 298100, 465533, 867125, 490250, 445000, 583500, 351375, 380100, 1123500, 413312, 494875, 316750, 470750, 611250, 350000, 537237, 533125, 322377, 608250, 597312, 284750, 856262, 324237, 472750, 459275, 387750, 187543, 456250, 764156, 582487, 314625, 512476, 520000, 315750, 376575, 402237, 184085, 395237, 275625, 599962, 299975, 453407, 332000, 461500, 876250, 255375, 988000, 514775, 445987, 251500, 688281, 432250, 360000, 416112, 1422000, 736250, 543397, 371250, 425862, 502621, 464250, 312875, 422398, 479625, 430812, 1663737, 511250, 598250, 472000, 624625, 454737, 1107250, 358750, 353575, 391125, 407750, 659912, 691000, 1278987, 581250, 487250, 387250, 355624, 524375, 400650, 596625, 337250, 537250, 996750, 323375, 537250, 323500, 416112, 530750, 502500, 241500, 502750, 366875, 456000, 541250, 397475, 433093, 401000, 335375, 247737, 377211, 537500, 384750, 502375, 267500, 278750, 285000, 439500, 537487, 498625, 713250, 475250, 406500, 319250, 358625, 856375, 709000, 1141389, 462487, 600625, 441375, 331875, 555149, 262850, 778750, 344225, 750500, 570237, 300125, 518875, 367500, 540500, 358112, 338925, 181750, 398625, 209100, 567500, 410037, 486487, 346850, 354225, 689125, 775875, 266000, 627375, 501750, 246750, 907762, 466247, 315350, 523250, 489750, 403500, 201843, 528750, 322377, 587725, 274000, 452876, 568750, 605103, 781875, 850622, 485875, 428775, 297487, 273599, 511900, 256612, 397500, 234487, 665750, 598126, 377250, 489750, 1460000, 483750, 346250, 388700, 372125, 309875, 232868, 419762, 561840, 287250, 338875, 393612, 774400, 649850, 400425, 839500, 442500, 356000, 1593250, 462000, 224850, 1410000, 408750, 389425, 325775, 280250, 570375, 320887, 582225, 634750, 349725, 745500, 374812, 470000, 578633, 272750, 791750, 471500, 895000, 356625, 378112, 745500, 1064500, 338750, 303500, 478000, 551875, 470750, 269687, 907000, 818247, 456750, 320362, 386375, 378750, 336000, 585450, 766250, 715737, 688750, 277350, 553375, 543000, 551875, 440800, 479075, 273725, 555750, 215600, 402112, 342650, 492237, 673000, 358112, 391125, 627875, 476237, 488750, 590840, 471000, 436625, 278975, 465533, 328875, 465125, 389600, 678187, 608312, 506000, 553750, 419500, 1237000, 327500, 363500, 3011825, 409250, 292500, 652000, 458000, 667000, 373125, 393850, 621237, 462125, 500237, 367484, 591487, 464237, 490000, 582875, 355612, 601737, 566251, 621611, 535437, 421712, 937250, 712487, 418750, 1513750, 365375, 400250, 387737, 207250, 305625, 445612, 332250, 425875, 337000, 330762, 668500, 484250, 315350, 444125, 464250, 888625, 414625, 560750, 662660, 430037, 883762, 566750, 556237, 402502, 211150, 404975, 301750, 274875, 421987, 320862, 387500, 455487, 339625, 552250, 373125, 229250, 370250, 745000, 201820, 575875, 353337, 403125, 455487, 309237, 329862, 286612, 301250, 320500, 364250, 1641997, 427000, 623250, 784125, 552875, 509750, 384125, 389375, 302612, 507500, 416112, 720750, 568750, 721450, 2505000, 314225, 454975, 410765, 625125, 354175, 666056, 410500, 257000, 529750, 415750, 237500, 216237, 502500, 324962, 428500, 457237, 297000, 524500, 299987, 316125, 367125, 314125, 407750, 501875, 565862, 719750, 509397, 407500, 257500, 392625, 936125, 469875, 625250, 448500, 274125, 193326, 455250, 1307500, 546237, 365737, 757222, 254987, 554375, 1499000, 614590, 606225, 1641997, 543397, 552125, 380000, 396054, 335500, 360375, 462875, 986500, 521250, 271250, 290110, 901250, 294500, 720875, 839875, 509050, 467090, 512250, 267250, 428890, 1135000, 593125, 393500, 915000, 956750, 421000, 1092250, 513312, 385025, 594250, 881075, 329862, 401220, 220500, 542612, 350250, 420250, 453407, 401125, 491237, 341987, 731048, 394225, 458250, 1129000, 516875, 383125, 289725, 385487, 438250, 361112, 589005, 442750, 418805, 1458737, 493575, 776750, 425737, 636750, 564750, 870502, 510737, 625687, 451862, 602500, 360375, 319987, 481350, 372700, 478312, 398525, 621250, 208472, 545250, 286837, 557112, 343800, 571250, 695550, 260950, 345725, 510500, 592750, 544875, 278800, 342362, 396250, 1150625, 852500, 489375, 420875, 739750, 568987, 543737, 834873, 299172, 367125, 233468, 1081437, 233125, 345000, 224125, 581210, 955000, 552500, 260475, 749487, 263000, 342362, 604222, 434737, 422987, 234650, 558750, 272000, 304400, 199737, 581500, 579737, 319954, 370212, 451291, 520375, 832125, 364000, 463750, 673125, 280110, 512500, 932625, 454875, 687500, 234472, 491511, 357237, 709475, 886750, 610060, 425625, 370498, 467350, 298625, 285925, 337750, 495000, 1825000, 419612, 911250, 236500, 518250, 250000, 421750, 303025, 542500, 329000, 588150, 966687, 816250, 865250, 290000, 290250, 323887, 496500, 381750, 485750, 562487, 495612, 579862, 458112, 350375, 940625, 250350, 826187, 511625, 483875, 541875, 385000, 545000, 712500, 366250, 677375, 789375, 1825000, 525062, 337750, 527625, 1204375, 717281, 608750, 683025, 423562, 526000, 352475, 498500, 971500, 1147750, 453750, 454587, 255200, 471533, 334237, 590625, 813250, 860000, 412750, 1415000, 354750, 389750, 429700, 514275, 406987, 272250, 441362, 509031, 504875, 499250, 824775, 451362, 511750, 447500, 477500, 522000, 550250, 715125, 282125, 795000, 307000, 525987, 438275, 224975, 278950, 620000, 533400, 373125, 966000, 609750, 353250, 266225, 1001000, 672473, 342000, 330850, 584750, 480125, 1130331, 303000, 317875, 591393, 559812, 687000, 1146625, 563500, 357485, 807375, 488090, 1024347, 454487, 1293331, 594345, 447500, 802250, 703547, 651000, 561475, 428737, 802750, 848447, 388375, 387375, 790500, 678004, 541500, 563000, 798019, 314100, 1496250, 500100, 446250, 743475, 489000, 408750, 1528750, 325750, 369875, 496487, 829334, 328500, 366425, 1119347, 908250, 529125, 606187, 351750, 871237, 335315, 419987, 487100, 747487, 610125, 284725, 526033, 1332202, 840110, 406247, 570147, 460975, 2150000, 527411, 356062, 635987, 452124, 426970, 968750, 488113, 374000, 1233247, 883747, 430400, 467350, 559948, 457777, 396725, 518712, 709862, 442187, 359373, 438250, 594362, 316372, 615620, 576652, 365899, 490000, 1050750, 513612, 328875, 347750, 1725750, 610125, 396350, 544975, 1012925, 459220, 375225, 739750, 723875, 706237, 921150, 633675, 320625, 418237, 314125, 395250, 439289, 508500, 292950, 308500, 356372, 566637, 417750, 602500, 456162, 652500, 522375, 567500, 1528750, 881000, 276500, 1097622, 391125, 312875, 469725]\n",
      "0\n"
     ]
    }
   ],
   "source": [
    "rss_all = []\n",
    "\n",
    "for k in range(1, 16):\n",
    "    predictions = kNN_predicted_data(k, features_train, output_train, features_valid)\n",
    "    residuals = output_valid - predictions\n",
    "    RSS_k = (residuals**2).sum()\n",
    "    rss_all.append(RSS_k)\n",
    "    \n",
    "print np.argmin(rss_all)"
   ]
  },
  {
   "cell_type": "code",
   "execution_count": 88,
   "metadata": {
    "collapsed": false
   },
   "outputs": [
    {
     "name": "stdout",
     "output_type": "stream",
     "text": [
      "[71946729679356, 71946729679356, 71946729679356, 71946729679356, 71946729679356, 71946729679356, 71946729679356, 71946729679356, 71946729679356, 71946729679356, 71946729679356, 71946729679356, 71946729679356, 71946729679356, 71946729679356]\n"
     ]
    }
   ],
   "source": [
    "print rss_all"
   ]
  },
  {
   "cell_type": "markdown",
   "metadata": {
    "collapsed": false
   },
   "source": [
    "To visualize the performance as a function of `k`, plot the RSS on the VALIDATION set for each considered `k` value:"
   ]
  },
  {
   "cell_type": "code",
   "execution_count": null,
   "metadata": {
    "collapsed": true
   },
   "outputs": [],
   "source": []
  },
  {
   "cell_type": "code",
   "execution_count": null,
   "metadata": {
    "collapsed": true
   },
   "outputs": [],
   "source": [
    "import matplotlib.pyplot as plt\n",
    "%matplotlib inline\n",
    "\n",
    "kvals = range(1, 16)\n",
    "plt.plot(kvals, rss_all,'bo-')"
   ]
  },
  {
   "cell_type": "markdown",
   "metadata": {},
   "source": [
    "***QUIZ QUESTION ***\n",
    "\n",
    "What is the RSS on the TEST data using the value of k found above?  To be clear, sum over all houses in the TEST set."
   ]
  },
  {
   "cell_type": "code",
   "execution_count": null,
   "metadata": {
    "collapsed": false
   },
   "outputs": [],
   "source": []
  }
 ],
 "metadata": {
  "kernelspec": {
   "display_name": "Python 2",
   "language": "python",
   "name": "python2"
  },
  "language_info": {
   "codemirror_mode": {
    "name": "ipython",
    "version": 2
   },
   "file_extension": ".py",
   "mimetype": "text/x-python",
   "name": "python",
   "nbconvert_exporter": "python",
   "pygments_lexer": "ipython2",
   "version": "2.7.11"
  }
 },
 "nbformat": 4,
 "nbformat_minor": 0
}
